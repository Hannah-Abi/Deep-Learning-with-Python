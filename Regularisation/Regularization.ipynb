{
 "cells": [
  {
   "cell_type": "markdown",
   "id": "0cdbcdb2",
   "metadata": {
    "deletable": false,
    "editable": false,
    "nbgrader": {
     "cell_type": "markdown",
     "checksum": "c29dd2b140eba922e6ee82b9a597c97f",
     "grade": false,
     "grade_id": "cell-5d09d3504f685713",
     "locked": true,
     "schema_version": 3,
     "solution": false,
     "task": false
    }
   },
   "source": [
    "<h1><center>Regularization</center></h1>\n",
    "\n",
    "<br>\n",
    "<center><font size=\"3\">This notebook is a part of teaching material for CS-EJ3311 - Deep Learning with Python</font></center>\n",
    "<center><font size=\"3\">24.10.-11.12.2022</font></center>\n",
    "<center><font size=\"3\">Aalto University & FiTech.io</font></center>"
   ]
  },
  {
   "cell_type": "markdown",
   "id": "20a8ecf4",
   "metadata": {
    "deletable": false,
    "editable": false,
    "nbgrader": {
     "cell_type": "markdown",
     "checksum": "52f0dfa9457cd4b3f3a114ceb679c70c",
     "grade": false,
     "grade_id": "cell-0c52f82665f8597a",
     "locked": true,
     "schema_version": 3,
     "solution": false,
     "task": false
    }
   },
   "source": [
    "Deep learning methods use hypothesis spaces spanned by large parametrized signal flow charts, referred to as artificial neural networks (ANNs). Mathematically, an ANN is nothing but a parametrized non-linear map from input to output. The input of an ANN are the features of a data point, its output is typically the prediction for the label value. The relation (map) between input and output is non-linear and depends on tunable parameters (weights and biases). The parameters of an ANN are tuned or learnt by optimization methods that aim at minimizing the average loss on a training set. \n",
    "\n",
    "A key challenge in deep learning is that the average loss on a training set is not sufficient to guide the tuning of ANN parameters. Indeed, large ANNs have many different parameter configurations that result in a very small (essentially zero) training error. Looking only at the training error does not allow to decide which of these parameter configurations is the best (in terms of performance outside the training set). **Regularization** techniques use additional information, assumptions or constraints that allow to choose between different ANN parameter configurations that result in similar training errors. **Regularization** helps to avoid overfitting the training set and, in turn, to ensure the trained ANN does well on \"new\" data points which are not contained in the training set.\n",
    "\n",
    "\n",
    "A large class of regularization methods rests on an stability or smoothness assumption. This assumption requires the trained ANN to deliver similar predictions for data points with similar feature values. As any regularization technique, also the smoothness assumption can be implemented via each of the three main components of DL. In particular, this notebook teaches you the following regularization strategies: \n",
    "\n",
    "* **data** augmentation: we can augment the training set by cloning data points using slightly perturbed feature values but leave label values untouched. \n",
    "\n",
    "* **model** pruning: we can try to remove non-smooth maps from the hypothesis space, e.g., by placing constraints on the parameter configurations. \n",
    "\n",
    "* **loss** modification: we can add a regularization term to the original average loss on the training error. Examples for such a regularization term are squared Euclidean norm ($L2$ norm) or the $L1$ norm of the ANN parameters. "
   ]
  },
  {
   "cell_type": "code",
   "execution_count": 1,
   "id": "8b6e3817",
   "metadata": {
    "deletable": false,
    "editable": false,
    "nbgrader": {
     "cell_type": "code",
     "checksum": "657c3e144a96024f7fe6332ba9fc08ad",
     "grade": false,
     "grade_id": "cell-9623906a34f424df",
     "locked": true,
     "schema_version": 3,
     "solution": false,
     "task": false
    }
   },
   "outputs": [
    {
     "data": {
      "text/html": [
       "<style>\n",
       "@font-face {\n",
       "  font-family: 'Sanchez';\n",
       "  src: url('https://fonts.googleapis.com/css?family=Sanchez:400italic,400');\n",
       "}\n",
       "\n",
       "@import url('https://fonts.googleapis.com/css2?family=Sanchez&display=swap');\n",
       "\n",
       "* {\n",
       "  margin: 0;\n",
       "  padding: 0;\n",
       "  box-sizing: border-box;\n",
       "}\n",
       "\n",
       "*,\n",
       "*:before,\n",
       "*:after {\n",
       "\tbox-sizing: inherit;\n",
       "}\n",
       "\n",
       "body {\n",
       "font-family: -apple-system, BlinkMacSystemFont, \"Segoe UI\", Roboto, Helvetica,\n",
       "    Arial, sans-serif, \"Apple Color Emoji\", \"Segoe UI Emoji\", \"Segoe UI Symbol\";\n",
       "}\n",
       "\n",
       ".title-container {\n",
       "  text-align: left;\n",
       "}\n",
       "\n",
       ".title {\n",
       "  font-weight: 600;\n",
       "}\n",
       "\n",
       ".subtitle {\n",
       "  margin: 10px 0px;\n",
       "  color: #888888;\n",
       "  font-size: 25px;\n",
       "  transition: all 0.5s;\n",
       "}\n",
       "\n",
       ".main-container {\n",
       "  padding: 15px;\n",
       "}\n",
       "\n",
       ".card-container {\n",
       "  display: flex;\n",
       "  flex-wrap: wrap;\n",
       "  justify-content: space-between;\n",
       "}\n",
       "\n",
       ".card {\n",
       "  margin: 20px;\n",
       "  padding: 20px;\n",
       "  width: 100%;\n",
       "  min-height: 200px;\n",
       "  display: grid;\n",
       "  grid-template-columns: 1fr 1fr 1fr;\n",
       "  gap: 10px;\n",
       "  border-radius: 10px;\n",
       "  box-shadow: 0px 6px 10px rgba(0, 0, 0, 0.25);\n",
       "  transition: all 0.5s;\n",
       "}\n",
       "\n",
       ".card.small {\n",
       "  width: 50%;\n",
       "  min-height: 100px;\n",
       "  grid-template-columns: 1fr 1fr;\n",
       "}\n",
       "\n",
       ".card:hover {\n",
       "  box-shadow: 0px 6px 10px rgba(0, 0, 0, 0.4);\n",
       "  transform: scale(1.01);\n",
       "}\n",
       "\n",
       ".card__title {\n",
       "  grid-columnn-start: 1;\n",
       "  grid-columnn-end: -1;\n",
       "  font-weight: 400;\n",
       "  color: #ffffff;\n",
       "}\n",
       "\n",
       ".test-input {\n",
       "  grid-column-start: 1;\n",
       "  grid-column-end: 2;\n",
       "  color: #40413e;\n",
       "}\n",
       "\n",
       ".test-output {\n",
       "  grid-column-start: 2;\n",
       "  grid-column-end: 3;\n",
       "  color: #40413e;\n",
       "}\n",
       "\n",
       ".test-expected-output {\n",
       "  grid-column-start: 3;\n",
       "  grid-column-end: 4;\n",
       "  color: #40413e;\n",
       "}\n",
       "\n",
       ".card-failure {\n",
       "  background: radial-gradient(#fbc1cc, #fa99b2);\n",
       "}\n",
       "\n",
       ".card-failure .card__title::before {\n",
       "    display: inline-block;\n",
       "    margin-right: 5px;\n",
       "    font-style: normal;\n",
       "    font-variant: normal;\n",
       "    text-rendering: auto;\n",
       "    -webkit-font-smoothing: antialiased;\n",
       "    font-family: \"Font Awesome 5 Free\";\n",
       "    font-weight: 900;\n",
       "    content: \"\\f057\";\n",
       "}\n",
       "\n",
       ".card-success {\n",
       "  background: radial-gradient(#60efbc, #58d5c9);\n",
       "}\n",
       "\n",
       ".card-success .card__title::before {\n",
       "    display: inline-block;\n",
       "    margin-right: 5px;\n",
       "    font-style: normal;\n",
       "    font-variant: normal;\n",
       "    text-rendering: auto;\n",
       "    -webkit-font-smoothing: antialiased;\n",
       "    font-family: \"Font Awesome 5 Free\";\n",
       "    font-weight: 900;\n",
       "    content: \"\\f058\";\n",
       "}\n",
       "\n",
       ".card-info {\n",
       "  background: radial-gradient(#1fe4f5, #3fbafe);\n",
       "}\n",
       "\n",
       "@media (max-width: 1600px) {\n",
       "  .card-container {\n",
       "    justify-content: center;\n",
       "  }\n",
       "}\n",
       "\n",
       ".code-block {\n",
       "  padding: 5px;\n",
       "  background-color: #f3f7f7;\n",
       "  color: black;\n",
       "  border-radius: 10px;\n",
       "  box-shadow: 0px 6px 10px rgba(0, 0, 0, 0.25);\n",
       "}\n",
       "\n",
       "details {\n",
       "\tfont-size: 1rem;\n",
       "\tbox-shadow: 0 10px 15px -5px rgba(0, 0, 0, 0.1),\n",
       "\t\t0 10px 10px -5px rgba(0, 0, 0, 0.04);\n",
       "\twidth: 100%;\n",
       "\tbackground: #ffffff;\n",
       "\tborder-radius: 10px;\n",
       "\tposition: relative;\n",
       "}\n",
       "\n",
       "details:hover {\n",
       "    cursor: pointer;\n",
       "}\n",
       "\n",
       ".summary-title {\n",
       "    user-select: none;\n",
       "    margin-left: 5px;\n",
       "}\n",
       "\n",
       ".summary-content {\n",
       "    border: 2px solid #0C7B89;\n",
       "    cursor: default;\n",
       "    padding: 1em;\n",
       "    font-weight: 300;\n",
       "    font-size: 15px;\n",
       "    line-height: 1.5;\n",
       "}\n",
       "\n",
       ".wrap-up {\n",
       "    border: 2px solid #B41086;\n",
       "    cursor: default;\n",
       "    padding: 20px;\n",
       "    line-height: 1.5;\n",
       "    border-radius: 20px\n",
       "}\n",
       "\n",
       ".wrap-up-title {\n",
       "    font-size:20px;\n",
       "    color: #B41086;\n",
       "    font-weight: bold\n",
       "}\n",
       "\n",
       ".wrap-up-content {\n",
       "    font-size:14px;\n",
       "    color: black;\n",
       "}\n",
       "\n",
       ".info {\n",
       "    background-color: white;\n",
       "    border: 2px solid #0C7B89;\n",
       "    cursor: default;\n",
       "    padding: 10px;\n",
       "    line-height: 1.5;\n",
       "    border-radius: 20px\n",
       "}\n",
       "\n",
       ".info-title {\n",
       "    font-size: 20px;\n",
       "    color: #0C7B89;\n",
       "    font-weight: bold\n",
       "}\n",
       "\n",
       "summary {\n",
       "   color: white;\n",
       "   font-size: large;\n",
       "   font-weight: bold;\n",
       "   padding: 1em;\n",
       "   background-color: #0C7B89;\n",
       "   border-radius: 8px;\n",
       "   list-style: none;\n",
       "}\n",
       "\n",
       "details[open] summary {\n",
       "    border-radius: 8px 8px 0 0;\n",
       "}\n",
       "\n",
       "details[open] summary::before {\n",
       "  transform: rotate(90deg);\n",
       "  font-family: \"Font Awesome 5 Free\";\n",
       "  padding-right: 5px;\n",
       "}\n",
       "\n",
       "details summary::before {\n",
       "  position: absolute;\n",
       "  will-change: transform;\n",
       "  transition: transform 300ms ease;\n",
       "  font-family: \"Font Awesome 5 Free\";\n",
       "  color: #fff;\n",
       "  font-size: 1.1rem;\n",
       "  content: \"\\f105\";\n",
       "  left: 0;\n",
       "  display: inline-block;\n",
       "  width: 1.6rem;\n",
       "  text-align: center;\n",
       "  padding-right: 5px;\n",
       "}\n",
       "\n",
       "summary:focus {\n",
       "  outline: none;\n",
       "}\n",
       "\n",
       "summary::-webkit-details-marker {\n",
       "    display: none;\n",
       "}\n",
       "\n",
       ".ludwig {\n",
       "  position: relative;\n",
       "  padding-left: 1em;\n",
       "  border-left: 0.2em solid lighten( hsl(200, 40, 10), 40%);\n",
       "  font-family: 'Roboto', serif;\n",
       "  font-size: 1.3em;\n",
       "  line-height: 1.5em;\n",
       "  font-weight: 100;\n",
       "}\n",
       "\n",
       ".ludwig::before, .ludwig::after {\n",
       "  content: '\\201C';\n",
       "  font-family: 'Sanchez';\n",
       "  color: lighten( hsl(200, 40, 10), 40%);\n",
       "}\n",
       "\n",
       ".ludwig::after {\n",
       "  content: '\\201D';\n",
       "}\n",
       "\n",
       ".blockquote-container {\n",
       "  margin: 2em auto;\n",
       "}\n",
       "\n",
       "blockquote {\n",
       "  margin-bottom: 3em;\n",
       "}\n",
       "\n",
       "</style>"
      ],
      "text/plain": [
       "<IPython.core.display.HTML object>"
      ]
     },
     "execution_count": 1,
     "metadata": {},
     "output_type": "execute_result"
    }
   ],
   "source": [
    "from utils import load_styles\n",
    "\n",
    "# This MUST be the last line of this cell\n",
    "load_styles()"
   ]
  },
  {
   "cell_type": "markdown",
   "id": "67dc9baa",
   "metadata": {
    "deletable": false,
    "editable": false,
    "nbgrader": {
     "cell_type": "markdown",
     "checksum": "63e0b8ba4682e6e175de31aa2dee28f0",
     "grade": false,
     "grade_id": "cell-84024cac19e49a13",
     "locked": true,
     "schema_version": 3,
     "solution": false,
     "task": false
    }
   },
   "source": [
    "## Learning goals\n",
    "\n",
    "\n",
    "In this notebook, you will learn \n",
    "\n",
    "* how to implement regularization by data augmentation\n",
    "* how one can use regularization to (smoothly) decrease the size of hypothesis space\n",
    "* how to implement regularization by adding a penalty term to the loss function\n",
    "\n",
    "\n",
    "## Additional  Reading\n",
    "\n",
    "- Chapter 5.4 \"Improving generalization\" of \"Deep Learning with Python\" by F.Chollet. \n",
    "- Chapter 11 \"Avoiding Overfitting Through Regularization\" of \"Hands-On Machine Learning with Scikit-Learn, Keras, and TensorFlow\" by Aurélien Géron. \n",
    "- Chapter 7 of A.Jung, [\"Machine Learning: The Basics,\"](https://github.com/alexjungaalto/MachineLearningTheBasics/blob/master/MLBasicsBook.pdf) Springer, Sinagpore 2022. "
   ]
  },
  {
   "cell_type": "markdown",
   "id": "2f79f25d",
   "metadata": {
    "deletable": false,
    "editable": false,
    "nbgrader": {
     "cell_type": "markdown",
     "checksum": "b2036bed8ff6b133d36a67414d479f77",
     "grade": false,
     "grade_id": "cell-08988fd51fbf504a",
     "locked": true,
     "schema_version": 3,
     "solution": false,
     "task": false
    }
   },
   "source": [
    "<h1><center> Data augmentation  </center></h1>\n",
    "\n",
    "Consider a basic deep learning setup, where we train ANN parameters by minimizing its average loss on a training set consisting of $m$ labeled data points. Let us assume that we can measure the size of the hypothesis space spanned by the ANN using some number $d_{\\rm eff}$ that we might refer to as **effective dimension**. As a rule of thumb (cf. alex.jung@aalto.fi), the ANN training will be successful (not overfit) as soon as \n",
    "\n",
    "\n",
    "$$ m \\geq 10 d_{\\rm eff}. (Alex's RuleOfThumb) $$\n",
    "\n",
    "One way to combat overfitting is to collect more (raw) data points to increase $m$. However, this is not always feasible, be it due to budget constraints (need to pay people to label the data) or time constraints. Data augmentation generates new data points synthetically, avoiding the need for collecting new raw data. The idea is to exploit known symmetries in the features and labels of data points. As a case in point, consider the problem of detecting the presence of an object in an image. Here, we can generated new labeled images by rotating, cropping or changing pixel values slightly, since these don't change the class. Loosely speaking, \"a rotated cat image is still showing a cat\". "
   ]
  },
  {
   "cell_type": "markdown",
   "id": "bbc4ba12",
   "metadata": {
    "deletable": false,
    "editable": false,
    "nbgrader": {
     "cell_type": "markdown",
     "checksum": "e17c3e9d6f93b057f93ee8f66daf0608",
     "grade": false,
     "grade_id": "cell-4529854767e5099f",
     "locked": true,
     "schema_version": 3,
     "solution": false,
     "task": false
    }
   },
   "source": [
    "<div class=\"info\">\n",
    "    <div  class=\"info-title\"><i class=\"fa fa-info-circle\" aria-hidden=\"true\"></i>&nbsp; Info</div><br>\n",
    "    <div class=\"wrap-up-content\">\n",
    "        <b>The effective dimension</b> of an infinite hypothesis space is a measure of its size. Loosely speaking, the effective dimension is equal to the number of \"independent\" tunable parameters of the model. These parameters might be the coefficients used in a linear map or the weights and bias terms of an ANN.\n",
    "    </div>\n",
    "</div>"
   ]
  },
  {
   "cell_type": "code",
   "execution_count": 5,
   "id": "23ece4d9",
   "metadata": {
    "deletable": false,
    "editable": false,
    "nbgrader": {
     "cell_type": "code",
     "checksum": "f7ca378729a88bf0a63c65d12197f1e1",
     "grade": false,
     "grade_id": "cell-9e595cb0747fca37",
     "locked": true,
     "schema_version": 3,
     "solution": false,
     "task": false
    }
   },
   "outputs": [],
   "source": [
    "import pandas as pd\n",
    "import numpy as np                    # library for numerical computations (vectors, matrices, tensors)\n",
    "import matplotlib.pyplot as plt       # library providing tools for plotting data \n",
    "import tensorflow as tf               # open source library for deep learning\n",
    "from tensorflow import keras          # library providing methods for defining and training ANN \n",
    "from tensorflow.keras import layers, regularizers \n",
    "from math import isclose\n",
    "\n",
    "np.random.seed(1)\n",
    "tf.random.set_seed(1)"
   ]
  },
  {
   "cell_type": "code",
   "execution_count": 6,
   "id": "f8373414",
   "metadata": {
    "deletable": false,
    "editable": false,
    "nbgrader": {
     "cell_type": "code",
     "checksum": "42704be8a85f180106735777806b1169",
     "grade": false,
     "grade_id": "cell-53d0acd260c41939",
     "locked": true,
     "schema_version": 3,
     "solution": false,
     "task": false
    }
   },
   "outputs": [],
   "source": [
    "# set trainig = False when validating or submitting notebook\n",
    "# and set training = True, when training network\n",
    "training=True"
   ]
  },
  {
   "cell_type": "code",
   "execution_count": 7,
   "id": "d223017c",
   "metadata": {
    "deletable": false,
    "editable": false,
    "nbgrader": {
     "cell_type": "code",
     "checksum": "78e32c0b41abe42af42f7f3942d6b399",
     "grade": true,
     "grade_id": "cell-ded5c81a61c805ba",
     "locked": true,
     "points": 0,
     "schema_version": 3,
     "solution": false,
     "task": false
    }
   },
   "outputs": [],
   "source": [
    "# this is a hidden cell to set training=False\n"
   ]
  },
  {
   "cell_type": "markdown",
   "id": "3f850469",
   "metadata": {
    "deletable": false,
    "editable": false,
    "nbgrader": {
     "cell_type": "markdown",
     "checksum": "0c575a5be483107f63368bc65af9fed0",
     "grade": false,
     "grade_id": "cell-6b8af07969d4ed56",
     "locked": true,
     "schema_version": 3,
     "solution": false,
     "task": false
    }
   },
   "source": [
    "In this notebook we use the subset of [Fashion-MNIST ](https://www.tensorflow.org/datasets/catalog/fashion_mnist) dataset:"
   ]
  },
  {
   "cell_type": "code",
   "execution_count": 8,
   "id": "500ba97d",
   "metadata": {
    "deletable": false,
    "editable": false,
    "nbgrader": {
     "cell_type": "code",
     "checksum": "f6e711a589e3215185bc75dd0f430cea",
     "grade": false,
     "grade_id": "cell-fa16a7540e003a4b",
     "locked": true,
     "schema_version": 3,
     "solution": false,
     "task": false
    }
   },
   "outputs": [
    {
     "name": "stdout",
     "output_type": "stream",
     "text": [
      "Downloading data from https://storage.googleapis.com/tensorflow/tf-keras-datasets/train-labels-idx1-ubyte.gz\n",
      "32768/29515 [=================================] - 0s 0us/step\n",
      "40960/29515 [=========================================] - 0s 0us/step\n",
      "Downloading data from https://storage.googleapis.com/tensorflow/tf-keras-datasets/train-images-idx3-ubyte.gz\n",
      "26427392/26421880 [==============================] - 0s 0us/step\n",
      "26435584/26421880 [==============================] - 0s 0us/step\n",
      "Downloading data from https://storage.googleapis.com/tensorflow/tf-keras-datasets/t10k-labels-idx1-ubyte.gz\n",
      "16384/5148 [===============================================================================================] - 0s 0us/step\n",
      "Downloading data from https://storage.googleapis.com/tensorflow/tf-keras-datasets/t10k-images-idx3-ubyte.gz\n",
      "4423680/4422102 [==============================] - 0s 0us/step\n",
      "4431872/4422102 [==============================] - 0s 0us/step\n",
      "Number of training and validation examples (60000, 28, 28)\n",
      "Number of test examples (10000, 28, 28)\n"
     ]
    }
   ],
   "source": [
    "import ssl\n",
    "ssl._create_default_https_context = ssl._create_unverified_context\n",
    "\n",
    "# load dataset\n",
    "from tensorflow.keras.datasets import fashion_mnist\n",
    "(trainval_images, trainval_labels), (test_images, test_labels) = fashion_mnist.load_data()\n",
    "\n",
    "# shape of train and test image\n",
    "print(f'Number of training and validation examples {trainval_images.shape}')\n",
    "print(f'Number of test examples {test_images.shape}')"
   ]
  },
  {
   "cell_type": "code",
   "execution_count": 9,
   "id": "ddaa47ec",
   "metadata": {
    "deletable": false,
    "editable": false,
    "nbgrader": {
     "cell_type": "code",
     "checksum": "fef9e1afbaf0f89e5ed8b7537b96ee1f",
     "grade": false,
     "grade_id": "cell-4d841dca9105b7e3",
     "locked": true,
     "schema_version": 3,
     "solution": false,
     "task": false
    }
   },
   "outputs": [],
   "source": [
    "# select subset of trainval_images and trainval_labels\n",
    "X_trainval = trainval_images[:16000]\n",
    "y_trainval = trainval_labels[:16000]\n",
    "\n",
    "# select whole test set\n",
    "X_test = test_images\n",
    "y_test = test_labels"
   ]
  },
  {
   "cell_type": "code",
   "execution_count": 10,
   "id": "796c669e",
   "metadata": {
    "deletable": false,
    "editable": false,
    "nbgrader": {
     "cell_type": "code",
     "checksum": "765d50b3d42c5be01cd170049cb49543",
     "grade": false,
     "grade_id": "cell-cb3ed5d2770cec8f",
     "locked": true,
     "schema_version": 3,
     "solution": false,
     "task": false
    }
   },
   "outputs": [],
   "source": [
    "# flatten 2D image to 1D feature vector \n",
    "X_trainval = X_trainval.reshape(-1, 28 * 28)\n",
    "X_test = test_images.reshape(-1, 28 * 28)"
   ]
  },
  {
   "cell_type": "code",
   "execution_count": 11,
   "id": "6f7d711a",
   "metadata": {
    "deletable": false,
    "editable": false,
    "nbgrader": {
     "cell_type": "code",
     "checksum": "de8a43caf233efdb61962decabace322",
     "grade": false,
     "grade_id": "cell-cceae7b49f4df17a",
     "locked": true,
     "schema_version": 3,
     "solution": false,
     "task": false
    }
   },
   "outputs": [],
   "source": [
    "# Normalize data to have feature values between 0 and 1\n",
    "X_trainval = X_trainval/ 255.0\n",
    "X_test = X_test/ 255.0"
   ]
  },
  {
   "cell_type": "markdown",
   "id": "149acd39",
   "metadata": {
    "deletable": false,
    "editable": false,
    "nbgrader": {
     "cell_type": "markdown",
     "checksum": "2643f9706f27b5546ec877136f77ee0e",
     "grade": false,
     "grade_id": "cell-4e716c109ef59c78",
     "locked": true,
     "schema_version": 3,
     "solution": false,
     "task": false
    }
   },
   "source": [
    "<a id='St1'></a>\n",
    "<div class=\" alert alert-warning\">\n",
    "    <h3><b>Student task.</b> Build \"base\" ANN without regularization.</h3>  \n",
    "    \n",
    "    \n",
    "Your task is to build (we will do compiling and training model later) a following ANN for **Fashion-MNIST classification dataset**:\n",
    "    \n",
    "- Dense layer with 128 units and ReLU activation, input_shape=(784,)\n",
    "- Dense layer with 64 units and ReLU activation\n",
    "- Dense layer with 32 units and ReLU activation\n",
    "- Dense output layer with 10 units and softmax activation function   \n",
    "</div>\n",
    "\n",
    "Note: Ignore warning \"This TensorFlow binary is optimized with oneAPI ...\""
   ]
  },
  {
   "cell_type": "code",
   "execution_count": 14,
   "id": "e7b4fc95",
   "metadata": {
    "deletable": false,
    "nbgrader": {
     "cell_type": "code",
     "checksum": "5e2c21c1bd54d5aa58e47a354bc773d4",
     "grade": false,
     "grade_id": "cell-c3785933d1fed4d7",
     "locked": false,
     "schema_version": 3,
     "solution": true,
     "task": false
    }
   },
   "outputs": [],
   "source": [
    "# YOUR CODE HERE\n",
    "#raise NotImplementedError()\n",
    "model_base = keras.Sequential([\n",
    "    # hidden layer\n",
    "    layers.Dense(128, activation = 'relu', input_shape = (784,)),\n",
    "    layers.Dense(64, activation = 'relu'),\n",
    "    layers.Dense(32,  activation = 'relu'),\n",
    "    # output layer \n",
    "    layers.Dense(10, activation = 'softmax')\n",
    "])"
   ]
  },
  {
   "cell_type": "code",
   "execution_count": 15,
   "id": "93cb682c",
   "metadata": {
    "deletable": false,
    "editable": false,
    "nbgrader": {
     "cell_type": "code",
     "checksum": "0e613be0ca756cc6e70fd9db58f6d535",
     "grade": false,
     "grade_id": "cell-e97b3912fc5d64af",
     "locked": true,
     "schema_version": 3,
     "solution": false,
     "task": false
    }
   },
   "outputs": [
    {
     "name": "stdout",
     "output_type": "stream",
     "text": [
      "Sanity checks passed!\n"
     ]
    }
   ],
   "source": [
    "# Perform some sanity checks on the solution\n",
    "assert len(model_base.layers) == 4, \"There should be 4 layers!\"\n",
    "assert model_base.layers[0].input_shape[1:] == (784,), \"Input shape is wrong\"\n",
    "assert model_base.layers[0].output_shape[1:] == (128,), \"Output shape is wrong\"\n",
    "\n",
    "print(\"Sanity checks passed!\")"
   ]
  },
  {
   "cell_type": "code",
   "execution_count": 16,
   "id": "3face479",
   "metadata": {
    "deletable": false,
    "editable": false,
    "nbgrader": {
     "cell_type": "code",
     "checksum": "17a0649402d3ca3541d46e28588fb076",
     "grade": true,
     "grade_id": "cell-fb4d2f9d44312516",
     "locked": true,
     "points": 1,
     "schema_version": 3,
     "solution": false,
     "task": false
    }
   },
   "outputs": [],
   "source": [
    "# this cell is for tests\n"
   ]
  },
  {
   "cell_type": "markdown",
   "id": "2db40d6d",
   "metadata": {
    "deletable": false,
    "editable": false,
    "nbgrader": {
     "cell_type": "markdown",
     "checksum": "9b03daee22ee066d4493978bf1cb02fc",
     "grade": false,
     "grade_id": "cell-9279793ee15c1a49",
     "locked": true,
     "schema_version": 3,
     "solution": false,
     "task": false
    }
   },
   "source": [
    "<a id='St1'></a>\n",
    "<div class=\" alert alert-info\">\n",
    "    <h3><b>Demo.</b> Data augmentation: Image rotation and flip.</h3>  \n",
    "\n",
    "Here we implement data augmentation technique for images by rotating and flipping original images.\n",
    "\n",
    "We will use Keras [Image augmentation layers](https://keras.io/api/layers/preprocessing_layers/image_augmentation/) `RandomFlip` and `RandomRotation`.\n",
    "    \n",
    "`RandomFlip` layer flips an image horizontally, vertically or both, according to its argument `mode` (takes strings \"horizontal\", \"vertical\", or \"horizontal_and_vertical\" as input).\n",
    "    \n",
    "`RandomRotation` layer rotates image by a random angle defined by argument `factor`. For example, `factor=0.2` results in an output rotating by a random amount in the range `[-20% * 2pi, 20% * 2pi]`.\n",
    "</div>"
   ]
  },
  {
   "cell_type": "code",
   "execution_count": 17,
   "id": "dfcfe1ac",
   "metadata": {
    "deletable": false,
    "editable": false,
    "nbgrader": {
     "cell_type": "code",
     "checksum": "fc267d444dfa19ebd08cd993bbae1a93",
     "grade": false,
     "grade_id": "cell-00c110c7a0b9d2ab",
     "locked": true,
     "schema_version": 3,
     "solution": false,
     "task": false
    }
   },
   "outputs": [
    {
     "data": {
      "image/png": "[encoded data removed]",
      "text/plain": [
       "<Figure size 432x288 with 2 Axes>"
      ]
     },
     "metadata": {
      "needs_background": "light"
     },
     "output_type": "display_data"
    }
   ],
   "source": [
    "# create data augmentation layer\n",
    "data_aug_layer = tf.keras.Sequential([\n",
    "            # input is a 3D array - image (hight, width, channels)\n",
    "            layers.RandomFlip(\"horizontal\", input_shape=(28, 28, 1), seed=42),\n",
    "            layers.RandomRotation(0.1, seed=42),\n",
    "            ])\n",
    "\n",
    "# select first data point of the test set \n",
    "# reshape to (n.o. samples, hight, width, channels)\n",
    "X_no_aug = X_test[0].reshape(1, 28, 28, 1)\n",
    "# apply data augmentation to selected image\n",
    "X_aug    = data_aug_layer(X_no_aug)\n",
    "\n",
    "fig, ax = plt.subplots(1,2)\n",
    "ax[0].imshow(X_no_aug[0], cmap='binary') \n",
    "ax[1].imshow(X_aug[0], cmap='binary') \n",
    "plt.show()"
   ]
  },
  {
   "cell_type": "code",
   "execution_count": 19,
   "id": "e7ea6dff",
   "metadata": {
    "deletable": false,
    "editable": false,
    "nbgrader": {
     "cell_type": "code",
     "checksum": "8389a10a520efdbc9dfa655dde8ca860",
     "grade": false,
     "grade_id": "cell-88c13bfe629d6ceb",
     "locked": true,
     "schema_version": 3,
     "solution": false,
     "task": false
    }
   },
   "outputs": [],
   "source": [
    "# add data augmentation layer to the model\n",
    "model_data_aug = keras.Sequential([\n",
    "            data_aug_layer,\n",
    "            # flatten input as the output of data_aug_layer is of shape (n.o. samples, hight, width, channels)\n",
    "            # and for Dense layers we need shape (n.o. samples, features)\n",
    "            layers.Flatten(),\n",
    "            layers.Dense(128, activation='relu'),\n",
    "            layers.Dense(64, activation='relu'),\n",
    "            layers.Dense(32, activation='relu'),\n",
    "            layers.Dense(10, activation='softmax')\n",
    "            ])"
   ]
  },
  {
   "cell_type": "markdown",
   "id": "1adba9f6",
   "metadata": {
    "deletable": false,
    "editable": false,
    "nbgrader": {
     "cell_type": "markdown",
     "checksum": "f3536976e558254fc3cc8dec3a5ed8c3",
     "grade": false,
     "grade_id": "cell-53fa3fea78b348d1",
     "locked": true,
     "schema_version": 3,
     "solution": false,
     "task": false
    }
   },
   "source": [
    "<a id='St1'></a>\n",
    "<div class=\" alert alert-info\">\n",
    "    <h3><b>Demo.</b> Data augmentation: Adding Gaussian noise to the image.</h3>  \n",
    "\n",
    "Data augmentation can be applied to the data types other than images by slighly disturbing original feature values, i.e. by adding some noise to the original data.\n",
    "    \n",
    "Below, we add Gaussian noise by using [GaussianNoise](https://keras.io/api/layers/regularization_layers/gaussian_noise/) layer. The argument `stddev` is a float value defining standard deviation of the noise distribution.\n",
    "    \n",
    "GaussianNoise layer is only active at a training time, thus we need to set argument `training=True` in order to add noise to the image and plot the result.\n",
    "</div>"
   ]
  },
  {
   "cell_type": "code",
   "execution_count": 20,
   "id": "f3f3b09f",
   "metadata": {
    "deletable": false,
    "editable": false,
    "nbgrader": {
     "cell_type": "code",
     "checksum": "5fd2fc0c71acce448c6b4c34845a1998",
     "grade": false,
     "grade_id": "cell-f52780a576fb3c39",
     "locked": true,
     "schema_version": 3,
     "solution": false,
     "task": false
    }
   },
   "outputs": [
    {
     "data": {
      "image/png": "[encoded data removed]",
      "text/plain": [
       "<Figure size 432x288 with 2 Axes>"
      ]
     },
     "metadata": {
      "needs_background": "light"
     },
     "output_type": "display_data"
    }
   ],
   "source": [
    "# create data augmentation layer\n",
    "noise_layer = tf.keras.Sequential([\n",
    "            layers.GaussianNoise(stddev=0.01, input_shape=(784,))\n",
    "            ])\n",
    "\n",
    "# select first data point of the test set and reshape (for plotting)\n",
    "X_no_noise = X_test[0].reshape(28, 28, 1)\n",
    "# apply data augmentation to the first data point of the test set\n",
    "X_noise = noise_layer(X_test[0], training=True)\n",
    "# reshape (for plotting)\n",
    "X_noise = X_noise.numpy().reshape(28, 28, 1)\n",
    "\n",
    "fig, ax = plt.subplots(1,2)\n",
    "ax[0].imshow(X_no_noise, cmap='binary') \n",
    "ax[1].imshow(X_noise, cmap='binary') \n",
    "\n",
    "plt.show()"
   ]
  },
  {
   "cell_type": "code",
   "execution_count": 21,
   "id": "bd9df30a",
   "metadata": {
    "deletable": false,
    "editable": false,
    "nbgrader": {
     "cell_type": "code",
     "checksum": "c83c89de546827666adca3b02cbd8a5b",
     "grade": false,
     "grade_id": "cell-3e21aba96b44748a",
     "locked": true,
     "schema_version": 3,
     "solution": false,
     "task": false
    }
   },
   "outputs": [],
   "source": [
    "# add data augmentation layer to the model\n",
    "model_noise = keras.Sequential([\n",
    "            # add GaussianNoise layer\n",
    "            noise_layer,\n",
    "            layers.Dense(128, activation='relu'),\n",
    "            layers.Dense(64, activation='relu'),\n",
    "            layers.Dense(32, activation='relu'),\n",
    "            layers.Dense(10, activation='softmax')\n",
    "            ])"
   ]
  },
  {
   "cell_type": "markdown",
   "id": "13e7ce64",
   "metadata": {
    "deletable": false,
    "editable": false,
    "nbgrader": {
     "cell_type": "markdown",
     "checksum": "8e40325b5ad0522b2874bb49417e7761",
     "grade": false,
     "grade_id": "cell-a8a9a6a925d004f5",
     "locked": true,
     "schema_version": 3,
     "solution": false,
     "task": false
    }
   },
   "source": [
    "## Dropout\n",
    "\n",
    "Data augmentation methods perturb features or labels of existing data points to obtain new (synthetic) data points. These perturbations include geometric transformations for image data or adding small amounts of noise to features of the data points. Dropout is another example for a perturbation technique that is well-suited for the training of ANNs. Instead of manipulating the features of a data point, dropout perturbs the activations of an ANN (i.e. output of the hidden neurons). In particular, as its name suggests, dropout randomly chooses a subset of neurons whose output is set to zero. As explained in the paper by X. Bouthillier, K. Konda, P. Vincent, R. Memisevic  \"Dropout as data augmentation\":\n",
    "\n",
    "<blockquote>\n",
    "Dropout is interpreted as bagging a large number of models sharing parameters. We show that using dropout in a network can also be interpreted as a kind of data augmentation in the input space without domain knowledge. We present an approach to projecting the dropout noise within a network back into the input space, thereby generating augmented versions of the training data, and we show that training a deterministic network on the augmented samples yields similar results. Finally, we propose a new dropout noise scheme based on our observations and show that it improves dropout results without adding significant computational cost.\n",
    "</blockquote>\n",
    "\n",
    "<img src=\"../../../coursedata/Regularization/dropout.png\" />\n",
    "\n",
    "More about dropout in [Andrew Ng video](https://www.youtube.com/watch?v=D8PJAL-MZv8)."
   ]
  },
  {
   "cell_type": "markdown",
   "id": "1353473a",
   "metadata": {
    "deletable": false,
    "editable": false,
    "nbgrader": {
     "cell_type": "markdown",
     "checksum": "3b9be4b99a01d2cdf7dac1c8145a9b49",
     "grade": false,
     "grade_id": "cell-eca21715a3844334",
     "locked": true,
     "schema_version": 3,
     "solution": false,
     "task": false
    }
   },
   "source": [
    "<a id='St1'></a>\n",
    "<div class=\" alert alert-info\">\n",
    "    <h3><b>Demo.</b>  Data augmentation: ANN with Dropout Layers.</h3>  \n",
    "\n",
    "In Keras, dropout technique is implemented with [`Dropout` layer](https://keras.io/api/layers/regularization_layers/dropout/). The `Dropout` layer randomly sets its input units to 0 with a frequency defined by arg `rate` at each step during training time, which helps prevent overfitting. Inputs not set to 0 are scaled up by 1/(1 - `rate`) such that the sum over all inputs is unchanged.\n",
    "\n",
    "Note that the Dropout layer only applies during training (when using `model.fit()`), but not during inference (when using `model.evaluate()`).\n",
    "</div>"
   ]
  },
  {
   "cell_type": "code",
   "execution_count": 22,
   "id": "df7b2f55",
   "metadata": {
    "deletable": false,
    "editable": false,
    "nbgrader": {
     "cell_type": "code",
     "checksum": "25e027421a7d7d8a868d21564b88fc1d",
     "grade": false,
     "grade_id": "cell-1bc08c9099afdfb7",
     "locked": true,
     "schema_version": 3,
     "solution": false,
     "task": false
    }
   },
   "outputs": [],
   "source": [
    "# rate arg: Float between 0 and 1. Fraction of the input units to drop\n",
    "drate = 0.1\n",
    "\n",
    "model_dropout = keras.Sequential([\n",
    "    layers.Dense(128, activation='relu',input_shape=(784,)),\n",
    "    layers.Dropout(drate),\n",
    "    layers.Dense(64, activation='relu'),\n",
    "    layers.Dropout(drate),\n",
    "    layers.Dense(32, activation='relu'),\n",
    "    layers.Dropout(drate),\n",
    "    layers.Dense(10, activation='softmax')\n",
    "])"
   ]
  },
  {
   "cell_type": "markdown",
   "id": "c624d9a3",
   "metadata": {
    "deletable": false,
    "editable": false,
    "nbgrader": {
     "cell_type": "markdown",
     "checksum": "155921ac619650517240cf99e29dfd24",
     "grade": false,
     "grade_id": "cell-ddb3fc1b47bc8701",
     "locked": true,
     "schema_version": 3,
     "solution": false,
     "task": false
    }
   },
   "source": [
    "<a id='St1'></a>\n",
    "<div class=\" alert alert-warning\">\n",
    "    <h3><b>Student task.</b> Compile and Train ANNs.</h3>  \n",
    "\n",
    "Use models from a list `models` and Fashion-MNIST dataset to classify 28x28 pixels grayscale images into 10 different classes, corresponding to specific fashion item:\n",
    "\n",
    "- For each model in a list `models` (models' architectures were defined above), compile and train the model. \n",
    "- Use optimizer - RMSprop, loss - `sparse_categorical_crossentropy` and  metrics -  `sparse_categorical_accuracy`. \\\n",
    "Training parameters: `history = model.fit(X_trainval, y_trainval, validation_split=0.2, batch_size=32, epochs=20)`.\n",
    " \n",
    "- Store history object for each model in a list `history_log`. \n",
    "- Save trained model as `model_name_here.h5`. Corresponding model names are retrieved from `model_names` list.\n",
    "    \n",
    "Note, that for the model `model_data_aug` the shape of the input should be $(m,28,28,1)$, i.e. reshape input features to (-1,28,28,1).\n",
    "</div>"
   ]
  },
  {
   "cell_type": "markdown",
   "id": "e2f223d7",
   "metadata": {
    "deletable": false,
    "editable": false,
    "nbgrader": {
     "cell_type": "markdown",
     "checksum": "7d267d3392672b170d852ba22c48b952",
     "grade": false,
     "grade_id": "cell-6b7ff27608c0a4b3",
     "locked": true,
     "schema_version": 3,
     "solution": false,
     "task": false
    }
   },
   "source": [
    "<div class=\" alert alert-danger\">\n",
    "    <h3 align='center'>Test accuracy should be $\\geq$ 0.80 for all models.</h3>\n",
    "</div>"
   ]
  },
  {
   "cell_type": "code",
   "execution_count": 23,
   "id": "9603a991",
   "metadata": {
    "deletable": false,
    "nbgrader": {
     "cell_type": "code",
     "checksum": "04d8cd79cb1d243516d402d420bdbbf9",
     "grade": false,
     "grade_id": "cell-bfbf4cdbf0509638",
     "locked": false,
     "schema_version": 3,
     "solution": true,
     "task": false
    }
   },
   "outputs": [
    {
     "name": "stderr",
     "output_type": "stream",
     "text": [
      "2022-11-26 15:38:41.514544: I tensorflow/compiler/mlir/mlir_graph_optimization_pass.cc:185] None of the MLIR Optimization Passes are enabled (registered 2)\n"
     ]
    }
   ],
   "source": [
    "# list of ANNs without and with data augmentation\n",
    "models = [model_base, model_data_aug, model_noise, model_dropout]\n",
    "\n",
    "# use this list when saving model\n",
    "model_names = ['model_base', 'model_data_aug', 'model_noise', 'model_dropout']\n",
    "\n",
    "# list to store training history\n",
    "history_log = []\n",
    "\n",
    "if training:\n",
    "    # YOUR CODE HERE\n",
    "    #raise NotImplementedError()\n",
    "    # loop through `model_names`  and `models` lists to get model name and model itself\n",
    "    # for ... in ...\n",
    "    for i in range(0, len(models)): \n",
    "        models[i].compile(optimizer='RMSprop',\n",
    "              loss='sparse_categorical_crossentropy',\n",
    "              metrics='sparse_categorical_accuracy')\n",
    "        if model_names[i] == 'model_data_aug':\n",
    "            history = models[i].fit(X_trainval.reshape(-1,28,28,1), y_trainval, validation_split=0.2, batch_size=32, epochs=20, verbose=0)\n",
    "        else:\n",
    "            history = models[i].fit(X_trainval, y_trainval, validation_split=0.2, batch_size=32, epochs=20, verbose=0)\n",
    "        models[i].save('{model_name}.h5'.format(model_name = model_names[i]))\n",
    "        history_log.append(history)\n",
    "            \n",
    "else:\n",
    "    model_base     = tf.keras.models.load_model(\"model_base.h5\")\n",
    "    model_data_aug = tf.keras.models.load_model(\"model_data_aug.h5\")\n",
    "    model_noise    = tf.keras.models.load_model(\"model_noise.h5\")\n",
    "    model_dropout  = tf.keras.models.load_model(\"model_dropout.h5\")"
   ]
  },
  {
   "cell_type": "code",
   "execution_count": 24,
   "id": "2ce0216d",
   "metadata": {
    "deletable": false,
    "editable": false,
    "nbgrader": {
     "cell_type": "code",
     "checksum": "c55ee97a3fbddb9f6f687dc8c424b93d",
     "grade": false,
     "grade_id": "cell-b9f6901f24bdf036",
     "locked": true,
     "schema_version": 3,
     "solution": false,
     "task": false
    }
   },
   "outputs": [
    {
     "name": "stdout",
     "output_type": "stream",
     "text": [
      "Base model - Accuracy on test dataset:  0.8600\n",
      "Flip & Rotation - Accuracy on test dataset:  0.8092\n",
      "Noise - Accuracy on test dataset:  0.8602\n",
      "Dropout - Accuracy on test dataset:  0.8521\n"
     ]
    }
   ],
   "source": [
    "# evaluate trained models\n",
    "\n",
    "_, test_accuracy = model_base.evaluate(X_test, y_test, verbose=0)\n",
    "print(f'Base model - Accuracy on test dataset: {test_accuracy: .4f}')\n",
    "\n",
    "_, test_accuracy = model_data_aug.evaluate(X_test.reshape(-1,28,28,1), y_test, verbose=0)\n",
    "print(f'Flip & Rotation - Accuracy on test dataset: {test_accuracy: .4f}')\n",
    "\n",
    "_, test_accuracy = model_noise.evaluate(X_test, y_test, verbose=0)\n",
    "print(f'Noise - Accuracy on test dataset: {test_accuracy: .4f}')\n",
    "\n",
    "_, test_accuracy = model_dropout.evaluate(X_test, y_test, verbose=0)\n",
    "print(f'Dropout - Accuracy on test dataset: {test_accuracy: .4f}')"
   ]
  },
  {
   "cell_type": "code",
   "execution_count": 25,
   "id": "2f39dae9",
   "metadata": {
    "deletable": false,
    "editable": false,
    "nbgrader": {
     "cell_type": "code",
     "checksum": "7e54de1d5de83626afe16fea701dbeac",
     "grade": false,
     "grade_id": "cell-70c6b961c2372331",
     "locked": true,
     "schema_version": 3,
     "solution": false,
     "task": false
    }
   },
   "outputs": [],
   "source": [
    "# Sanity checks\n",
    "\n",
    "# Load saved models\n",
    "model_base     = tf.keras.models.load_model(\"model_base.h5\")\n",
    "model_data_aug = tf.keras.models.load_model(\"model_data_aug.h5\")\n",
    "model_noise    = tf.keras.models.load_model(\"model_noise.h5\")\n",
    "model_dropout  = tf.keras.models.load_model(\"model_dropout.h5\")\n",
    "\n",
    "# Check n.o. layers\n",
    "assert len(model_base.layers) == 4, \"`model_base` should have 4 layers!\"\n",
    "assert len(model_data_aug.layers) == 6, \"`model_data_aug` should have 6 layers!\"\n",
    "assert len(model_noise.layers) == 5, \"`model_noise` should have 5 layers!\"\n",
    "assert len(model_dropout.layers) == 7, \"`model_dropout` should have 7 layers!\""
   ]
  },
  {
   "cell_type": "code",
   "execution_count": null,
   "id": "9e3140ea",
   "metadata": {
    "deletable": false,
    "editable": false,
    "nbgrader": {
     "cell_type": "code",
     "checksum": "acc24497eee9f472198f91b77b350823",
     "grade": true,
     "grade_id": "cell-9dc507c1488a5008",
     "locked": true,
     "points": 1,
     "schema_version": 3,
     "solution": false,
     "task": false
    }
   },
   "outputs": [],
   "source": [
    "# cell for hidden test\n"
   ]
  },
  {
   "cell_type": "code",
   "execution_count": null,
   "id": "9dd8de86",
   "metadata": {
    "deletable": false,
    "editable": false,
    "nbgrader": {
     "cell_type": "code",
     "checksum": "c89075ad151252d3aaffcdd721dd20b3",
     "grade": true,
     "grade_id": "cell-b161a203baff4d2f",
     "locked": true,
     "points": 1,
     "schema_version": 3,
     "solution": false,
     "task": false
    }
   },
   "outputs": [],
   "source": [
    "# cell for hidden test\n"
   ]
  },
  {
   "cell_type": "code",
   "execution_count": null,
   "id": "063ae07b",
   "metadata": {
    "deletable": false,
    "editable": false,
    "nbgrader": {
     "cell_type": "code",
     "checksum": "e8de151e9741adf36f25682323763cc8",
     "grade": true,
     "grade_id": "cell-6e91ce0c5a795326",
     "locked": true,
     "points": 1,
     "schema_version": 3,
     "solution": false,
     "task": false
    }
   },
   "outputs": [],
   "source": [
    "# cell for hidden test\n"
   ]
  },
  {
   "cell_type": "code",
   "execution_count": null,
   "id": "238d6d74",
   "metadata": {
    "deletable": false,
    "editable": false,
    "nbgrader": {
     "cell_type": "code",
     "checksum": "f208ab1f411c9aadf71c62e94a7dc847",
     "grade": true,
     "grade_id": "cell-432da91e084497fd",
     "locked": true,
     "points": 1,
     "schema_version": 3,
     "solution": false,
     "task": false
    }
   },
   "outputs": [],
   "source": [
    "# cell for hidden test\n"
   ]
  },
  {
   "cell_type": "code",
   "execution_count": 27,
   "id": "f6e06598",
   "metadata": {
    "deletable": false,
    "editable": false,
    "nbgrader": {
     "cell_type": "code",
     "checksum": "bf869c3c6165445d5521cf98a4e4b542",
     "grade": false,
     "grade_id": "cell-fd80297eb81ec443",
     "locked": true,
     "schema_version": 3,
     "solution": false,
     "task": false
    }
   },
   "outputs": [
    {
     "data": {
      "image/png": "[encoded data removed]",
      "text/plain": [
       "<Figure size 1008x288 with 4 Axes>"
      ]
     },
     "metadata": {
      "needs_background": "light"
     },
     "output_type": "display_data"
    }
   ],
   "source": [
    "if training:\n",
    "    fig, axes = plt.subplots(1,4, sharey=True, figsize=(14,4))\n",
    "    title = ['base', 'rotation & flip', 'noise', 'dropout']\n",
    "\n",
    "    ax = axes.flat\n",
    "    for i, history in enumerate(history_log):\n",
    "        ax[i].plot(history.history['sparse_categorical_accuracy'])\n",
    "        ax[i].plot(history.history['val_sparse_categorical_accuracy'])\n",
    "        ax[i].spines[\"top\"].set_visible(False)\n",
    "        ax[i].spines[\"right\"].set_visible(False)\n",
    "        ax[i].set_title(title[i], fontsize=18)\n",
    "        ax[i].grid()\n",
    "\n",
    "    ax[0].set_xlabel('epoch', fontsize=14)\n",
    "    ax[0].set_ylabel('Accuracy', fontsize=14)\n",
    "\n",
    "    fig.tight_layout()\n",
    "    plt.legend(['train', 'val'])\n",
    "    plt.show()"
   ]
  },
  {
   "cell_type": "markdown",
   "id": "91fbf67a",
   "metadata": {
    "deletable": false,
    "editable": false,
    "nbgrader": {
     "cell_type": "markdown",
     "checksum": "2aba04a81940a9588d9a868681bba894",
     "grade": false,
     "grade_id": "cell-624737bf1bcde921",
     "locked": true,
     "schema_version": 3,
     "solution": false,
     "task": false
    }
   },
   "source": [
    "We can see that data augmentation with image rotation and flipping worsened the model trained compared to base model. Adding noise to the data lead to similar results as the base model and applying dropout prevented overfitting, but didn't improve test accuracy significantly. In order to improve validation and test accuracy we have to adjust regularization hyperparameters, i.e. do hyperparameter tuning. For example, increasing number of epochs for a model with dropout layers or adjusting the value of `stddev` argument of `GaussianNoise` layer may lead to better results."
   ]
  },
  {
   "cell_type": "markdown",
   "id": "4ce2e5fc",
   "metadata": {
    "deletable": false,
    "editable": false,
    "nbgrader": {
     "cell_type": "markdown",
     "checksum": "5a00a2d9c068f22e19d3e309a13d6ca4",
     "grade": false,
     "grade_id": "cell-c0f2eff61e5e2f84",
     "locked": true,
     "schema_version": 3,
     "solution": false,
     "task": false
    }
   },
   "source": [
    "<h1><center>Model pruning</center></h1>\n",
    "\n",
    "According to the \"RuleOfThumb\" above, instead of increasing the size of the training set, we can also try to reduce the effective dimension of the ANN hypothesis space. In other words, we can avoid overfittng by using a smaller hypothesis space over which we search during training. Maybe the most obvious way to reduce the hypothesis space is to make the ANN smaller by removing hidden layers. Another option is to fix or \"freeze\" the parameters (weights, bias terms) of some of the layers. This approach is known as **transfer learning**. We next study **early stopping** as a more subtle means to prune the hypothesis space (model) of an ANN. "
   ]
  },
  {
   "cell_type": "markdown",
   "id": "f4ac587a",
   "metadata": {
    "deletable": false,
    "editable": false,
    "nbgrader": {
     "cell_type": "markdown",
     "checksum": "36a4639ce4d0f14b1dd2f50f29793a2c",
     "grade": false,
     "grade_id": "cell-f18e33c7d35a425c",
     "locked": true,
     "schema_version": 3,
     "solution": false,
     "task": false
    }
   },
   "source": [
    "## Early stopping\n",
    "\n",
    "Nominally, the hypothesis space (or model) associated with a given ANN is constituted by all maps $h: \\mathbf{x} \\mapsto h(\\mathbf{x})$ that can be obtained from different choices for its parameters $\\mathbf{w}$. These parameters consist of the bias and (input) weights for each neurons in the ANN. Early stopping implements this pruning by limiting the number of gradient descent steps executed during the training. The training of an ANN typically starts from initial choice or guess $\\mathbf{w}^{(0)}$ which is then iteratively improved using some gradient descent method, $\\mathbf{w}^{(k+1)} = {\\rm SomeUpdateRule} \\big\\{ \\mathbf{w}^{(k)} \\big\\}$. Early stopping constraints the hypothesis space by stopping this update after a relatively small number of iterations.\n",
    "\n",
    "<img src=\"https://production-media.paperswithcode.com/methods/Screen_Shot_2020-05-28_at_12.59.56_PM_1D7lrVF.png\" width=\"600\"/>\n",
    "</br>\n",
    "\n",
    "More about data augmentation and early stopping in [Andrew Ng video](https://www.youtube.com/watch?v=BOCLq2gpcGU)."
   ]
  },
  {
   "cell_type": "markdown",
   "id": "1f1a4ba6",
   "metadata": {
    "deletable": false,
    "editable": false,
    "nbgrader": {
     "cell_type": "markdown",
     "checksum": "50a42b04042fca3d1310228ab9c35326",
     "grade": false,
     "grade_id": "cell-9328977ad9234183",
     "locked": true,
     "schema_version": 3,
     "solution": false,
     "task": false
    }
   },
   "source": [
    "<h1><center>Loss modification</center></h1>\n",
    "\n",
    "\n",
    "## Parameter norm penalties\n",
    "\n",
    "One type of regularization techniques is parameter norm penalties. For example, $L1$ and $L2$ norm regularization, in which model is trained by minimizing a cost function that penalizes the large norm values of a model's parameters. Both of these alternatives are based on the premise that the complexity of a predictor increases with the magnitude of its parameters.\n",
    "\n",
    "\n",
    "The cost function that is minimized when training a regularized model $h$ is composed of the training loss and an additional **penalty term**:\n",
    "\n",
    "\n",
    "\\begin{equation}\n",
    " \\mathcal{E}(h) = \\underbrace{\\underbrace{(1/m_{t}) \\sum_{\\big(\\mathbf{x}^{(i)},y^{(i)}\\big) \\in \\mathbb{X}^{(t)}} \\mathcal L \\big( (x^{(i)}, y^{(i)}), h \\big)}_{\\mbox{ training loss}} + \\underbrace{\\alpha \\mathcal{R}(h)}_{\\mbox{anticipated increase of error (loss) on new data}}}_{\\mbox{ estimate (approximation) of test error }}\n",
    "\\end{equation}\n",
    "\n",
    "The central idea of regularization is that the penalized cost function is minimized by a less complex predictor than the average loss. Thus, a model trained using the penalized cost function should, in general, have better generalization capabilities provided that the penalty term is well chosen. \n",
    "\n",
    "The penalty term itself is composed of two factors - a **regularization term** $\\mathcal{R}(h)$ and a scaling factor $\\alpha$. The former quantifies a function's complexity, and the latter scales the penalty by a specified factor. Effectively, $\\alpha$ **offers a trade-off between the prediction error (training loss) incurred on the training data and the complexity of a predictor**. Large $\\alpha$ favor less complex predictor functions, while small $\\alpha$ put more emphasis on obtaining a small training loss.\n",
    "\n",
    "\n",
    "In order to implement regularization in practice, we need to choose a regularization term $\\mathcal{R}$ that quantifies the complexity of predictor functions in an appropriate way. Two widely used choices are the $L1$ norm \n",
    "\n",
    "\\begin{equation}\n",
    "\\|\\mathbf{w} \\|_1 = \\sum_{i=1}^n |w_i|= |w_1| + |w_2| + \\ldots + |w_n|\n",
    "\\end{equation}\n",
    "\n",
    "and the squared $L2$ norm\n",
    "\n",
    "\\begin{equation}\n",
    "\\|\\mathbf{w} \\|_2^2 = \\sum_{i=1}^n w_i^2 = w_1^2 + w_2^2 + \\ldots + w_n^2.\n",
    "\\end{equation}\n",
    "\n",
    "\n",
    "$L2$ norm harshly penalizes predictors with large weights, while $L1$ norm does not square the weights in the penalty, and thus, both large and small weights are penalized proportionately.\n",
    "\n",
    "\n",
    "More about norm penalties in [Andrew Ng video](https://www.youtube.com/watch?v=6g0t3Phly2M)."
   ]
  },
  {
   "cell_type": "markdown",
   "id": "9067119b",
   "metadata": {
    "deletable": false,
    "editable": false,
    "nbgrader": {
     "cell_type": "markdown",
     "checksum": "bf80961b1c2dbbd623918b866747f833",
     "grade": false,
     "grade_id": "cell-67327cd2a2bd7897",
     "locked": true,
     "schema_version": 3,
     "solution": false,
     "task": false
    }
   },
   "source": [
    "<a id='St1'></a>\n",
    "<div class=\" alert alert-info\">\n",
    "    <h3><b>Demo.</b> $L1$ regularization.</h3>  \n",
    "\n",
    "In Keras we can add norm penalties to ANN weights and biases by passing regularizer to arguments `kernel_regularizer` and `bias_regularizer` of a keras layer. \n",
    "    \n",
    "Below we apply $L1$ regularization to weights of feed-forward ANN with Keras [layer weight regularizers](https://keras.io/api/layers/regularizers/). We use `regularizers.L1()` with scaling factor $\\alpha=1e-4$ as regularizer for model's weights.\n",
    "    \n",
    "</div>"
   ]
  },
  {
   "cell_type": "code",
   "execution_count": 45,
   "id": "bf7de64e",
   "metadata": {
    "deletable": false,
    "editable": false,
    "nbgrader": {
     "cell_type": "code",
     "checksum": "74cdbfcde97515ec695ec40f8d9592e6",
     "grade": false,
     "grade_id": "cell-99c872184389b430",
     "locked": true,
     "schema_version": 3,
     "solution": false,
     "task": false
    }
   },
   "outputs": [],
   "source": [
    "# scaling factor alpha\n",
    "alpha_l1 = 1e-4\n",
    "\n",
    "model_l1 = keras.Sequential([\n",
    "    layers.Dense(128, activation='relu',input_shape=(784,),\n",
    "                kernel_regularizer = regularizers.L1(alpha_l1)),\n",
    "    layers.Dense(64, activation='relu', \n",
    "                kernel_regularizer = regularizers.L1(alpha_l1)),\n",
    "    layers.Dense(32, activation='relu',\n",
    "                kernel_regularizer = regularizers.L1(alpha_l1)),\n",
    "    layers.Dense(10, activation='softmax')\n",
    "])"
   ]
  },
  {
   "cell_type": "markdown",
   "id": "b89a7306",
   "metadata": {
    "deletable": false,
    "editable": false,
    "nbgrader": {
     "cell_type": "markdown",
     "checksum": "527334b18ab93dac8f4d04c8bde500d5",
     "grade": false,
     "grade_id": "cell-d08b7eb6a973de4d",
     "locked": true,
     "schema_version": 3,
     "solution": false,
     "task": false
    }
   },
   "source": [
    "<a id='St1'></a>\n",
    "<div class=\" alert alert-warning\">\n",
    "    <h3><b>Student task.</b> $L2$ regularization.</h3>  \n",
    "\n",
    "Modify code snippet above and apply $L2$ regularization with scaling factor alpha=1e-4 instead of $L1$ regularization. See Keras [documentation](https://keras.io/api/layers/regularizers/#l2-class).\n",
    "    \n",
    "</div>"
   ]
  },
  {
   "cell_type": "code",
   "execution_count": 46,
   "id": "bb77e5a2",
   "metadata": {
    "deletable": false,
    "nbgrader": {
     "cell_type": "code",
     "checksum": "843de3ede3f0beff83031400191a0764",
     "grade": false,
     "grade_id": "cell-6da7ef0b9f370844",
     "locked": false,
     "schema_version": 3,
     "solution": true,
     "task": false
    }
   },
   "outputs": [],
   "source": [
    "# scaling factor alpha\n",
    "alpha_l2 = 1e-4\n",
    "\n",
    "# YOUR CODE HERE\n",
    "#raise NotImplementedError()\n",
    "\n",
    "# model_l2 = ...\n",
    "model_l2 = keras.Sequential([\n",
    "    layers.Dense(128, activation='relu',input_shape=(784,),\n",
    "                kernel_regularizer = regularizers.L2(alpha_l2)),\n",
    "    layers.Dense(64, activation='relu', \n",
    "                kernel_regularizer = regularizers.L2(alpha_l2)),\n",
    "    layers.Dense(32, activation='relu',\n",
    "                kernel_regularizer = regularizers.L2(alpha_l2)),\n",
    "    layers.Dense(10, activation='softmax')\n",
    "])"
   ]
  },
  {
   "cell_type": "code",
   "execution_count": 47,
   "id": "72d3d952",
   "metadata": {
    "deletable": false,
    "editable": false,
    "nbgrader": {
     "cell_type": "code",
     "checksum": "8fe9375bf3d2a22a520babbc1d672f30",
     "grade": false,
     "grade_id": "cell-9cafb3d534befa6b",
     "locked": true,
     "schema_version": 3,
     "solution": false,
     "task": false
    }
   },
   "outputs": [
    {
     "name": "stdout",
     "output_type": "stream",
     "text": [
      "Sanity checks passed!\n"
     ]
    }
   ],
   "source": [
    "# Perform some sanity checks on the solution\n",
    "assert len(model_l2.layers) == 4, \"There should be 4 layers!\"\n",
    "assert model_l2.layers[0].get_config()['kernel_regularizer']['class_name'] == 'L2', \"L2 regularization is missing!\"\n",
    "\n",
    "print(\"Sanity checks passed!\")"
   ]
  },
  {
   "cell_type": "code",
   "execution_count": 48,
   "id": "6cefdc85",
   "metadata": {
    "deletable": false,
    "editable": false,
    "nbgrader": {
     "cell_type": "code",
     "checksum": "7f7388c12627e47ecc2c8021e32b3008",
     "grade": true,
     "grade_id": "cell-26983a222ff25ca2",
     "locked": true,
     "points": 1,
     "schema_version": 3,
     "solution": false,
     "task": false
    }
   },
   "outputs": [],
   "source": [
    "# cell for hidden test\n"
   ]
  },
  {
   "cell_type": "markdown",
   "id": "1f17bfc4",
   "metadata": {
    "deletable": false,
    "editable": false,
    "nbgrader": {
     "cell_type": "markdown",
     "checksum": "0afc78bfba577c7ffd37e58b134e350f",
     "grade": false,
     "grade_id": "cell-b060d65c50e9e7b1",
     "locked": true,
     "schema_version": 3,
     "solution": false,
     "task": false
    }
   },
   "source": [
    "## Hyperparameter tuning (choosing $\\alpha$)\n",
    "\n",
    "The $\\alpha$ factor in the regularized cost function is a **hyperparameter** of the regularized model. In contrast to **model parameters**, hyperparameters are not optimized by training the model but must be defined in advance. The hyperparameters' values are typically chosen by selecting the value from a set of candidates that results in the lowest validation error for the trained model. This process is called **hyperparameter tuning** and can be seen as a case of model selection, in which the models differ by the values of the hyperparameters.\n",
    "\n",
    "The hyperparameter tuning process for $\\alpha$ proceeds roughly as follows:\n",
    "1. we specify a list of candidate values for $\\alpha$, \n",
    "2. for each choice of $\\alpha$, we learn a predictor that minimizes the regularized cost function\n",
    "3. for each choice of $\\alpha$, we validate the trained predictor $h^{(\\alpha)}_{\\rm opt}$ by computing the validation error\n",
    "\n",
    "\\begin{equation}\n",
    "E_{\\rm val}^{(\\alpha)} = (1/m_{\\rm v}) \\sum_{\\big(\\mathbf{x}^{(i)},y^{(i)}\\big) \\in \\mathbb{X}^{(v)}} \\mathcal L \\big( (x^{(i)} y^{(i)}), h)\\big).\n",
    "\\end{equation}\n",
    "\n",
    "4. We select the value of $\\alpha$ with smallest validation error to be used in our final model \n",
    "5. We evaluate the final model on a test set"
   ]
  },
  {
   "cell_type": "markdown",
   "id": "2760bc3b",
   "metadata": {
    "deletable": false,
    "editable": false,
    "nbgrader": {
     "cell_type": "markdown",
     "checksum": "9ef0da427faccaddbd2eb8c9d01fcd46",
     "grade": false,
     "grade_id": "cell-c6cdeae19063c33b",
     "locked": true,
     "schema_version": 3,
     "solution": false,
     "task": false
    }
   },
   "source": [
    "<a id='St1'></a>\n",
    "<div class=\" alert alert-warning\">\n",
    "    <h3><b>Student task.</b> Hyperparameter tuning.</h3>  \n",
    "\n",
    "In this exercise we will use the following ANN for Fashion-MNIST classification dataset:\n",
    "    \n",
    "- Dense layer with 128 units, ReLU activation and $L2$ regularization for model weights\n",
    "- Dense layer with 64 units, ReLU activation and $L2$ regularization for model weights\n",
    "- Dense layer with 32 units, ReLU activation and $L2$ regularization for model weights\n",
    "- Dense output layer with 10 units and softmax activation function\n",
    "    \n",
    "Use optimizer - RMSprop, loss - `sparse_categorical_crossentropy` and metrics -  `sparse_categorical_accuracy`. \n",
    "Training parameters:\n",
    "`history = model.fit(X_trainval, y_trainval, validation_split=0.2, batch_size=32, epochs=20)`\n",
    "\n",
    "Your task is to implement a function `L2_hyperparam()`. The input parameter of this function `l2` is a list of regularization hyperparameter values $\\alpha$. This function should, for each entry of that list:\n",
    "    \n",
    "- create a new ANN Sequential model (see instructions above). In this step, you need to pass the $\\alpha$ value to the layer's $L2$ regularizer.\n",
    "- compile the model\n",
    "- train the model. Store history object for each model in a list `history_log`.\n",
    "- compute the accuracy obtained on the test set and add this value to the list `test_acc`\n",
    "    \n",
    "After completing the above steps for each value in the list `l2`, the function should return lists `history_log` and  `test_acc`.\n",
    "</div>"
   ]
  },
  {
   "cell_type": "code",
   "execution_count": 49,
   "id": "05e36f22",
   "metadata": {
    "deletable": false,
    "nbgrader": {
     "cell_type": "code",
     "checksum": "ad2eae65eb0f98c401bdb4ffb6cb1f55",
     "grade": false,
     "grade_id": "cell-77a811770bb9dc63",
     "locked": false,
     "schema_version": 3,
     "solution": true,
     "task": false
    }
   },
   "outputs": [],
   "source": [
    "# list of L2 regularization scaling factor values\n",
    "l2 = [1e-1, 1e-3, 0]\n",
    "\n",
    "def L2_hyperparam(l2):\n",
    "    # for reproducibility\n",
    "    np.random.seed(1)\n",
    "    tf.random.set_seed(1)\n",
    "\n",
    "    history_log = [] # list to store training history\n",
    "    test_acc = [] # list to store test accuracies\n",
    "    \n",
    "    # YOUR CODE HERE\n",
    "    #raise NotImplementedError()\n",
    "    # iterate list `l2`\n",
    "    # for ... in l2:\n",
    "    #    model = keras.Sequential(...\n",
    "    #    model.compile(...\n",
    "    #    history = model.fit(...\n",
    "    for alpha_l2 in l2:\n",
    "        model = keras.Sequential([\n",
    "            layers.Dense(128, activation='relu',input_shape=(784,),\n",
    "                kernel_regularizer = regularizers.L2(alpha_l2)),\n",
    "            layers.Dense(64, activation='relu', \n",
    "                kernel_regularizer = regularizers.L2(alpha_l2)),\n",
    "            layers.Dense(32, activation='relu',\n",
    "                kernel_regularizer = regularizers.L2(alpha_l2)),\n",
    "            layers.Dense(10, activation='softmax')\n",
    "        ])\n",
    "        model.compile(optimizer='RMSprop',\n",
    "              loss='sparse_categorical_crossentropy',\n",
    "              metrics='sparse_categorical_accuracy')\n",
    "        history = model.fit(X_trainval, y_trainval, validation_split=0.2, batch_size=32, epochs=20, verbose=0)\n",
    "        history_log.append(history)\n",
    "        test_acc.append(model.evaluate(X_test, y_test, verbose=0)[1])\n",
    "    \n",
    "    return history_log, test_acc"
   ]
  },
  {
   "cell_type": "code",
   "execution_count": 50,
   "id": "cc604370",
   "metadata": {
    "deletable": false,
    "editable": false,
    "nbgrader": {
     "cell_type": "code",
     "checksum": "55d239f9f6dad1ee9904845d7bb968af",
     "grade": false,
     "grade_id": "cell-e81bba2646a2524d",
     "locked": true,
     "schema_version": 3,
     "solution": false,
     "task": false
    }
   },
   "outputs": [
    {
     "name": "stdout",
     "output_type": "stream",
     "text": [
      "[0.6741999983787537, 0.8529999852180481, 0.8600000143051147]\n",
      "CPU times: user 5min 12s, sys: 1min 5s, total: 6min 18s\n",
      "Wall time: 1min 43s\n"
     ]
    }
   ],
   "source": [
    "%%time \n",
    "\n",
    "# call  L2_hyperparam() function\n",
    "history_log, test_acc = L2_hyperparam(l2)\n",
    "print(test_acc)"
   ]
  },
  {
   "cell_type": "code",
   "execution_count": 51,
   "id": "8d420a91",
   "metadata": {
    "deletable": false,
    "editable": false,
    "nbgrader": {
     "cell_type": "code",
     "checksum": "7e892ab91965a0e6f3f4d7253993cd7f",
     "grade": false,
     "grade_id": "cell-a44d3c77a7ed7357",
     "locked": true,
     "schema_version": 3,
     "solution": false,
     "task": false
    }
   },
   "outputs": [
    {
     "data": {
      "image/png": "[encoded data removed]",
      "text/plain": [
       "<Figure size 864x288 with 3 Axes>"
      ]
     },
     "metadata": {
      "needs_background": "light"
     },
     "output_type": "display_data"
    }
   ],
   "source": [
    "fig, axes = plt.subplots(1,3, sharey=True, figsize=(12,4))\n",
    "title = [str(alpha_l2) for alpha_l2 in l2]\n",
    "\n",
    "ax = axes.flat\n",
    "for i in range(len(history_log)):\n",
    "    ax[i].plot(history_log[i].history['sparse_categorical_accuracy'])\n",
    "    ax[i].plot(history_log[i].history['val_sparse_categorical_accuracy'])\n",
    "    ax[i].spines[\"top\"].set_visible(False)\n",
    "    ax[i].spines[\"right\"].set_visible(False)\n",
    "    ax[i].set_title(title[i], fontsize=18)\n",
    "    ax[i].grid()\n",
    "\n",
    "ax[0].set_xlabel('epoch', fontsize=14)\n",
    "ax[0].set_ylabel('Loss', fontsize=14)\n",
    "\n",
    "fig.tight_layout()\n",
    "plt.legend(['train', 'val'])\n",
    "plt.show()"
   ]
  },
  {
   "cell_type": "code",
   "execution_count": 52,
   "id": "d2de2018",
   "metadata": {
    "deletable": false,
    "editable": false,
    "nbgrader": {
     "cell_type": "code",
     "checksum": "81c15637ad4eef66392c0dc888042c38",
     "grade": false,
     "grade_id": "cell-ba33f8a0c1f4c0c9",
     "locked": true,
     "schema_version": 3,
     "solution": false,
     "task": false
    }
   },
   "outputs": [
    {
     "name": "stdout",
     "output_type": "stream",
     "text": [
      "Sanity check tests passed!\n"
     ]
    }
   ],
   "source": [
    "# Sanity check\n",
    "\n",
    "assert len(test_acc)==3, 'Length of list `test_acc` should be equal to 3!'\n",
    "# check accuracy values\n",
    "assert test_acc[0]>=0.65 or isclose(test_accuracy, 0.65, abs_tol=2.5e-2), \"Accuracy is too low!\"\n",
    "assert test_acc[1]>=0.83 or isclose(test_accuracy, 0.83, abs_tol=2.5e-2), \"Accuracy is too low!\"\n",
    "assert test_acc[2]>=0.83 or isclose(test_accuracy, 0.83, abs_tol=2.5e-2), \"Accuracy is too low!\"\n",
    "print('Sanity check tests passed!')"
   ]
  },
  {
   "cell_type": "code",
   "execution_count": null,
   "id": "e953bf4e",
   "metadata": {
    "deletable": false,
    "editable": false,
    "nbgrader": {
     "cell_type": "code",
     "checksum": "e8d6a5c4b0937f46b09693b4f2c1c4c0",
     "grade": true,
     "grade_id": "cell-e4269af6fa2561b6",
     "locked": true,
     "points": 2,
     "schema_version": 3,
     "solution": false,
     "task": false
    }
   },
   "outputs": [],
   "source": [
    "# This cell is for tests\n"
   ]
  },
  {
   "cell_type": "markdown",
   "id": "901f60d5",
   "metadata": {
    "deletable": false,
    "editable": false,
    "nbgrader": {
     "cell_type": "markdown",
     "checksum": "cc1155bc54ccb30d2afc751def51841f",
     "grade": false,
     "grade_id": "cell-9d62103b87d1cbf5",
     "locked": true,
     "schema_version": 3,
     "solution": false,
     "task": false
    }
   },
   "source": [
    "<a id='St1'></a>\n",
    "<div class=\" alert alert-warning\">\n",
    "    <h3><b>Student task.</b> Build ANN with Dropout Layers + L2 regularization.</h3>  \n",
    "\n",
    "Although in our case the benefits of using regularization methods may not be evident, for large deep learning models it is quite common to use several regularization methods together.\n",
    "\n",
    "In this task we will combine two regularization methods - $L2$ regularization of model's weights and dropout. Build the following ANN: \n",
    "    \n",
    "- Dense layer with 128 units, ReLU activation and $L2$ regularization for model weights\n",
    "- Dropout layer\n",
    "- Dense layer with 64 units, ReLU activation and $L2$ regularization for model weights\n",
    "- Dropout layer\n",
    "- Dense layer with 32 units, ReLU activation and $L2$ regularization for model weights\n",
    "- Dropout layer\n",
    "- Dense layer with 10 units and softmax activation function\n",
    "    \n",
    "Use optimizer - RMSprop, loss - `sparse_categorical_crossentropy` and metrics -  `sparse_categorical_accuracy`. \n",
    "Training parameters:\n",
    "`history = model.fit(X_trainval, y_trainval, validation_split=0.2, batch_size=32, epochs=20)`\n",
    "    \n",
    "- Save model as ` model_dropout_l2.h5`\n",
    "   \n",
    "</div>"
   ]
  },
  {
   "cell_type": "markdown",
   "id": "0fdf5f59",
   "metadata": {
    "deletable": false,
    "editable": false,
    "nbgrader": {
     "cell_type": "markdown",
     "checksum": "c2e554a1d5ca8cec24eada636fced992",
     "grade": false,
     "grade_id": "cell-3e54c40f8b95e32d",
     "locked": true,
     "schema_version": 3,
     "solution": false,
     "task": false
    }
   },
   "source": [
    "<div class=\" alert alert-danger\">\n",
    "    <h3 align='center'>Test accuracy should be $\\geq$ 0.83 formodel_dropout_l2.</h3>\n",
    "</div>"
   ]
  },
  {
   "cell_type": "code",
   "execution_count": 55,
   "id": "fe57f869",
   "metadata": {
    "deletable": false,
    "nbgrader": {
     "cell_type": "code",
     "checksum": "c9cc69092bb48315ec38602d97b44224",
     "grade": false,
     "grade_id": "cell-213fc0754f58fb18",
     "locked": false,
     "schema_version": 3,
     "solution": true,
     "task": false
    }
   },
   "outputs": [],
   "source": [
    "# dropout rate\n",
    "drate = 0.1\n",
    "# alpha value for L2 regularization\n",
    "alpha_l2 = 1e-4\n",
    "\n",
    "if training==True:\n",
    "    # YOUR CODE HERE\n",
    "    #raise NotImplementedError()\n",
    "    model_dropout_l2 = keras.Sequential([\n",
    "            layers.Dense(128, activation='relu',input_shape=(784,),\n",
    "                kernel_regularizer = regularizers.L2(alpha_l2)),\n",
    "            layers.Dropout(drate),\n",
    "            layers.Dense(64, activation='relu', \n",
    "                kernel_regularizer = regularizers.L2(alpha_l2)),\n",
    "            layers.Dropout(drate),\n",
    "            layers.Dense(32, activation='relu',\n",
    "                kernel_regularizer = regularizers.L2(alpha_l2)),\n",
    "            layers.Dropout(drate),\n",
    "            layers.Dense(10, activation='softmax')\n",
    "        ])\n",
    "    # model_dropout_l2 = ... \n",
    "    model_dropout_l2.compile(optimizer='RMSprop',\n",
    "              loss='sparse_categorical_crossentropy',\n",
    "              metrics='sparse_categorical_accuracy')\n",
    "    history = model_dropout_l2.fit(X_trainval, y_trainval, validation_split=0.2, batch_size=32, epochs=20, verbose=0)\n",
    "    model_dropout_l2.save('model_dropout_l2.h5')\n",
    "else:\n",
    "    model_dropout_l2 = tf.keras.models.load_model(\"model_dropout_l2.h5\")"
   ]
  },
  {
   "cell_type": "code",
   "execution_count": 56,
   "id": "ecac0c94",
   "metadata": {
    "deletable": false,
    "editable": false,
    "nbgrader": {
     "cell_type": "code",
     "checksum": "33d6977708547009af7a57dfbb99eeae",
     "grade": false,
     "grade_id": "cell-545ea3210cb58a57",
     "locked": true,
     "schema_version": 3,
     "solution": false,
     "task": false
    }
   },
   "outputs": [
    {
     "name": "stdout",
     "output_type": "stream",
     "text": [
      "Dropout - Accuracy on test dataset:  0.8554\n"
     ]
    }
   ],
   "source": [
    "_, test_accuracy = model_dropout_l2.evaluate(X_test, y_test, verbose=0)\n",
    "print(f'Dropout - Accuracy on test dataset: {test_accuracy: .4f}')"
   ]
  },
  {
   "cell_type": "code",
   "execution_count": 57,
   "id": "ad06e056",
   "metadata": {
    "deletable": false,
    "editable": false,
    "nbgrader": {
     "cell_type": "code",
     "checksum": "23625f3006fa51f7d388fef00a83ae8c",
     "grade": false,
     "grade_id": "cell-ec5f884cc815c7a3",
     "locked": true,
     "schema_version": 3,
     "solution": false,
     "task": false
    }
   },
   "outputs": [
    {
     "data": {
      "text/plain": [
       "True"
      ]
     },
     "execution_count": 57,
     "metadata": {},
     "output_type": "execute_result"
    }
   ],
   "source": [
    "# Sanity check\n",
    "\n",
    "assert len(model_dropout_l2.layers) == 7, \"There should be 7 layers!\"\n",
    "model_dropout_l2.layers[0].kernel_regularizer.l2 == regularizers.L2(alpha_l2).l2"
   ]
  },
  {
   "cell_type": "code",
   "execution_count": null,
   "id": "b7d019c6",
   "metadata": {
    "deletable": false,
    "editable": false,
    "nbgrader": {
     "cell_type": "code",
     "checksum": "eae7e29dcb26fddd32fae25e9aef9b80",
     "grade": true,
     "grade_id": "cell-e2ea32b554b90200",
     "locked": true,
     "points": 2,
     "schema_version": 3,
     "solution": false,
     "task": false
    }
   },
   "outputs": [],
   "source": [
    "# cell for hidden test\n"
   ]
  },
  {
   "cell_type": "code",
   "execution_count": 58,
   "id": "3de4bf53",
   "metadata": {
    "deletable": false,
    "editable": false,
    "nbgrader": {
     "cell_type": "code",
     "checksum": "31f4fabd6e45b341572bce257608aa2f",
     "grade": false,
     "grade_id": "cell-9244d5f96abb7c6d",
     "locked": true,
     "schema_version": 3,
     "solution": false,
     "task": false
    }
   },
   "outputs": [],
   "source": [
    "# Sanity checks\n",
    "# check that all models from student tasks are saved\n",
    "\n",
    "import os.path\n",
    "\n",
    "# check that models  are saved\n",
    "assert os.path.isfile('model_base.h5')==True, \"Model `model_base` is not saved!\"\n",
    "assert os.path.isfile('model_data_aug.h5')==True, \"Model `model_data_aug` is not saved!\"\n",
    "assert os.path.isfile('model_noise.h5')==True, \"Model `model_noise` is not saved!\"\n",
    "assert os.path.isfile('model_dropout.h5')==True, \"Model `model_dropout` is not saved!\"\n",
    "assert os.path.isfile('model_dropout_l2.h5')==True, \"Model `model_dropout_l2` is not saved!\""
   ]
  },
  {
   "cell_type": "code",
   "execution_count": null,
   "id": "9dbc0ba2",
   "metadata": {},
   "outputs": [],
   "source": []
  }
 ],
 "metadata": {
  "kernelspec": {
   "display_name": "Python 3",
   "language": "python",
   "name": "python3"
  },
  "language_info": {
   "codemirror_mode": {
    "name": "ipython",
    "version": 3
   },
   "file_extension": ".py",
   "mimetype": "text/x-python",
   "name": "python",
   "nbconvert_exporter": "python",
   "pygments_lexer": "ipython3",
   "version": "3.9.5"
  },
  "toc": {
   "base_numbering": 1,
   "nav_menu": {},
   "number_sections": false,
   "sideBar": true,
   "skip_h1_title": false,
   "title_cell": "Table of Contents",
   "title_sidebar": "Contents",
   "toc_cell": false,
   "toc_position": {
    "height": "calc(100% - 180px)",
    "left": "10px",
    "top": "150px",
    "width": "325.404388px"
   },
   "toc_section_display": true,
   "toc_window_display": true
  },
  "varInspector": {
   "cols": {
    "lenName": 16,
    "lenType": 16,
    "lenVar": 40
   },
   "kernels_config": {
    "python": {
     "delete_cmd_postfix": "",
     "delete_cmd_prefix": "del ",
     "library": "var_list.py",
     "varRefreshCmd": "print(var_dic_list())"
    },
    "r": {
     "delete_cmd_postfix": ") ",
     "delete_cmd_prefix": "rm(",
     "library": "var_list.r",
     "varRefreshCmd": "cat(var_dic_list()) "
    }
   },
   "types_to_exclude": [
    "module",
    "function",
    "builtin_function_or_method",
    "instance",
    "_Feature"
   ],
   "window_display": false
  }
 },
 "nbformat": 4,
 "nbformat_minor": 5
}
