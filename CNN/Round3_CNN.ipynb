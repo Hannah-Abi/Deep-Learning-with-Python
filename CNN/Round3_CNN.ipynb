{
 "cells": [
  {
   "cell_type": "markdown",
   "metadata": {
    "deletable": false,
    "editable": false,
    "nbgrader": {
     "cell_type": "markdown",
     "checksum": "e2949f33bffad7fd2fc77ad3a20b0151",
     "grade": false,
     "grade_id": "cell-f8bc4f88482f81cc",
     "locked": true,
     "schema_version": 3,
     "solution": false,
     "task": false
    }
   },
   "source": [
    "<h1><center>Convolutional Neural Networks</center></h1>\n",
    "\n",
    "<br>\n",
    "<br>\n",
    "<center><font size=\"3\">This notebook is a part of teaching material for CS-EJ3311 - Deep Learning with Python</font></center>\n",
    "<center><font size=\"3\">24.10.-11.12.2022</font></center>\n",
    "<center><font size=\"3\">Aalto University & FiTech.io</font></center>"
   ]
  },
  {
   "cell_type": "markdown",
   "metadata": {
    "deletable": false,
    "editable": false,
    "nbgrader": {
     "cell_type": "markdown",
     "checksum": "4d001c6b20bc9e7766f9007eab0c380f",
     "grade": false,
     "grade_id": "cell-ce96a18df17a86b2",
     "locked": true,
     "schema_version": 3,
     "solution": false,
     "task": false
    }
   },
   "source": [
    "Before we have applied a simple artificial neural network to classify images. In this notebook, we discuss a particular class of ANN that is well suited for image data - convolutional neural networks (CNN). A CNN is a special case of ANN that contains several convolutional layers. Roughly speaking, convolutional layers are designed to learn to \"detect\" a specific pattern in an image. Such a pattern could be a simple geometric shape such as a circle or a higher-level concept like a tree. \n",
    "\n",
    "## Learning goals:\n",
    "\n",
    "- understand the basic principles of convolutional layers\n",
    "- understand the basic principles of a pooling layer \n",
    "- be able to construct a CNN  by combining convolutional layers\n",
    "- understand the \"padding\" and \"stride\" parameters in CNN\n",
    "- how to determine CNN parameters required for a given data set\n",
    "- how to visualize the activations (outputs) of different neurons within a CNN"
   ]
  },
  {
   "cell_type": "markdown",
   "metadata": {
    "deletable": false,
    "editable": false,
    "nbgrader": {
     "cell_type": "markdown",
     "checksum": "4993fdcae7c121e3c3ef4520a083e44e",
     "grade": false,
     "grade_id": "cell-c2c6297644c0c35d",
     "locked": true,
     "schema_version": 3,
     "solution": false,
     "task": false
    }
   },
   "source": [
    "## Additional Reading\n",
    "\n",
    "- Chapter 5 of \"Deep Learning with Python\" by F.Chollet. \n",
    "- Chapter 14 of \"Hands-On Machine Learning with Scikit-Learn, Keras, and TensorFlow\" by Aurélien Géron. \n"
   ]
  },
  {
   "cell_type": "markdown",
   "metadata": {
    "deletable": false,
    "editable": false,
    "nbgrader": {
     "cell_type": "markdown",
     "checksum": "7c06fa43c4d6a20fa6d8c1123ab7fad2",
     "grade": false,
     "grade_id": "cell-4db58f3cb9b4d852",
     "locked": true,
     "schema_version": 3,
     "solution": false,
     "task": false
    }
   },
   "source": [
    "\n",
    "Previously, we used an ANN to predict the label indicating a category of fashion items based on an image. We used an ANN constituted by [dense layers](https://keras.io/api/layers/core_layers/dense/) with each neuron of the layer connected to each neuron in the preceding layer. \n",
    "\n",
    "Consider an ANN applied to images with a (rather low) resolution of $200 \\times 200$ pixels. Let us assume that the hidden layer consisting of only $128$ neurons. We would then already obtain $200 \\times 200 \\times 128$ tunable weights for this single hidden layer. \n",
    "\n",
    "As a rule of thumb, it is good to have at least ten times more labeled data points than the number of tunable weights. Thus, for the ANN with a single dense layer, we would need around $$10 \\times 200 \\times 200 \\times 128 = 51200000$$ fashion item images for which we know the true category. This significantly exceeds the number of training samples in the [fashion MNIST](https://www.tensorflow.org/datasets/catalog/fashion_mnist) dataset.  \n",
    "\n",
    "When developing a deep learning method, we often have different options for improving performance. One option is to collect more training data, i.e., manually label more images of fashion items. In this notebook, we focus on another alternative: reduce the number of tunable parameters (weights) in the ANN. \n",
    "\n",
    "It turned out that using dense layers for image-related problems is not efficient since ANN with densely connected layers does not preserve the structure or spatial information of the image. CNNs, on the other hand, exploit this structure by using fewer connections between layers compared to dense layers. Generally, we can say that the neurons of the convolutional layer are learning to \"detect\" the presence of a specific visual pattern at a particular location on the image. Since these patterns only cover a small area (patch) of the original image, we need fewer connections between the neuron of a convolutional layer and a small set of neurons in the previous layer. This small set is called the **receptive field** of the neuron.\n",
    "\n",
    "A CNN consists of a sequence of different kinds of layers. There are three main types of layers in CNN:\n",
    "- Convolutional layer (conv)\n",
    "- Pooling layer (pooling)\n",
    "- Fully connected (or dense) Layer (FC)\n",
    "\n",
    "A typical CNN architecture looks like this: \n",
    "\n",
    "<img src=\"https://miro.medium.com/max/2000/1*vkQ0hXDaQv57sALXAJquxA.jpeg\" width=850>\n",
    "<br>\n",
    "<center><a href=\"https://towardsdatascience.com/a-comprehensive-guide-to-convolutional-neural-networks-the-eli5-way-3bd2b1164a53\">image source</a></center>\n",
    "\n",
    "First, let's see what the input and convolutional layers are in a CNN."
   ]
  },
  {
   "cell_type": "markdown",
   "metadata": {
    "deletable": false,
    "editable": false,
    "nbgrader": {
     "cell_type": "markdown",
     "checksum": "132db2018a8e649a2cee3189d91c2a86",
     "grade": false,
     "grade_id": "cell-57431c9e27b444cc",
     "locked": true,
     "schema_version": 3,
     "solution": false,
     "task": false
    }
   },
   "source": [
    "### Input Layer\n",
    "\n",
    "In the notebook \"Artificial neural network\", we have **flattened** the image of a clothing item. Flattening refers to the process of stacking the image pixel intensities into a one-dimensional feature vector. \n",
    "\n",
    "A very useful representation of image and video data is in the form of **tensors**. A tensor is a multidimensional array of numbers. In the case of two-dimensional space, tensors become **matrices**. For the one-dimensional space, tensors become **vectors**. In particular, we can represent a RGB colour image with $128 \\times 128$ pixels by a three-dimensional tensor of shape $(128,128,3)$. The last dimension corresponds to three color channels: Red, Green, Blue.\n",
    "\n",
    "See below an example input to CNN - an image matrix (volume) of a dimension 3x3x3. The values of the volume are pixel values from 0 to 255."
   ]
  },
  {
   "cell_type": "markdown",
   "metadata": {
    "deletable": false,
    "editable": false,
    "nbgrader": {
     "cell_type": "markdown",
     "checksum": "735f8ccfb1527f39b09529a50f7d72c4",
     "grade": false,
     "grade_id": "cell-5fefad6707012070",
     "locked": true,
     "schema_version": 3,
     "solution": false,
     "task": false
    }
   },
   "source": [
    "<img src=\"../../../coursedata/CNN/volume.png\" width=400>"
   ]
  },
  {
   "cell_type": "markdown",
   "metadata": {
    "deletable": false,
    "editable": false,
    "nbgrader": {
     "cell_type": "markdown",
     "checksum": "472affadafd6753693e1166dbb2461bd",
     "grade": false,
     "grade_id": "cell-1a7cc58973cabd33",
     "locked": true,
     "schema_version": 3,
     "solution": false,
     "task": false
    }
   },
   "source": [
    "### Convolutional Layer\n",
    "\n",
    "The crucial building block of CNN is a convolutional layer. A convolutional layer performs convolution operation between the image and kernels (also called filters). Basically, the **kernel** is a set of weights. **Convolution** of the image is a process where the kernel is sliding across the image and computing the weighted sum of the small area (patch) of the image. The kernel is typically much smaller (few pixels only) compared to the original image. Convolution of the image with kernels is used in image processing for edge detection, blurring, sharpening effects, etc. In the article [Kernel (Wikipedia)](https://en.wikipedia.org/wiki/Kernel_(image_processing)), you can see the effect of different kernels over an image.\n",
    "\n",
    "Consider a grayscale image of shape $3 \\times 3 \\times 1$ (height/width/channels) and a kernel of size $2 \\times 2 \\times 1$. For each location in the original image, we compute the sum of the element-wise products between kernel (or kernel weights) and image pixel values:\n",
    "\n",
    "`0*1 + -1*0 + 20*2 + 5*(-1) = 35`\n",
    "\n",
    "<img src=\"../../../coursedata/CNN/c1.png\" width=400>\n",
    "\n",
    "Next, the kernel slides to right by 1 pixel and produces the new value of a feature map as shown below. \n",
    "\n",
    "<img src=\"../../../coursedata/CNN/c2.png\" width=400>\n",
    "\n",
    "Similarly, the kernel slides over the whole image (right and down) and produces the output of the convolution - a **feature or activation map**.\\\n",
    "Note that the resulting output image is smaller than the input image due to the convolution operation. The input to the convolution can be an image (pixel values) or the output from another convolution (feature map). \n",
    "\n",
    "<img src=\"../../../coursedata/CNN/c3.png\" width=400>\n",
    "\n",
    "If you are still having trouble figuring out what is going on in the convolution operation, take a look at the following animation from the [\"Intuitive understanding of convolutions for deep learning\"](https://towardsdatascience.com/intuitively-understanding-convolutions-for-deep-learning-1f6f42faee1) article. Notice that in this case, we have a 5 x 5 image and a 3 x 3 kernel.\n",
    "\n",
    "<img src=\"https://miro.medium.com/max/294/1*BMngs93_rm2_BpJFH2mS0Q.gif\"> "
   ]
  },
  {
   "cell_type": "markdown",
   "metadata": {
    "deletable": false,
    "editable": false,
    "nbgrader": {
     "cell_type": "markdown",
     "checksum": "e75b4f60c3bb6aa4d4e2cba32ab8bda6",
     "grade": false,
     "grade_id": "cell-3e8f02b3640c0286",
     "locked": true,
     "schema_version": 3,
     "solution": false,
     "task": false
    }
   },
   "source": [
    "<a id='St1'></a>\n",
    "<div class=\" alert alert-warning\">\n",
    "    <h3><b>Student task.</b> Convolution operation.</h3>\n",
    "        \n",
    "Your task is to perform convolution operation with an input and kernel depicted below. You can compute values manually, by pen & paper, or with Python. Report values $x1, x2, x3, x4$.\n",
    "    \n",
    "</div>\n",
    "\n",
    "<img src=\"../../../coursedata/CNN/st1.png\" width=450>"
   ]
  },
  {
   "cell_type": "code",
   "execution_count": 1,
   "metadata": {
    "deletable": false,
    "editable": false,
    "nbgrader": {
     "cell_type": "code",
     "checksum": "a654ffe7b1175d6dfa704cebc89274f7",
     "grade": false,
     "grade_id": "cell-42b12243e91b79e7",
     "locked": true,
     "schema_version": 3,
     "solution": false,
     "task": false
    }
   },
   "outputs": [
    {
     "data": {
      "text/html": [
       "<style>\n",
       "@font-face {\n",
       "  font-family: 'Sanchez';\n",
       "  src: url('https://fonts.googleapis.com/css?family=Sanchez:400italic,400');\n",
       "}\n",
       "\n",
       "@import url('https://fonts.googleapis.com/css2?family=Sanchez&display=swap');\n",
       "\n",
       "* {\n",
       "  margin: 0;\n",
       "  padding: 0;\n",
       "  box-sizing: border-box;\n",
       "}\n",
       "\n",
       "*,\n",
       "*:before,\n",
       "*:after {\n",
       "\tbox-sizing: inherit;\n",
       "}\n",
       "\n",
       "body {\n",
       "font-family: -apple-system, BlinkMacSystemFont, \"Segoe UI\", Roboto, Helvetica,\n",
       "    Arial, sans-serif, \"Apple Color Emoji\", \"Segoe UI Emoji\", \"Segoe UI Symbol\";\n",
       "}\n",
       "\n",
       ".title-container {\n",
       "  text-align: left;\n",
       "}\n",
       "\n",
       ".title {\n",
       "  font-weight: 600;\n",
       "}\n",
       "\n",
       ".subtitle {\n",
       "  margin: 10px 0px;\n",
       "  color: #888888;\n",
       "  font-size: 25px;\n",
       "  transition: all 0.5s;\n",
       "}\n",
       "\n",
       ".main-container {\n",
       "  padding: 15px;\n",
       "}\n",
       "\n",
       ".card-container {\n",
       "  display: flex;\n",
       "  flex-wrap: wrap;\n",
       "  justify-content: space-between;\n",
       "}\n",
       "\n",
       ".card {\n",
       "  margin: 20px;\n",
       "  padding: 20px;\n",
       "  width: 100%;\n",
       "  min-height: 200px;\n",
       "  display: grid;\n",
       "  grid-template-columns: 1fr 1fr 1fr;\n",
       "  gap: 10px;\n",
       "  border-radius: 10px;\n",
       "  box-shadow: 0px 6px 10px rgba(0, 0, 0, 0.25);\n",
       "  transition: all 0.5s;\n",
       "}\n",
       "\n",
       ".card.small {\n",
       "  width: 50%;\n",
       "  min-height: 100px;\n",
       "  grid-template-columns: 1fr 1fr;\n",
       "}\n",
       "\n",
       ".card:hover {\n",
       "  box-shadow: 0px 6px 10px rgba(0, 0, 0, 0.4);\n",
       "  transform: scale(1.01);\n",
       "}\n",
       "\n",
       ".card__title {\n",
       "  grid-columnn-start: 1;\n",
       "  grid-columnn-end: -1;\n",
       "  font-weight: 400;\n",
       "  color: #ffffff;\n",
       "}\n",
       "\n",
       ".test-input {\n",
       "  grid-column-start: 1;\n",
       "  grid-column-end: 2;\n",
       "  color: #40413e;\n",
       "}\n",
       "\n",
       ".test-output {\n",
       "  grid-column-start: 2;\n",
       "  grid-column-end: 3;\n",
       "  color: #40413e;\n",
       "}\n",
       "\n",
       ".test-expected-output {\n",
       "  grid-column-start: 3;\n",
       "  grid-column-end: 4;\n",
       "  color: #40413e;\n",
       "}\n",
       "\n",
       ".card-failure {\n",
       "  background: radial-gradient(#fbc1cc, #fa99b2);\n",
       "}\n",
       "\n",
       ".card-failure .card__title::before {\n",
       "    display: inline-block;\n",
       "    margin-right: 5px;\n",
       "    font-style: normal;\n",
       "    font-variant: normal;\n",
       "    text-rendering: auto;\n",
       "    -webkit-font-smoothing: antialiased;\n",
       "    font-family: \"Font Awesome 5 Free\";\n",
       "    font-weight: 900;\n",
       "    content: \"\\f057\";\n",
       "}\n",
       "\n",
       ".card-success {\n",
       "  background: radial-gradient(#60efbc, #58d5c9);\n",
       "}\n",
       "\n",
       ".card-success .card__title::before {\n",
       "    display: inline-block;\n",
       "    margin-right: 5px;\n",
       "    font-style: normal;\n",
       "    font-variant: normal;\n",
       "    text-rendering: auto;\n",
       "    -webkit-font-smoothing: antialiased;\n",
       "    font-family: \"Font Awesome 5 Free\";\n",
       "    font-weight: 900;\n",
       "    content: \"\\f058\";\n",
       "}\n",
       "\n",
       ".card-info {\n",
       "  background: radial-gradient(#1fe4f5, #3fbafe);\n",
       "}\n",
       "\n",
       "@media (max-width: 1600px) {\n",
       "  .card-container {\n",
       "    justify-content: center;\n",
       "  }\n",
       "}\n",
       "\n",
       ".code-block {\n",
       "  padding: 5px;\n",
       "  background-color: #f3f7f7;\n",
       "  color: black;\n",
       "  border-radius: 10px;\n",
       "  box-shadow: 0px 6px 10px rgba(0, 0, 0, 0.25);\n",
       "}\n",
       "\n",
       "details {\n",
       "\tfont-size: 1rem;\n",
       "\tbox-shadow: 0 10px 15px -5px rgba(0, 0, 0, 0.1),\n",
       "\t\t0 10px 10px -5px rgba(0, 0, 0, 0.04);\n",
       "\twidth: 100%;\n",
       "\tbackground: #ffffff;\n",
       "\tborder-radius: 10px;\n",
       "\tposition: relative;\n",
       "}\n",
       "\n",
       "details:hover {\n",
       "    cursor: pointer;\n",
       "}\n",
       "\n",
       ".summary-title {\n",
       "    user-select: none;\n",
       "    margin-left: 5px;\n",
       "}\n",
       "\n",
       ".summary-content {\n",
       "    border: 2px solid #0C7B89;\n",
       "    cursor: default;\n",
       "    padding: 1em;\n",
       "    font-weight: 300;\n",
       "    font-size: 15px;\n",
       "    line-height: 1.5;\n",
       "}\n",
       "\n",
       ".wrap-up {\n",
       "    border: 2px solid #B41086;\n",
       "    cursor: default;\n",
       "    padding: 20px;\n",
       "    line-height: 1.5;\n",
       "    border-radius: 20px\n",
       "}\n",
       "\n",
       ".wrap-up-title {\n",
       "    font-size:20px;\n",
       "    color: #B41086;\n",
       "    font-weight: bold\n",
       "}\n",
       "\n",
       ".wrap-up-content {\n",
       "    font-size:14px;\n",
       "    color: black;\n",
       "}\n",
       "\n",
       ".info {\n",
       "    background-color: white;\n",
       "    border: 2px solid #0C7B89;\n",
       "    cursor: default;\n",
       "    padding: 10px;\n",
       "    line-height: 1.5;\n",
       "    border-radius: 20px\n",
       "}\n",
       "\n",
       ".info-title {\n",
       "    font-size: 20px;\n",
       "    color: #0C7B89;\n",
       "    font-weight: bold\n",
       "}\n",
       "\n",
       "summary {\n",
       "   color: white;\n",
       "   font-size: large;\n",
       "   font-weight: bold;\n",
       "   padding: 1em;\n",
       "   background-color: #0C7B89;\n",
       "   border-radius: 8px;\n",
       "   list-style: none;\n",
       "}\n",
       "\n",
       "details[open] summary {\n",
       "    border-radius: 8px 8px 0 0;\n",
       "}\n",
       "\n",
       "details[open] summary::before {\n",
       "  transform: rotate(90deg);\n",
       "  font-family: \"Font Awesome 5 Free\";\n",
       "  padding-right: 5px;\n",
       "}\n",
       "\n",
       "details summary::before {\n",
       "  position: absolute;\n",
       "  will-change: transform;\n",
       "  transition: transform 300ms ease;\n",
       "  font-family: \"Font Awesome 5 Free\";\n",
       "  color: #fff;\n",
       "  font-size: 1.1rem;\n",
       "  content: \"\\f105\";\n",
       "  left: 0;\n",
       "  display: inline-block;\n",
       "  width: 1.6rem;\n",
       "  text-align: center;\n",
       "  padding-right: 5px;\n",
       "}\n",
       "\n",
       "summary:focus {\n",
       "  outline: none;\n",
       "}\n",
       "\n",
       "summary::-webkit-details-marker {\n",
       "    display: none;\n",
       "}\n",
       "\n",
       ".ludwig {\n",
       "  position: relative;\n",
       "  padding-left: 1em;\n",
       "  border-left: 0.2em solid lighten( hsl(200, 40, 10), 40%);\n",
       "  font-family: 'Roboto', serif;\n",
       "  font-size: 1.3em;\n",
       "  line-height: 1.5em;\n",
       "  font-weight: 100;\n",
       "}\n",
       "\n",
       ".ludwig::before, .ludwig::after {\n",
       "  content: '\\201C';\n",
       "  font-family: 'Sanchez';\n",
       "  color: lighten( hsl(200, 40, 10), 40%);\n",
       "}\n",
       "\n",
       ".ludwig::after {\n",
       "  content: '\\201D';\n",
       "}\n",
       "\n",
       ".blockquote-container {\n",
       "  margin: 2em auto;\n",
       "}\n",
       "\n",
       "blockquote {\n",
       "  margin-bottom: 3em;\n",
       "}\n",
       "\n",
       "</style>"
      ],
      "text/plain": [
       "<IPython.core.display.HTML object>"
      ]
     },
     "execution_count": 1,
     "metadata": {},
     "output_type": "execute_result"
    }
   ],
   "source": [
    "import numpy as np\n",
    "from utils.styles import load_styles # custom CSS style \n",
    "\n",
    "load_styles()"
   ]
  },
  {
   "cell_type": "code",
   "execution_count": 2,
   "metadata": {
    "deletable": false,
    "nbgrader": {
     "cell_type": "code",
     "checksum": "25f1d09f563c6acb78c997d89f6037bd",
     "grade": false,
     "grade_id": "cell-4af70107ea5f8b5c",
     "locked": false,
     "schema_version": 3,
     "solution": true,
     "task": false
    }
   },
   "outputs": [],
   "source": [
    "# YOUR CODE HERE\n",
    "#raise NotImplementedError()\n",
    "\n",
    "# Uncomment lines below and fill-in computed values\n",
    "# x1 = ...\n",
    "# x2 = ...\n",
    "# x3 = ...\n",
    "# x4 = ...\n",
    "x1 = -2\n",
    "x2 = 2\n",
    "x3 = 5\n",
    "x4 = 3"
   ]
  },
  {
   "cell_type": "code",
   "execution_count": 24,
   "metadata": {
    "deletable": false,
    "editable": false,
    "nbgrader": {
     "cell_type": "code",
     "checksum": "1e29ea01ea50e47006616f3ad0cebbcb",
     "grade": true,
     "grade_id": "cell-3130d65b4235d89a",
     "locked": true,
     "points": 0.1,
     "schema_version": 3,
     "solution": false,
     "task": false
    }
   },
   "outputs": [],
   "source": [
    "# this cell is for tests\n"
   ]
  },
  {
   "cell_type": "code",
   "execution_count": 114,
   "metadata": {
    "deletable": false,
    "editable": false,
    "nbgrader": {
     "cell_type": "code",
     "checksum": "dff72a412801dc32f410ba3836963ff7",
     "grade": true,
     "grade_id": "cell-57b098f0db7b91f6",
     "locked": true,
     "points": 0.1,
     "schema_version": 3,
     "solution": false,
     "task": false
    }
   },
   "outputs": [],
   "source": [
    "# hidden test\n"
   ]
  },
  {
   "cell_type": "code",
   "execution_count": 115,
   "metadata": {
    "deletable": false,
    "editable": false,
    "nbgrader": {
     "cell_type": "code",
     "checksum": "fd0472abac8daf4476f1311b3cdfc130",
     "grade": true,
     "grade_id": "cell-0c878420890db1ec",
     "locked": true,
     "points": 0.1,
     "schema_version": 3,
     "solution": false,
     "task": false
    }
   },
   "outputs": [],
   "source": [
    "# hidden test\n"
   ]
  },
  {
   "cell_type": "code",
   "execution_count": 6,
   "metadata": {
    "deletable": false,
    "editable": false,
    "nbgrader": {
     "cell_type": "code",
     "checksum": "10dfcfa2dcdb7d3447c983535a0d1057",
     "grade": true,
     "grade_id": "cell-3c210028076e8aba",
     "locked": true,
     "points": 0.1,
     "schema_version": 3,
     "solution": false,
     "task": false
    }
   },
   "outputs": [],
   "source": [
    "# hidden test\n"
   ]
  },
  {
   "cell_type": "markdown",
   "metadata": {
    "deletable": false,
    "editable": false,
    "nbgrader": {
     "cell_type": "markdown",
     "checksum": "ae1a1b4afb8f648fcdfdeeb2f32c9b75",
     "grade": false,
     "grade_id": "cell-82c4da97ae11f5ca",
     "locked": true,
     "schema_version": 3,
     "solution": false,
     "task": false
    }
   },
   "source": [
    "<div class=\"info\">\n",
    "    <div  class=\"info-title\"><i class=\"fa fa-info-circle\" aria-hidden=\"true\"></i>&nbsp; Info</div><br>\n",
    "    <div class=\"wrap-up-content\">\n",
    "        Although the use of the term convolution is common in deep learning, what actually computed in practice is cross-correlation. Wiki about <a href=\"https://en.wikipedia.org/wiki/Convolution\">convolution and cross-correlation</a>.\n",
    "    </div>\n",
    "</div>"
   ]
  },
  {
   "cell_type": "markdown",
   "metadata": {
    "deletable": false,
    "editable": false,
    "nbgrader": {
     "cell_type": "markdown",
     "checksum": "2d2edb5b65dfdc6c704f64f352c9acfe",
     "grade": false,
     "grade_id": "cell-5f4217e61797d21e",
     "locked": true,
     "schema_version": 3,
     "solution": false,
     "task": false
    }
   },
   "source": [
    "<a id='St1'></a>\n",
    "<div class=\" alert alert-info\">\n",
    "    <h3><b>Demo.</b> Edge detection.</h3>  \n",
    "\n",
    "The convolution of the input and kernel may be seen as a filtering or feature extraction operation, where different structures or patterns (such as edges or shapes) are extracted. For example, there are edge kernels that allow passing only information about the edges from the image. \n",
    "    \n",
    "If the feature is present in the input, the output values of the convolution will be large. Applying filters (kernels) to an image is widely used in image processing. You can find some common examples in the article [Image Kernels](https://setosa.io/ev/image-kernels/).\n",
    "    \n",
    "In this demo, we will see an example of the convolution of an image and a kernel for edge detection.\n",
    "     \n",
    "</div>"
   ]
  },
  {
   "cell_type": "code",
   "execution_count": 3,
   "metadata": {
    "deletable": false,
    "editable": false,
    "nbgrader": {
     "cell_type": "code",
     "checksum": "e1721804ef248dde97c28ebff7ffe0aa",
     "grade": false,
     "grade_id": "cell-29bfac119521b6d8",
     "locked": true,
     "schema_version": 3,
     "solution": false,
     "task": false
    },
    "tags": []
   },
   "outputs": [
    {
     "name": "stderr",
     "output_type": "stream",
     "text": [
      "Fontconfig error: Cannot load default config file: No such file: (null)\n"
     ]
    },
    {
     "data": {
      "image/png": "[encoded data removed]",
      "text/plain": [
       "<Figure size 864x432 with 3 Axes>"
      ]
     },
     "metadata": {
      "needs_background": "light"
     },
     "output_type": "display_data"
    }
   ],
   "source": [
    "from PIL import Image\n",
    "import numpy as np\n",
    "import matplotlib.pyplot as plt\n",
    "from scipy.signal import convolve2d  \n",
    "\n",
    "fname = \"../../../coursedata/CNN/guitar.png\" # file path\n",
    "image = Image.open(str(fname)).convert(\"L\")  # open image with python Image library\n",
    "arr = np.asarray(image) # convert image to array\n",
    "\n",
    "# define kernel values\n",
    "kernel = np.array([[-1, -1, -1],\n",
    "                   [-1, 8, -1],\n",
    "                   [-1, -1, -1]])\n",
    "\n",
    "# perform convolution operation\n",
    "conv_img = convolve2d(arr, kernel, mode='valid')\n",
    "\n",
    "fig, axes = plt.subplots(1,3, figsize=(12,6))\n",
    "\n",
    "axes[0].imshow(arr, cmap='gray')\n",
    "axes[1].imshow(kernel, cmap='gray')\n",
    "axes[2].imshow(conv_img, cmap='gray', vmin=0, vmax=50)\n",
    "\n",
    "axes[0].set_title('image', fontsize=20)\n",
    "axes[1].set_title('3x3 kernel', fontsize=20)\n",
    "axes[2].set_title('convolution', fontsize=20)\n",
    "\n",
    "[ax.axis(\"off\") for ax in axes]\n",
    "\n",
    "plt.show()"
   ]
  },
  {
   "cell_type": "markdown",
   "metadata": {
    "deletable": false,
    "editable": false,
    "nbgrader": {
     "cell_type": "markdown",
     "checksum": "eca1e2ee30375025bcc11fef2c8d773d",
     "grade": false,
     "grade_id": "cell-f5ce8f043ef9d6b7",
     "locked": true,
     "schema_version": 3,
     "solution": false,
     "task": false
    }
   },
   "source": [
    "In contrast to dense layers, which learn global patterns in their input space (each neuron is connected to every input entry), convolutional layers aim at detecting **local patterns** (each neuron is connected to only its own receptive field). \n",
    "You will notice that convolutional layers are usually depicted differently than ordinary ANN to clearly illustrate convolution operation on the input image. Let's represent both layers in \"unfolded\" and \"folded\" modes, so you could see differences between them clearly.  \n",
    "\n",
    "<img src=\"../../../coursedata/CNN/c5.png\">"
   ]
  },
  {
   "cell_type": "markdown",
   "metadata": {
    "deletable": false,
    "editable": false,
    "nbgrader": {
     "cell_type": "markdown",
     "checksum": "e85f53af90392850741b450baa584385",
     "grade": false,
     "grade_id": "cell-660bef9e07633c15",
     "locked": true,
     "schema_version": 3,
     "solution": false,
     "task": false
    }
   },
   "source": [
    "As we discussed the convolution is a feature extraction operation. The kernel learns the particular feature from the image. In order to learn multiple features in parallel for a given input, the convolution layer has many different kernels. \n",
    "\n",
    "In CNN, kernels are initialized randomly and become weights, which will be subsequently learned by the network. To update the weights of the convolutional layer we use the same iterative process of gradient-based learning as for a simple ANN, but the backpropagation step is a bit more complicated due to the presence of convolution operation.\n",
    "\n",
    "The important thing to remember while doing a convolution operation is that the depth of a kernel should match that of the input depth. If you have an image of volume 3x3x3 as an input (where 3 represents 3 color channels: red, blue, and green), the kernel should also be of the same depth, for example, 2x2x3. \n",
    "\n",
    "Below the animation illustrates how the output is calculated for an MxNx3 image and 3x3x3 kernel. Note that the depth of the convolution kernel matches the depth of the image, both being 3. When the kernel is shifted to a particular location in the input image, it covers a small volume of the input (**receptive field**) and performs a convolution operation with this input. We sum up results of convolutions from all channels (plus bias term) for each location.\n",
    "\n",
    "\n",
    "<img src=\"../../../coursedata/CNN/cnn.gif\" width=1000>\n",
    "<br>\n",
    "\n",
    "As we said, the convolution layer has many different kernels and the activation maps from each kernel are stacked together along the depth dimension, thus creating the 3D output volume.\n",
    "\n",
    "Below you can see an example of multi-filter (2 kernels, each of shape 2x2x3 ) multi-channel (3 channels, e.g., RGB) convolution operation. \n",
    "\n",
    "<img src=\"../../../coursedata/CNN/c4.png\" width=1000>\n",
    "\n",
    "Also, check [the following animation](https://cs231n.github.io/assets/conv-demo/index.html) where you can see an example of multi-filter (2 kernels, W0 and W1) multi-channel (3 channels, e.g., RGB) convolution operation. "
   ]
  },
  {
   "cell_type": "markdown",
   "metadata": {
    "deletable": false,
    "editable": false,
    "nbgrader": {
     "cell_type": "markdown",
     "checksum": "cc0a8624641ea5109ef3a0d208cc75b2",
     "grade": false,
     "grade_id": "cell-d9d622c66296b352",
     "locked": true,
     "schema_version": 3,
     "solution": false,
     "task": false
    }
   },
   "source": [
    "Here you can see yet another representation of the convolutional layer, to better understand its structure. Note that the convolutional layer has three dimensions. The depth of the conv layer depends on the number of kernels (here 2 kernels - depicted with dark brown and light brown colors). Each kernel in its turn has the same third dimension as the input. For example, if the input is a grayscale image, the kernel shape is (height x width x 1), while if the input is an RGB image, the kernel shape is (height x width x 3). Also note, that the neurons of the same \"slice\" are sharing the weights (so-called **parameter sharing**). E.g. all the \"dark brown\" neurons have the same kernel weights and bias, but different receptive field (they apply the kernel to different \"patches\" of the image). Thus, if the kernel is tuned to detect a specific pattern, this pattern will be detected at any location of the image, as all neurons of the same \"slice\" have the same kernel. In addition, this gives us significantly fewer weights for a given convolutional layer.\n",
    "\n",
    "<img src=\"../../../coursedata/CNN/3dconv.png\" width=700>\n",
    "\n",
    "Similar to ANNs also CNNs can contain several successive layers. Such a deep CNN, consisting of many convolutional layers and pooling layers, tends to learn **spatial hierarchies**. A spatial hierarchy is formed by having the first convolutional layers (closer to the input) learn low-level patterns (concepts) such as corners, edges, or rectangles. The deeper layers (more close to the output) combine low-level patterns to form higher-level patterns (concepts) such as \"dogs\" or \"cats\"."
   ]
  },
  {
   "cell_type": "markdown",
   "metadata": {
    "deletable": false,
    "editable": false,
    "nbgrader": {
     "cell_type": "markdown",
     "checksum": "fac7381bb28d71f9fb41fc56b5d53191",
     "grade": false,
     "grade_id": "cell-efe665b4e3a7099b",
     "locked": true,
     "schema_version": 3,
     "solution": false,
     "task": false
    }
   },
   "source": [
    "### Zero Padding\n",
    "\n",
    "Above we discussed kernels that traverse across the image by one pixel at a time. We call several pixels (or step size) by which kernel traversed in each slide a **stride**. \\\n",
    "Also, we saw that the size of the output from convolution operation, i.e feature map, is smaller than the input image size. This means that we are losing some pixel values around the perimeter of the image. Since CNN might consist of many convolutional layers, loss of pixels values in each successive convolution layer might result in a loss of important features from the image. To get the input-sized output, we employ a technique called **zero padding**. Padding is a technique in which we add zero-valued pixels around the image symmetrically. \n",
    "\n",
    "Below you can see an example of zero padding with size one.\n",
    "\n",
    "<img src=\"../../../coursedata/CNN/padding.png\" width=600>\n",
    "\n",
    "In order to get the output volume of the same spatial dimension as input volume given the **stride=1**, we can find the size of zero padding needed with the following formula: \n",
    "\n",
    "<center> zero padding size = $\\large\\frac{(F-1)}{2}$, where $F$ is kernel size </center>\n",
    "\n",
    "In general, the size of an output of a convolutional layer can be calculated with the following formula:\n",
    "\n",
    "\\begin{equation}\n",
    "W_{out}\\times H_{out}\\times D_{out} = [\\lfloor \\frac{W_{in}+2P-F}{S} +1 \\rfloor , \\lfloor \\frac{H_{in}+2P-F}{S} + 1 \\rfloor, K]\n",
    "\\end{equation}\n",
    "\n",
    "where:\n",
    "\n",
    "- W - width\n",
    "- H - height\n",
    "- D - depth\n",
    "- P - padding\n",
    "- S - stride\n",
    "- F - kernel size\n",
    "- K - number of kernels\n",
    "- $\\lfloor x \\rfloor$ - denotes the [floor function](https://en.wikipedia.org/wiki/Floor_and_ceiling_functions), for example, $\\lfloor 2.3 \\rfloor = 2$"
   ]
  },
  {
   "cell_type": "markdown",
   "metadata": {
    "deletable": false,
    "editable": false,
    "nbgrader": {
     "cell_type": "markdown",
     "checksum": "7d17ffe681f26d0ab41db7c4700e90a3",
     "grade": false,
     "grade_id": "cell-4cecfb269fdaac0f",
     "locked": true,
     "schema_version": 3,
     "solution": false,
     "task": false
    }
   },
   "source": [
    "<a id='St2'></a>\n",
    "<div class=\" alert alert-warning\">\n",
    "    <h3><b>Student task.</b> Padding and stride.</h3>\n",
    "        \n",
    "Given:\n",
    "    \n",
    "- an input image of size 28x28 pixels, \n",
    "- network consisting of 3 convolutional layers and \n",
    "- kernel size 3x3 (F=3) with stride S=1 for all layers, \n",
    "\n",
    "select padding parameters such that the output of the network is 24x24. The input of the 1st conv layer is 28x28 image, the input of the 2nd conv layer is the output of 1st conv layer, etc.\n",
    "    \n",
    "Store the value of padding size for first convolutional layer in variable `pad_cv1`; for 2nd - in variable `pad_cv2`;  for last - in variable `pad_cv3`.   \n",
    "</div>"
   ]
  },
  {
   "cell_type": "code",
   "execution_count": 4,
   "metadata": {
    "deletable": false,
    "nbgrader": {
     "cell_type": "code",
     "checksum": "995437b633c65c1a7051a08f4bff599b",
     "grade": false,
     "grade_id": "cell-7e624b80f336a7e9",
     "locked": false,
     "schema_version": 3,
     "solution": true,
     "task": false
    }
   },
   "outputs": [],
   "source": [
    "from math import floor  # floor function, use as floor(...)\n",
    "\n",
    "# YOUR CODE HERE\n",
    "#raise NotImplementedError()\n",
    "\n",
    "# pad_cv1 =  ...\n",
    "# pad_cv2 =  ...\n",
    "# pad_cv3 =  ...\n",
    "pad_cv1 = 0\n",
    "pads_cv2 = 0\n",
    "pad_cv3 = 1"
   ]
  },
  {
   "cell_type": "code",
   "execution_count": 26,
   "metadata": {
    "deletable": false,
    "editable": false,
    "nbgrader": {
     "cell_type": "code",
     "checksum": "8099e9eb71d0111de371cc40971634c4",
     "grade": true,
     "grade_id": "cell-72ea6247204520e9",
     "locked": true,
     "points": 1,
     "schema_version": 3,
     "solution": false,
     "task": false
    }
   },
   "outputs": [],
   "source": [
    "# this cell is for tests\n"
   ]
  },
  {
   "cell_type": "markdown",
   "metadata": {
    "deletable": false,
    "editable": false,
    "nbgrader": {
     "cell_type": "markdown",
     "checksum": "714f57be4290aea6307947ddf66fc60f",
     "grade": false,
     "grade_id": "cell-538f5971612c1406",
     "locked": true,
     "schema_version": 3,
     "solution": false,
     "task": false
    }
   },
   "source": [
    "<div class=\"wrap-up\">\n",
    "    <div class=\"wrap-up-title\">Wrap up</div><br>\n",
    "    <div class=\"wrap-up-content\">\n",
    "        <ul>\n",
    "          <li>Conv layer learns local patterns </li>\n",
    "          <li>Conv layer has following hyperparameters:</li>\n",
    "                <ul>\n",
    "                      <li>Number of kernels - K</li>\n",
    "                      <li>Kernel size - F</li>\n",
    "                      <li>Stride - S </li>\n",
    "                      <li>Zero padding size - P</li>\n",
    "                </ul>\n",
    "          <li>Conv layer accepts the input volume of size:  $W_{in}$x$H_{in}$x$D_{in}$</li>\n",
    "          <li>and outputs the volume of size: $W_{out}$x$H_{out}$x$D_{out}$</li>\n",
    "            <br>\n",
    "          where \n",
    "            $W_{out}$x$H_{out}$x$D_{out}$ = $[\\lfloor \\frac{W_{in}+2P-F}{S} +1 \\rfloor , \\lfloor \\frac{H_{in}+2P-F}{S} + 1 \\rfloor, K]$\n",
    "        </ul>\n",
    "    </div>\n",
    "</div>"
   ]
  },
  {
   "cell_type": "markdown",
   "metadata": {
    "deletable": false,
    "editable": false,
    "nbgrader": {
     "cell_type": "markdown",
     "checksum": "ccc04cbce36f2d52549925127c268783",
     "grade": false,
     "grade_id": "cell-9275775fee49e336",
     "locked": true,
     "schema_version": 3,
     "solution": false,
     "task": false
    }
   },
   "source": [
    "### Pooling Layer\n",
    "\n",
    "Another important building block of CNN is a [pooling layer](https://keras.io/api/layers/pooling_layers/). Pooling layers take activation maps as its input and return sub-sampled activation maps. Pooling operation greatly reduces the number of weights in the network and, thus, prevents overfitting of the network. \n",
    "\n",
    "Two of the most common pooling operations are:\n",
    "\n",
    "- Max pooling\n",
    "- Average pooling\n",
    "\n",
    "Similar to the function of a convolution layer, a pooling layer amounts to applying the same operation to small areas (patches) of an image. In contrast to convolutional layers, this operation is a pooling operation. The outputs of a max pooling layer are the largest values of the corresponding (small) patch of the input. In contrast, the output in average pooling layers is obtained by the (local) average over all entries in the corresponding patch of the input.  \n",
    "\n",
    "Below is a visualization of the max pooling operation. \n",
    "\n",
    "Max pooling with a kernel size of 2 and stride 1. We take the largest value from the window of the activation map overlapped by the kernel.\n",
    "\n",
    "<img src=\"../../../coursedata/CNN/max1.png\" width=350>\n",
    "\n",
    "Similar to convolution operation, we move kernel with step size 1, until we get complete max pooled activation map.\n",
    "<img src=\"../../../coursedata/CNN/max2.png\" width=350>"
   ]
  },
  {
   "cell_type": "markdown",
   "metadata": {
    "deletable": false,
    "editable": false,
    "nbgrader": {
     "cell_type": "markdown",
     "checksum": "5126788d83d74e62260f08db577cd55e",
     "grade": false,
     "grade_id": "cell-2c5b5105cf486f12",
     "locked": true,
     "schema_version": 3,
     "solution": false,
     "task": false
    }
   },
   "source": [
    "<div class=\"wrap-up\">\n",
    "    <div class=\"wrap-up-title\">Wrap up</div><br>\n",
    "    <div class=\"wrap-up-content\">\n",
    "        <ul>\n",
    "          <li>Pooling layer reduces the number of parameters</li>\n",
    "          <li>Pooling layer has following hyperparameters:</li>\n",
    "                <ul>\n",
    "                      <li>Kernel size - F</li>\n",
    "                      <li>Stride - S </li>\n",
    "                </ul>\n",
    "            <li>It does not have learnable parameters (it just performs maxout operation or averaging) </li>    \n",
    "            <li>It accepts the input volume of size:  $W_{in}$x$H_{in}$x$D_{in}$</li>\n",
    "            <li>It outputs the volume of size: $W_{out}$x$H_{out}$x$D_{out}$</li>\n",
    "            <br>\n",
    "             where \n",
    "            $W_{out}$x$H_{out}$x$D_{out}$ = $[\\lfloor \\frac{W_{in}-F}{S} + 1 \\rfloor,\\lfloor \\frac{H_{in}-F}{S} + 1 \\rfloor, D_{in}]$\n",
    "        </ul>\n",
    "    <p>\n",
    "    Max pooling is used much more often than average pooling and two most common hyperparameter choices are F=3, S=2, and F=2, S=2 (later one being even more common) \n",
    "<a href='https://www.youtube.com/watch?v=8oOgPUO-TBY'>[1]</a>\n",
    "<a href='https://cs231n.github.io/convolutional-networks/#pool'>[2]</a>.\n",
    "    </p>\n",
    "    </div>\n",
    "</div>"
   ]
  },
  {
   "cell_type": "markdown",
   "metadata": {
    "deletable": false,
    "editable": false,
    "nbgrader": {
     "cell_type": "markdown",
     "checksum": "de4f942ba9ccf26982129cb11269c038",
     "grade": false,
     "grade_id": "cell-b2cfcb19797499f8",
     "locked": true,
     "schema_version": 3,
     "solution": false,
     "task": false
    }
   },
   "source": [
    "A convolution layer followed by a pooling layer provides so called **invariance** property of CNN. This means that local patterns are \"detected\" even after some transformation (translation, rotation, scaling) of the input. For example, in the image below, you can see how the number five induces a large response in the network, despite slight rotation. Here, three kernels learned to match a slightly different orientation of the five. In the first case, the input matches the first kernel and results in the large values of the activation map, while in the second case rotated image matches the third kernel. In either case, pooling of activation maps will result in a large response (values). Read more in the [Deep Learning book](https://www.deeplearningbook.org/contents/convnets.html).\n",
    "\n",
    "<img src=\"../../../coursedata/CNN/translinv.png\" width=500>"
   ]
  },
  {
   "cell_type": "markdown",
   "metadata": {
    "deletable": false,
    "editable": false,
    "nbgrader": {
     "cell_type": "markdown",
     "checksum": "d11ef7356522522d66ebe27f3f5870f0",
     "grade": false,
     "grade_id": "cell-34bcba405df721f0",
     "locked": true,
     "schema_version": 3,
     "solution": false,
     "task": false
    }
   },
   "source": [
    "### Fully-Connected layer\n",
    "\n",
    "In this layer, the feature map from the last convolution or pooling layer is flattened into a single vector of values and fed into a fully connected layer. Fully connected layers are the same as in ANN we saw before and perform the same mathematical operations. After passing through the fully connected layers, the final layer uses the softmax activation function which gives the probabilities of the input belonging to a particular class.\n",
    "\n",
    "<img src=\"../../../coursedata/CNN/fully_connected.png\" width=550>"
   ]
  },
  {
   "cell_type": "markdown",
   "metadata": {
    "deletable": false,
    "editable": false,
    "nbgrader": {
     "cell_type": "markdown",
     "checksum": "339ebd4a9727ee7b4116ebf48caf0321",
     "grade": false,
     "grade_id": "cell-82ad93a46e75bdca",
     "locked": true,
     "schema_version": 3,
     "solution": false,
     "task": false
    }
   },
   "source": [
    "### Number of parameters in CNN layer\n",
    "\n",
    "Deep learning models learn hundreds of thousands of parameters (weights and biases). Knowing the total numbers of learnable parameters helps to determine the required sample size (number of training data points) in order to avoid overfitting. \n",
    "For CNN we can calculate the number of learnable parameters in each layer as follows:\n",
    "\n",
    "$\\text{Number of params}  = (kernel\\_ width * kernel\\_height * channels\\_in + 1 \\text{ (for bias))} * channels\\_out$\n",
    "\n",
    "In the typical CNN, the spatial volume of the output decreases while the number of the kernels learned increases as we go deeper into the network. The convention is to choose the number of kernels equal to powers of 2 (e.g. $2^5=32$, $2^6=64$), and kernel size to be an odd integer value (e.g. 3 or 5).\n",
    "\n",
    "Using the above formula, let's calculate the numbers of parameters in the convolutional layers."
   ]
  },
  {
   "cell_type": "markdown",
   "metadata": {
    "deletable": false,
    "editable": false,
    "nbgrader": {
     "cell_type": "markdown",
     "checksum": "9ecdd37c05669414614fe236c20f5f9f",
     "grade": false,
     "grade_id": "cell-b9be5ab63a2b5be8",
     "locked": true,
     "schema_version": 3,
     "solution": false,
     "task": false
    }
   },
   "source": [
    "<a id='St5'></a>\n",
    "<div class=\" alert alert-warning\">\n",
    "    <h3><b>Student task.</b> Compute number of parameters.</h3>\n",
    "<p>Given:</p>\n",
    "\n",
    "- an input image of size 28x28 pixels (grayscale), \n",
    "- network consisting of 3 convolutional layers with parameters: </br>\n",
    "    \n",
    "     conv1: kernel size=(3x3), number of kernels=16 </br>\n",
    "     conv2: kernel size=(3x3), number of kernels=32 </br>\n",
    "     conv3: kernel size=(3x3), number of kernels=64 </br>\n",
    "    \n",
    "Compute the total number of parameters (including biases) and store them in the variable `params_num`.      \n",
    "</div>"
   ]
  },
  {
   "cell_type": "code",
   "execution_count": 5,
   "metadata": {
    "deletable": false,
    "nbgrader": {
     "cell_type": "code",
     "checksum": "4d767bb1dd3344e08dbf94f62f88d048",
     "grade": false,
     "grade_id": "cell-b70d12ad407894d6",
     "locked": false,
     "schema_version": 3,
     "solution": true,
     "task": false
    }
   },
   "outputs": [
    {
     "name": "stdout",
     "output_type": "stream",
     "text": [
      "Total number of parameters is 1120\n"
     ]
    }
   ],
   "source": [
    "#params_num = ...\n",
    "params_num = 16*(3*3+1)+ 32*(3*3+1) + 64*(3*3+1)\n",
    "# YOUR CODE HERE\n",
    "#raise NotImplementedError()\n",
    "\n",
    "print(\"Total number of parameters is\", params_num)"
   ]
  },
  {
   "cell_type": "code",
   "execution_count": 6,
   "metadata": {
    "deletable": false,
    "editable": false,
    "nbgrader": {
     "cell_type": "code",
     "checksum": "0b5dbe9f9b87bde1d572a0cff367bd43",
     "grade": true,
     "grade_id": "cell-73734aae323e701f",
     "locked": true,
     "points": 1.1,
     "schema_version": 3,
     "solution": false,
     "task": false
    }
   },
   "outputs": [],
   "source": [
    "# this cell is for tests\n"
   ]
  },
  {
   "cell_type": "markdown",
   "metadata": {
    "deletable": false,
    "editable": false,
    "nbgrader": {
     "cell_type": "markdown",
     "checksum": "256d508cd7845d98e854658fcc9a3289",
     "grade": false,
     "grade_id": "cell-3e51ca7335b34ea8",
     "locked": true,
     "schema_version": 3,
     "solution": false,
     "task": false
    }
   },
   "source": [
    "## Building and training CNN in Keras\n",
    "\n",
    "Since CNN is a special case of an ANN, applying a CNN follows the same usage pattern as for an ANN:\n",
    "\n",
    "1. Load the data. \n",
    "2. Define the hypothesis space (model) by choosing a network structure. \n",
    "3. Configure the learning process by choosing a loss function and an optimizer. \n",
    "4. Train a model to find good choices for network parameters (weights and bias).  "
   ]
  },
  {
   "cell_type": "code",
   "execution_count": 7,
   "metadata": {
    "deletable": false,
    "editable": false,
    "nbgrader": {
     "cell_type": "code",
     "checksum": "7c6e92772f0753e055f2fef2bb807e4c",
     "grade": false,
     "grade_id": "cell-aa363108a02a7f20",
     "locked": true,
     "schema_version": 3,
     "solution": false,
     "task": false
    }
   },
   "outputs": [],
   "source": [
    "import tensorflow as tf                               # tensorflow library provides functions for deep neural networks \n",
    "from tensorflow.keras.datasets import fashion_mnist   # to load the fashion mnist data set\n",
    "import matplotlib.pyplot as plt                       # provides functios to visualize data\n",
    "import numpy as np                                    # provides functions for matrix computations\n",
    "from sklearn.metrics import classification_report     # function for computing classification metrics \n",
    "\n",
    "# for reproducibility \n",
    "np.random.seed(1)\n",
    "tf.random.set_seed(1)"
   ]
  },
  {
   "cell_type": "markdown",
   "metadata": {
    "deletable": false,
    "editable": false,
    "nbgrader": {
     "cell_type": "markdown",
     "checksum": "569f3187fb236f8a76f9f0466775ad7f",
     "grade": false,
     "grade_id": "cell-2929eff9596c2e96",
     "locked": true,
     "schema_version": 3,
     "solution": false,
     "task": false
    }
   },
   "source": [
    "### Step 1 - Dataset"
   ]
  },
  {
   "cell_type": "markdown",
   "metadata": {
    "deletable": false,
    "editable": false,
    "nbgrader": {
     "cell_type": "markdown",
     "checksum": "82fd5e00a0338d63073db805ffbb94ec",
     "grade": false,
     "grade_id": "cell-01ae12dc565b33cb",
     "locked": true,
     "schema_version": 3,
     "solution": false,
     "task": false
    }
   },
   "source": [
    "Here we use [Fashion-MNIST](https://www.tensorflow.org/datasets/catalog/fashion_mnist) dataset, where each data point is represented by a grayscale image of size 28x28 pixels. Each image represents a specific fashion item and each data point is associated with a label taking on values $y=0,\\dots,9$ according to 10 different classes.\n",
    "\n",
    "Dataset is retrieved by using the command \n",
    "\n",
    "```python\n",
    ">>> tf.keras.datasets.fashion_mnist.load_data()\n",
    "```\n",
    "\n",
    "We can split dataset on training and validation sets automatically by using argument `validation_split` of keras `fit()` function:\n",
    "\n",
    "```python\n",
    ">>> model.fit(train_images, train_labels, validation_split=0.2, epochs=20)\n",
    "```\n",
    "\n",
    "We can also define training and validation sets by using argument `validation_data`:\n",
    "\n",
    "```python\n",
    ">>> model.fit(train_images, train_labels, validation_data=(val_images, val_labels), epochs=20)\n",
    "```\n",
    "\n",
    "To use this method, let's define our training and validation subsets and scale values.    "
   ]
  },
  {
   "cell_type": "markdown",
   "metadata": {
    "deletable": false,
    "editable": false,
    "nbgrader": {
     "cell_type": "markdown",
     "checksum": "d7b11a69df2b37f0d6ee141d04e0a243",
     "grade": false,
     "grade_id": "cell-2d7b542543e8be6c",
     "locked": true,
     "schema_version": 3,
     "solution": false,
     "task": false
    }
   },
   "source": [
    "<a id='St3'></a>\n",
    "<div class=\" alert alert-warning\">\n",
    "    <h3><b>Student task.</b> Load the dataset.</h3>\n",
    "        \n",
    "Your task is to load the Fashion-MNIST dataset using `tf.keras.datasets`. We will use only part of the dataset in order to reduce CNN training time.\n",
    "    \n",
    "- When loading dataset with `tf.keras.datasets`, training and test sets are returned. You need to split the training set further into training and validation subsets. \n",
    "- Out of the whole training set (60.000 samples), choose the first 10.000 images and labels for the training dataset and the next 6.000 samples for the validation dataset. \n",
    "- Store features and labels in numpy arrays `X_train, y_train` & `X_val, y_val`.\n",
    "- Scale feature values (divide by max pixel value 255).\n",
    "    \n",
    "The shape of datasets should be ($m$, IMG_HEIGHT, IMG_WIDTH, 1), where $m$ is the sample size and last dimension is for image channel (1 for grayscale and 3 for RGB).\n",
    "</div>"
   ]
  },
  {
   "cell_type": "code",
   "execution_count": 8,
   "metadata": {
    "deletable": false,
    "nbgrader": {
     "cell_type": "code",
     "checksum": "f0257935a736d5765166f7de3d673877",
     "grade": false,
     "grade_id": "cell-c141b60c3fda2e2b",
     "locked": false,
     "schema_version": 3,
     "solution": true,
     "task": false
    }
   },
   "outputs": [
    {
     "name": "stdout",
     "output_type": "stream",
     "text": [
      "Downloading data from https://storage.googleapis.com/tensorflow/tf-keras-datasets/train-labels-idx1-ubyte.gz\n",
      "32768/29515 [=================================] - 0s 0us/step\n",
      "40960/29515 [=========================================] - 0s 0us/step\n",
      "Downloading data from https://storage.googleapis.com/tensorflow/tf-keras-datasets/train-images-idx3-ubyte.gz\n",
      "26427392/26421880 [==============================] - 0s 0us/step\n",
      "26435584/26421880 [==============================] - 0s 0us/step\n",
      "Downloading data from https://storage.googleapis.com/tensorflow/tf-keras-datasets/t10k-labels-idx1-ubyte.gz\n",
      "16384/5148 [===============================================================================================] - 0s 0us/step\n",
      "Downloading data from https://storage.googleapis.com/tensorflow/tf-keras-datasets/t10k-images-idx3-ubyte.gz\n",
      "4423680/4422102 [==============================] - 0s 0us/step\n",
      "4431872/4422102 [==============================] - 0s 0us/step\n",
      "Number of training examples: (10000, 28, 28, 1)\n",
      "Number of validation examples: (6000, 28, 28, 1)\n",
      "Number of test examples: (10000, 28, 28, 1)\n"
     ]
    }
   ],
   "source": [
    "import ssl\n",
    "ssl._create_default_https_context = ssl._create_unverified_context\n",
    "\n",
    "# YOUR CODE HERE\n",
    "#raise NotImplementedError()\n",
    "\n",
    "# load dataset\n",
    "(trainval_images, trainval_labels), (test_images, test_labels) = fashion_mnist.load_data()\n",
    "# (X_trainval, y_trainval), (X_test, y_test) = ...\n",
    "(X_trainval, y_trainval), (X_test, y_test) = (trainval_images[:16000], trainval_labels[:16000]), (test_images, test_labels)\n",
    "# split trainval set into  training and validation datasets (X_train,y_train) & (X_val, y_val)\n",
    "(X_train, y_train), (X_val, y_val) = (X_trainval[:10000], y_trainval[:10000]), (X_trainval[10000:16000], y_trainval[10000:16000])\n",
    "# scale feature values \n",
    "\n",
    "# X_train = ...\n",
    "# y_train = ...\n",
    "X_train = X_train/255.0\n",
    "#y_train = y_train/255.0\n",
    "# X_val = ...\n",
    "# y_val = ...\n",
    "X_val = X_val/255.0\n",
    "#y_val = y_val/255.0\n",
    "# scale test set \n",
    "# X_test = ...\n",
    "X_test = X_test/255.0\n",
    "# reshape features to specify number of channels (one for grayscale images and three for RGB)\n",
    "# as last dimension: (n_samples, height, width, channels)\n",
    "\n",
    "# X_train = ...\n",
    "# X_val   = ...\n",
    "# X_test  = ...\n",
    "X_train = X_train.reshape(10000, 28, 28,1)\n",
    "X_val = X_val.reshape(6000, 28, 28, 1)\n",
    "X_test = X_test.reshape(10000, 28, 28,1)\n",
    "# shape of train, validation and test datasets\n",
    "print(f'Number of training examples: {X_train.shape}')\n",
    "print(f'Number of validation examples: {X_val.shape}')\n",
    "print(f'Number of test examples: {X_test.shape}')"
   ]
  },
  {
   "cell_type": "code",
   "execution_count": 9,
   "metadata": {
    "deletable": false,
    "editable": false,
    "nbgrader": {
     "cell_type": "code",
     "checksum": "10daf56c3e898c3aa1093cc95dc116eb",
     "grade": false,
     "grade_id": "cell-82e1b8e4bb052c89",
     "locked": true,
     "schema_version": 3,
     "solution": false,
     "task": false
    }
   },
   "outputs": [
    {
     "name": "stdout",
     "output_type": "stream",
     "text": [
      "Sanity checks passed!\n"
     ]
    }
   ],
   "source": [
    "# Perform some sanity checks on the solution\n",
    "assert X_train.shape == (10000, 28, 28, 1), \"The shape of X_train is incorrect!\"\n",
    "assert X_val.shape == (6000, 28, 28, 1), \"The shape of X_val is incorrect!\"\n",
    "assert X_test.shape == (10000, 28, 28, 1), \"The shape of X_test is incorrect!\"\n",
    "\n",
    "print(\"Sanity checks passed!\")"
   ]
  },
  {
   "cell_type": "code",
   "execution_count": 11,
   "metadata": {
    "deletable": false,
    "editable": false,
    "nbgrader": {
     "cell_type": "code",
     "checksum": "deeeb9f344bcaf9b0c410e3e86738d05",
     "grade": true,
     "grade_id": "cell-a4745901d721a74e",
     "locked": true,
     "points": 0.5,
     "schema_version": 3,
     "solution": false,
     "task": false
    }
   },
   "outputs": [],
   "source": [
    "# cell for hidden test\n"
   ]
  },
  {
   "cell_type": "code",
   "execution_count": 12,
   "metadata": {
    "deletable": false,
    "editable": false,
    "nbgrader": {
     "cell_type": "code",
     "checksum": "0c3d602fad561e6b94b58324ea66812d",
     "grade": true,
     "grade_id": "cell-da5eee544b6c4bf9",
     "locked": true,
     "points": 0.5,
     "schema_version": 3,
     "solution": false,
     "task": false
    }
   },
   "outputs": [],
   "source": [
    "# hidden test\n"
   ]
  },
  {
   "cell_type": "code",
   "execution_count": 13,
   "metadata": {
    "deletable": false,
    "editable": false,
    "nbgrader": {
     "cell_type": "code",
     "checksum": "694b5f9ffeccedf2aa224bdff2bf5713",
     "grade": true,
     "grade_id": "cell-2b31914afc4ef28f",
     "locked": true,
     "points": 0.5,
     "schema_version": 3,
     "solution": false,
     "task": false
    }
   },
   "outputs": [],
   "source": [
    "# hidden test\n"
   ]
  },
  {
   "cell_type": "markdown",
   "metadata": {
    "deletable": false,
    "editable": false,
    "nbgrader": {
     "cell_type": "markdown",
     "checksum": "f84fb9c30c0f2f13874fa74a1d0ab69f",
     "grade": false,
     "grade_id": "cell-2169c8d3f0bed17e",
     "locked": true,
     "schema_version": 3,
     "solution": false,
     "task": false
    }
   },
   "source": [
    "### Step 2: Choose CNN Architecture (Hypothesis Space)\n",
    "\n",
    "\n",
    "We use <b>Conv2d Keras</b> class to define convolutional layer:  `tf.keras.layers.Conv2D(params)`.\\\n",
    "We are going to set following parameters:\n",
    "\n",
    "    \n",
    "- `filters`:  the number of kernels the layers will learn; the dimensionality of the output space (i.e. the number of output channels).\n",
    "\n",
    "- `kernel_size`: an integer or tuple/list of 2 integers, specifying the height and width of the 2D convolution window size. Can be a single integer to specify the same value for all spatial dimensions.\n",
    "\n",
    "- `padding`: types of padding to apply; one of \"valid\" or \"same\" (case-insensitive). \"valid\" means no padding, thus spatial dimension will be reduced. \"same\" results in padding evenly to the left/right or up/down of the input such that output has the same height/width dimension as the input.\n",
    "\n",
    "- `activation`: string specifying the activation function to apply after performing the convolution.\n",
    "\n",
    "Similarly, we apply max pooling in our pooling layer by using <b>MaxPool2D</b> class: `tf.keras.layers.MaxPool2D(args)`. The parameter we set in this layer is:\n",
    "- `pool_size` - determines the kernel size \n",
    "\n",
    "Conv2d and and MaxPool2d have some more optional parameters to define, read more [here](https://keras.io/api/layers/convolution_layers/convolution2d/) and [here](https://keras.io/api/layers/pooling_layers/max_pooling2d/). \n",
    "\n",
    "To connect the output of conv layers with dense layer, we can automatically flatten the input by calling `tf.keras.layers.Flatten()` ([docs](https://keras.io/api/layers/reshaping_layers/flatten/)). You can find information about other layers provided by Keras [here](https://keras.io/api/layers/).\n",
    "\n",
    "We will also use the optional parameter `name` to give a name to each of the layers, as we will need to identify layers during testing your model architecture."
   ]
  },
  {
   "cell_type": "markdown",
   "metadata": {
    "deletable": false,
    "editable": false,
    "nbgrader": {
     "cell_type": "markdown",
     "checksum": "089b1dc655ec953f069982224f0c60f6",
     "grade": false,
     "grade_id": "cell-0d7fd529b66bc80e",
     "locked": true,
     "schema_version": 3,
     "solution": false,
     "task": false
    }
   },
   "source": [
    "<a id='St4'></a>\n",
    "<div class=\" alert alert-warning\">\n",
    "    <h3><b>Student task.</b> Build a CNN.</h3>\n",
    "        \n",
    "Your task is to build a Convolutional Neural Network using sequential API from Keras. [Here](https://keras.io/guides/sequential_model/) you can find some examples of using sequential API.\n",
    "    \n",
    "CNN should consist of the following layers:\n",
    "    \n",
    "   - **conv layer** with 16 kernels of size 3x3 and activation function ReLU. \n",
    "       The output of this layer should have the same height/width dimension as the input.\n",
    "       For the first convolutional layer, you also need to indicate the appropriate input shape (param `input_shape`).\n",
    "       You should name this layer 'cv1'. \n",
    "\n",
    "   - **conv layer** with 16 kernels of size 3x3 and activation function ReLU. \n",
    "       The output of this layer should have the same height/width dimension as the input.\n",
    "       You should name this layer 'cv2'.\n",
    "\n",
    "   - **max pooling layer** with kernel size 2x2.\n",
    "       You should name this layer 'maxpool'.\n",
    "\n",
    "   - **flattening layer**\n",
    "       You should name this layer 'flatten'.\n",
    "\n",
    "   - **dense layer** with 64 units and activation function ReLU. \n",
    "       You should name this layer 'dense'.\n",
    "\n",
    "   - **dense output layer** with 10 units and softmax activation function.\n",
    "       You should name this layer 'output'.\n",
    "    \n",
    "</div>"
   ]
  },
  {
   "cell_type": "markdown",
   "metadata": {
    "deletable": false,
    "editable": false,
    "nbgrader": {
     "cell_type": "markdown",
     "checksum": "bc5b2ce18c19f659c32451c4a6a99848",
     "grade": false,
     "grade_id": "cell-aa177baea35fd92a",
     "locked": true,
     "schema_version": 3,
     "solution": false,
     "task": false
    }
   },
   "source": [
    "<div class=\"info\">\n",
    "    <div  class=\"info-title\"><i class=\"fa fa-info-circle\" aria-hidden=\"true\"></i>&nbsp; Info</div><br>\n",
    "    <div class=\"wrap-up-content\">You can verify the architecture of CNN by printing out a summary of your model with <code>model.summary()</code>. In addition, it will automatically compute the number of the model's parameters.<br><br>There is another useful function which allows to inspect model visually - <code>tf.keras.utils.plot_model</code> <a href=\"https://keras.io/api/utils/model_plotting_utils/\">docs</a>. It plots the graph of the model and saves it to the file, e.g.:\n",
    "   \n",
    "```python\n",
    ">>> tf.keras.utils.plot_model(\n",
    "                              model, \n",
    "                              show_shapes=True, \n",
    "                              show_layer_names=True\n",
    "                             )\n",
    "```\n",
    "\n",
    "</div>   \n",
    "</div>"
   ]
  },
  {
   "cell_type": "code",
   "execution_count": 20,
   "metadata": {
    "deletable": false,
    "nbgrader": {
     "cell_type": "code",
     "checksum": "c7a4831f0868d28f5ea6e03bb9e94065",
     "grade": false,
     "grade_id": "cell-221d5144a0103cf8",
     "locked": false,
     "schema_version": 3,
     "solution": true,
     "task": false
    }
   },
   "outputs": [],
   "source": [
    "# YOUR CODE HERE\n",
    "#raise NotImplementedError()\n",
    "\n",
    "# define the model architecture using Sequential API\n",
    "# model = tf.keras.models.Sequential(...\n",
    "#        ...\n",
    "#        ...)\n",
    "model = tf.keras.models.Sequential([\n",
    "    # conv block\n",
    "    tf.keras.layers.Conv2D(16,3, padding = \"same\", activation = 'relu', input_shape = [28,28,1], name = \"cv1\"),\n",
    "    tf.keras.layers.Conv2D(16,3, padding = \"same\", activation = 'relu', name = \"cv2\"),\n",
    "    tf.keras.layers.MaxPool2D(pool_size = 2, name = \"maxpool\"),\n",
    "    tf.keras.layers.Flatten(name = \"flatten\"),\n",
    "    tf.keras.layers.Dense(64, 'relu', name = \"dense\"),\n",
    "    tf.keras.layers.Dense(10, 'softmax', name = \"output\")\n",
    "])"
   ]
  },
  {
   "cell_type": "code",
   "execution_count": 21,
   "metadata": {},
   "outputs": [
    {
     "name": "stdout",
     "output_type": "stream",
     "text": [
      "Fontconfig error: Cannot load default config file: No such file: (null)\n",
      "\n"
     ]
    },
    {
     "data": {
      "image/png": "[encoded data removed]",
      "text/plain": [
       "<IPython.core.display.Image object>"
      ]
     },
     "execution_count": 21,
     "metadata": {},
     "output_type": "execute_result"
    }
   ],
   "source": [
    "tf.keras.utils.plot_model(\n",
    "                              model, \n",
    "                              show_shapes=True, \n",
    "                              show_layer_names=True\n",
    "                             )"
   ]
  },
  {
   "cell_type": "code",
   "execution_count": 22,
   "metadata": {
    "deletable": false,
    "editable": false,
    "nbgrader": {
     "cell_type": "code",
     "checksum": "77536546c3c6bb56d72295ca71995243",
     "grade": false,
     "grade_id": "cell-9aa6a42a6b2a85ac",
     "locked": true,
     "schema_version": 3,
     "solution": false,
     "task": false
    }
   },
   "outputs": [
    {
     "name": "stdout",
     "output_type": "stream",
     "text": [
      "Sanity checks passed!\n"
     ]
    }
   ],
   "source": [
    "# Perform some sanity checks on the solution\n",
    "assert len(model.layers) == 6, \"There should be 6 layers!\"\n",
    "assert model.layers[0].input_shape[1:] == (28,28,1), \"Input shape is wrong\"\n",
    "assert model.layers[0].output_shape[1:] == (28,28,16), \"Output shape is wrong\"\n",
    "\n",
    "print(\"Sanity checks passed!\")"
   ]
  },
  {
   "cell_type": "code",
   "execution_count": 148,
   "metadata": {
    "deletable": false,
    "editable": false,
    "nbgrader": {
     "cell_type": "code",
     "checksum": "d9faa950310f8d2a1f20bd47b4ba9a6a",
     "grade": true,
     "grade_id": "cell-a704d0816154c903",
     "locked": true,
     "points": 2,
     "schema_version": 3,
     "solution": false,
     "task": false
    },
    "tags": []
   },
   "outputs": [],
   "source": [
    "# this cell is for tests\n"
   ]
  },
  {
   "cell_type": "markdown",
   "metadata": {
    "deletable": false,
    "editable": false,
    "nbgrader": {
     "cell_type": "markdown",
     "checksum": "2f0d75e86a1952fec4e712efb993c4cf",
     "grade": false,
     "grade_id": "cell-0c58582dc3a0967c",
     "locked": true,
     "schema_version": 3,
     "solution": false,
     "task": false
    }
   },
   "source": [
    "### Step 3 - Compile a model (here we choose a loss function)\n",
    "\n",
    "In order to find optimal values for the CNN weights, we use `sparse_categorical_crossentropy` loss function. "
   ]
  },
  {
   "cell_type": "markdown",
   "metadata": {
    "deletable": false,
    "editable": false,
    "nbgrader": {
     "cell_type": "markdown",
     "checksum": "6d4a5a48b4cb8e1101f52f2fa2ac90f0",
     "grade": false,
     "grade_id": "cell-b6f8a59f59e2f1b7",
     "locked": true,
     "schema_version": 3,
     "solution": false,
     "task": false
    }
   },
   "source": [
    "<div class=\"info\">\n",
    "    <div  class=\"info-title\"><i class=\"fa fa-info-circle\" aria-hidden=\"true\"></i>&nbsp; Info</div><br>\n",
    "    <div class=\"wrap-up-content\">\n",
    "        We use <code>categorical_crossentropy</code> loss function for multiclass classification & when labels are provided in one-hot representation. Use <code>sparse_categorical_crossentropy</code> when you want to provide labels as integers.\n",
    "\n",
    "What are the differences? In principle none, as they both compute categorical cross-entropy, but read more <a href=\"https://stackoverflow.com/questions/58565394/what-is-the-difference-between-sparse-categorical-crossentropy-and-categorical-c\">here</a>.\n",
    "    </div>   \n",
    "</div>"
   ]
  },
  {
   "cell_type": "markdown",
   "metadata": {
    "deletable": false,
    "editable": false,
    "nbgrader": {
     "cell_type": "markdown",
     "checksum": "3e64f742ba5ed6cb3fd6684fc5542123",
     "grade": false,
     "grade_id": "cell-9770b9d15547e3ff",
     "locked": true,
     "schema_version": 3,
     "solution": false,
     "task": false
    }
   },
   "source": [
    "<a id='St5'></a>\n",
    "<div class=\" alert alert-warning\">\n",
    "    <h3><b>Student task.</b> Compile the model.</h3>\n",
    "        \n",
    "Your task is to compile a model with `sparse_categorical_crossentropy` loss, RMSprop optimizer, and `sparse_categorical_accuracy` as metrics.\n",
    "\n",
    "You can specify optimizer RMSprop as follows: `optimizer='RMSprop'` or `optimizer=tf.keras.optimizers.RMSprop`.\n",
    "\n",
    "RMSprop optimization algorithm is preferable to stochastic gradient descent (SGD) because RMSprop automates learning rate tuning. Other optimizers, such as Adam and Adagrad, also automatically adapt the learning rate during training and would work equally well here.\n",
    "    \n",
    "</div>"
   ]
  },
  {
   "cell_type": "code",
   "execution_count": 23,
   "metadata": {
    "deletable": false,
    "nbgrader": {
     "cell_type": "code",
     "checksum": "c64cbd2137702cb65ad49dd7cff3bdd9",
     "grade": false,
     "grade_id": "cell-604df74a707dea2b",
     "locked": false,
     "schema_version": 3,
     "solution": true,
     "task": false
    }
   },
   "outputs": [],
   "source": [
    "# YOUR CODE HERE\n",
    "#raise NotImplementedError()\n",
    "\n",
    "# model.compile(...\n",
    "#               ...)\n",
    "model.compile(optimizer='RMSprop',\n",
    "              loss='sparse_categorical_crossentropy',\n",
    "              metrics='sparse_categorical_accuracy')"
   ]
  },
  {
   "cell_type": "code",
   "execution_count": 31,
   "metadata": {
    "deletable": false,
    "editable": false,
    "nbgrader": {
     "cell_type": "code",
     "checksum": "9c682050c3b1b10f6008fc27a2b750a1",
     "grade": true,
     "grade_id": "cell-ac303a266a371e98",
     "locked": true,
     "points": 0.25,
     "schema_version": 3,
     "solution": false,
     "task": false
    }
   },
   "outputs": [],
   "source": [
    "# this cell is for tests\n"
   ]
  },
  {
   "cell_type": "code",
   "execution_count": null,
   "metadata": {
    "deletable": false,
    "editable": false,
    "nbgrader": {
     "cell_type": "code",
     "checksum": "ab640c18e3c007da06553d9338fdd44b",
     "grade": true,
     "grade_id": "cell-2b61dd817f888b4b",
     "locked": true,
     "points": 0.25,
     "schema_version": 3,
     "solution": false,
     "task": false
    }
   },
   "outputs": [],
   "source": [
    "# hidden test\n"
   ]
  },
  {
   "cell_type": "markdown",
   "metadata": {
    "deletable": false,
    "editable": false,
    "nbgrader": {
     "cell_type": "markdown",
     "checksum": "6b2968df2a06f10ea44f9e2a1b271278",
     "grade": false,
     "grade_id": "cell-e81c7e98b9a22602",
     "locked": true,
     "schema_version": 3,
     "solution": false,
     "task": false
    }
   },
   "source": [
    "### Step 4 - Train the network\n",
    "\n",
    "Train CNN for about 20 epochs - this may take some minutes to run.\n",
    "\n",
    "Loss and accuracy are good indicators of learning progress. The model makes predictions for the training data and then the loss is calculated comparing the predictions against the known labels, and accuracy, which is the proportion of correct guesses."
   ]
  },
  {
   "cell_type": "markdown",
   "metadata": {
    "deletable": false,
    "editable": false,
    "nbgrader": {
     "cell_type": "markdown",
     "checksum": "d35ab51d72763e5fbe47f9ad488d6fcf",
     "grade": false,
     "grade_id": "cell-59d9c30f98117695",
     "locked": true,
     "schema_version": 3,
     "solution": false,
     "task": false
    }
   },
   "source": [
    "<a id='St6'></a>\n",
    "<div class=\" alert alert-warning\">\n",
    "    <h3><b>Student task.</b> Train the model.</h3>\n",
    "        \n",
    "Your task is to [train a model](https://keras.io/api/models/model_training_apis/#fit-method).\n",
    "    \n",
    "- Use training and validation datasets (batch size=32). \n",
    "- Check accuracy of a trained model on a test dataset by calling [`evaluate` method](https://keras.io/api/models/model_training_apis/#evaluate-method). Use batch_size=128 parameter.\n",
    "- Save your model as `model.save('model.h5')`.\n",
    "    \n",
    "</div>\n",
    "\n",
    "<div class=\" alert alert-danger\">\n",
    "    <h3 align='center'><b>Accuracy on a test set should be $\\geq$ 0.85</b></h3>\n",
    "</div>"
   ]
  },
  {
   "cell_type": "code",
   "execution_count": 24,
   "metadata": {},
   "outputs": [],
   "source": [
    "# set trainig=False when validating or submitting notebook\n",
    "# and set training=True, when training network\n",
    "training=True"
   ]
  },
  {
   "cell_type": "code",
   "execution_count": 16,
   "metadata": {
    "deletable": false,
    "editable": false,
    "nbgrader": {
     "cell_type": "code",
     "checksum": "08795b0eb096076e82da4aa3c56b58cd",
     "grade": true,
     "grade_id": "cell-0012c2cd9a0e71cf",
     "locked": true,
     "points": 0,
     "schema_version": 3,
     "solution": false,
     "task": false
    }
   },
   "outputs": [],
   "source": [
    "# this hidden cell is for setting flag training=False\n"
   ]
  },
  {
   "cell_type": "code",
   "execution_count": 25,
   "metadata": {
    "deletable": false,
    "nbgrader": {
     "cell_type": "code",
     "checksum": "38746a4328d83519661a379b4813f562",
     "grade": false,
     "grade_id": "cell-254e1ab987f9822a",
     "locked": false,
     "schema_version": 3,
     "solution": true,
     "task": false
    }
   },
   "outputs": [
    {
     "name": "stdout",
     "output_type": "stream",
     "text": [
      "Accuracy on test dataset: 0.881600022315979\n",
      "Test_loss: 0.8304518461227417\n",
      "CPU times: user 13min 21s, sys: 1min 17s, total: 14min 39s\n",
      "Wall time: 3min 40s\n"
     ]
    }
   ],
   "source": [
    "%%time \n",
    "if training:\n",
    "        \n",
    "# YOUR CODE HERE\n",
    "#raise NotImplementedError()\n",
    "    # use .fit() method to train a model\n",
    "    # use X_train, y_train for training and\n",
    "    # X_val, y_val as validation set\n",
    "    # history = ...\n",
    "    history = model.fit(X_train, y_train, validation_data = (X_val, y_val), batch_size = 32, validation_batch_size = 32, epochs=20, verbose=0)\n",
    "    model.save('model.h5')\n",
    "else: \n",
    "    model = tf.keras.models.load_model(\"model.h5\")\n",
    "\n",
    "# evaluate a model\n",
    "test_loss, test_accuracy = model.evaluate(X_test, y_test, batch_size = 128, verbose=0)\n",
    "print('Accuracy on test dataset:', test_accuracy)\n",
    "print('Test_loss:', test_loss)"
   ]
  },
  {
   "cell_type": "code",
   "execution_count": 26,
   "metadata": {
    "deletable": false,
    "editable": false,
    "nbgrader": {
     "cell_type": "code",
     "checksum": "f160a935bf3f4de89d32d33bc266ce7f",
     "grade": false,
     "grade_id": "cell-25762a199c7b50e0",
     "locked": true,
     "schema_version": 3,
     "solution": false,
     "task": false
    }
   },
   "outputs": [
    {
     "data": {
      "image/png": "[encoded data removed]",
      "text/plain": [
       "<Figure size 432x288 with 1 Axes>"
      ]
     },
     "metadata": {
      "needs_background": "light"
     },
     "output_type": "display_data"
    }
   ],
   "source": [
    "import pandas as pd\n",
    "\n",
    "if training:\n",
    "    # plot training log\n",
    "    pd.DataFrame(history.history).plot(figsize=(6,4))\n",
    "    plt.grid(True)\n",
    "    plt.show()"
   ]
  },
  {
   "cell_type": "code",
   "execution_count": 56,
   "metadata": {
    "deletable": false,
    "editable": false,
    "nbgrader": {
     "cell_type": "code",
     "checksum": "680311d8e516b29cdf15872799dd2ecc",
     "grade": true,
     "grade_id": "cell-4a72274f241df0a2",
     "locked": true,
     "points": 2,
     "schema_version": 3,
     "solution": false,
     "task": false
    }
   },
   "outputs": [],
   "source": [
    "# this cell is for tests\n"
   ]
  },
  {
   "cell_type": "markdown",
   "metadata": {
    "deletable": false,
    "editable": false,
    "nbgrader": {
     "cell_type": "markdown",
     "checksum": "39454b10706c233f6c73c36bea7e3b27",
     "grade": false,
     "grade_id": "cell-657c45ae014242e3",
     "locked": true,
     "schema_version": 3,
     "solution": false,
     "task": false
    }
   },
   "source": [
    "## Visualizing the activation maps of  convolutional layers\n",
    "\n",
    "In this section we plot the activation maps of a particular CNN layer ([docs](https://keras.io/getting_started/faq/#how-can-i-obtain-the-output-of-an-intermediate-layer-feature-extraction)). Visualizing the activation of individual layer helps to understand how the input is decomposed into some relevant pixel patterns within an image or in other words, what local patterns the layer is learning. \n",
    "\n",
    "The idea is to select the specific layer(s) of the trained model (with tuned weights), pass input, and get outputs of the selected layer(s). In order to manipulate specific layers of a model, we need to use a more flexible API. [Functional API](https://keras.io/guides/functional_api/) allows to build complex models and manipulate over selected layers.\n",
    "\n",
    "In contrast to Sequential model, with Functional API we can create models with multiple inputs and outputs and complex graph topologies. Below is an example of a model with concatenated layers, created with Functional API. "
   ]
  },
  {
   "cell_type": "code",
   "execution_count": 27,
   "metadata": {
    "deletable": false,
    "editable": false,
    "nbgrader": {
     "cell_type": "code",
     "checksum": "6abc9fb92d04a933e774d06e02d24be8",
     "grade": false,
     "grade_id": "cell-2b472169910cf9de",
     "locked": true,
     "schema_version": 3,
     "solution": false,
     "task": false
    }
   },
   "outputs": [
    {
     "name": "stdout",
     "output_type": "stream",
     "text": [
      "Fontconfig error: Cannot load default config file: No such file: (null)\n",
      "\n"
     ]
    },
    {
     "data": {
      "image/png": "[encoded data removed]",
      "text/plain": [
       "<IPython.core.display.Image object>"
      ]
     },
     "execution_count": 27,
     "metadata": {},
     "output_type": "execute_result"
    }
   ],
   "source": [
    "# define input layer\n",
    "in_layer = tf.keras.layers.Input(shape=X_train.shape[1:])\n",
    "\n",
    "# define hidden layers and its inputs as\n",
    "# current_layer = tf.keras.layers.Dense(*args)(previous_layer)\n",
    "hidden_1 = tf.keras.layers.Dense(32, activation='relu')(in_layer)\n",
    "hidden_2 = tf.keras.layers.Dense(32, activation='relu')(hidden_1) \n",
    "\n",
    "# combine two inputs\n",
    "concat   = tf.keras.layers.Concatenate()([in_layer, hidden_2]) \n",
    "# define output layer\n",
    "out      = tf.keras.layers.Dense(1, activation='relu')(concat) \n",
    "\n",
    "# define model with functional API\n",
    "model_Func_API = tf.keras.Model(inputs=[in_layer], outputs=[out])\n",
    "\n",
    "# plot graph\n",
    "tf.keras.utils.plot_model(\n",
    "    model_Func_API, \n",
    "    show_shapes=True, \n",
    "    show_layer_names=True\n",
    "    )"
   ]
  },
  {
   "cell_type": "markdown",
   "metadata": {
    "deletable": false,
    "editable": false,
    "nbgrader": {
     "cell_type": "markdown",
     "checksum": "5ab50064de0e5f912960849c35e95617",
     "grade": false,
     "grade_id": "cell-e1a95b74e5e5df51",
     "locked": true,
     "schema_version": 3,
     "solution": false,
     "task": false
    }
   },
   "source": [
    "In our case, we are analyzing an already existing trained model therefore we use input and output layers defined in that model:"
   ]
  },
  {
   "cell_type": "code",
   "execution_count": 28,
   "metadata": {
    "deletable": false,
    "editable": false,
    "nbgrader": {
     "cell_type": "code",
     "checksum": "301dbd8caff593cea2aab3434c77a6fc",
     "grade": false,
     "grade_id": "cell-fd5e021b201f3ede",
     "locked": true,
     "schema_version": 3,
     "solution": false,
     "task": false
    }
   },
   "outputs": [],
   "source": [
    "# input layer\n",
    "in_layer = model.input\n",
    "# all other layers\n",
    "layers = [layer.output for layer in model.layers]\n",
    "\n",
    "# create a model with functional API\n",
    "activation_model = tf.keras.models.Model(inputs = in_layer, outputs = layers)"
   ]
  },
  {
   "cell_type": "markdown",
   "metadata": {
    "deletable": false,
    "editable": false,
    "nbgrader": {
     "cell_type": "markdown",
     "checksum": "b90542590f39a959f617727438332037",
     "grade": false,
     "grade_id": "cell-b9f1e34534167ca6",
     "locked": true,
     "schema_version": 3,
     "solution": false,
     "task": false
    }
   },
   "source": [
    "We have the **same** model as before, but now we can pass the input and access output of each layer separately. With Sequential API we were only able to see the output of the last layer. Let's pass some input to the model:"
   ]
  },
  {
   "cell_type": "code",
   "execution_count": 29,
   "metadata": {
    "deletable": false,
    "editable": false,
    "nbgrader": {
     "cell_type": "code",
     "checksum": "5fcd17316bd13df0cdd40aaedc9ca447",
     "grade": false,
     "grade_id": "cell-a2d24ef8043d32f1",
     "locked": true,
     "schema_version": 3,
     "solution": false,
     "task": false
    }
   },
   "outputs": [
    {
     "data": {
      "image/png": "[encoded data removed]",
      "text/plain": [
       "<Figure size 432x288 with 1 Axes>"
      ]
     },
     "metadata": {
      "needs_background": "light"
     },
     "output_type": "display_data"
    }
   ],
   "source": [
    "# this is the image whose feature map we will visualize\n",
    "plt.imshow(X_test[0], cmap='gray')\n",
    "plt.show()\n",
    "\n",
    "# pass input and get feature maps of the image\n",
    "activation = activation_model(X_test[0].reshape(1, 28, 28, 1))"
   ]
  },
  {
   "cell_type": "markdown",
   "metadata": {
    "deletable": false,
    "editable": false,
    "nbgrader": {
     "cell_type": "markdown",
     "checksum": "689cf99436cf78438399575d05c15fce",
     "grade": false,
     "grade_id": "cell-3f1c2bf305ddb944",
     "locked": true,
     "schema_version": 3,
     "solution": false,
     "task": false
    }
   },
   "source": [
    "This is how we can retrieve feature maps of the first convolution layer:"
   ]
  },
  {
   "cell_type": "code",
   "execution_count": 30,
   "metadata": {
    "deletable": false,
    "editable": false,
    "nbgrader": {
     "cell_type": "code",
     "checksum": "2767bb37b86fa0b4ff627d1e6afb065f",
     "grade": false,
     "grade_id": "cell-17d487726137235f",
     "locked": true,
     "schema_version": 3,
     "solution": false,
     "task": false
    }
   },
   "outputs": [
    {
     "name": "stdout",
     "output_type": "stream",
     "text": [
      "(1, 28, 28, 16)\n"
     ]
    }
   ],
   "source": [
    "first_layer_activation = activation[0] \n",
    "print(first_layer_activation.shape)"
   ]
  },
  {
   "cell_type": "markdown",
   "metadata": {
    "deletable": false,
    "editable": false,
    "nbgrader": {
     "cell_type": "markdown",
     "checksum": "2a0642417d921095d9b0bcc66db9dbad",
     "grade": false,
     "grade_id": "cell-98fecb6969754f79",
     "locked": true,
     "schema_version": 3,
     "solution": false,
     "task": false
    }
   },
   "source": [
    "The outputs of the first convolution layer are activation maps of size $28 \\times 28 \\times 16$. There are $16$ activation maps that correspond to the different kernels we apply to the input image. The code snippet below displays activation maps of the first convolutional layer. "
   ]
  },
  {
   "cell_type": "code",
   "execution_count": 31,
   "metadata": {
    "deletable": false,
    "editable": false,
    "nbgrader": {
     "cell_type": "code",
     "checksum": "6c73f9e993bd21a0203062adfb2855de",
     "grade": false,
     "grade_id": "cell-b232f4aae9d7b530",
     "locked": true,
     "schema_version": 3,
     "solution": false,
     "task": false
    }
   },
   "outputs": [
    {
     "data": {
      "image/png": "[encoded data removed]",
      "text/plain": [
       "<Figure size 1152x1152 with 16 Axes>"
      ]
     },
     "metadata": {
      "needs_background": "light"
     },
     "output_type": "display_data"
    }
   ],
   "source": [
    "# visuale activation maps of the first convolutional layer\n",
    "plt.figure(figsize=(16,16))\n",
    "\n",
    "for i in range(first_layer_activation.shape[-1]):\n",
    "    plt.subplot(8,8,i+1)\n",
    "    plt.axis('off') # remove ticks\n",
    "    plt.imshow(first_layer_activation[0, :, :, i], cmap='gray')\n",
    "    plt.title('act. map '+ str(i+1))\n",
    "\n",
    "plt.show()"
   ]
  },
  {
   "cell_type": "markdown",
   "metadata": {
    "deletable": false,
    "editable": false,
    "nbgrader": {
     "cell_type": "markdown",
     "checksum": "4dee087439fb15e63efe46be26f90b96",
     "grade": false,
     "grade_id": "cell-cc7312dc44a84dad",
     "locked": true,
     "schema_version": 3,
     "solution": false,
     "task": false
    }
   },
   "source": [
    "Each kernel encodes relatively independent features of the input image. We can see that the first convolutional layer has learned lower-level features/patterns from the image, such as various edges. \n",
    "\n",
    "Now, let's go deeper into the network and select activation maps after max pooling."
   ]
  },
  {
   "cell_type": "code",
   "execution_count": 32,
   "metadata": {
    "deletable": false,
    "editable": false,
    "nbgrader": {
     "cell_type": "code",
     "checksum": "de33008f03fb8e0d93727819ef539316",
     "grade": false,
     "grade_id": "cell-5ae4dc1b157c6209",
     "locked": true,
     "schema_version": 3,
     "solution": false,
     "task": false
    }
   },
   "outputs": [
    {
     "name": "stdout",
     "output_type": "stream",
     "text": [
      "(1, 14, 14, 16)\n"
     ]
    }
   ],
   "source": [
    "third_layer_activation = activation[2] \n",
    "print(third_layer_activation.shape)"
   ]
  },
  {
   "cell_type": "code",
   "execution_count": 33,
   "metadata": {
    "deletable": false,
    "editable": false,
    "nbgrader": {
     "cell_type": "code",
     "checksum": "a0a3b14a85090ecdb330bec0ea2484ee",
     "grade": false,
     "grade_id": "cell-da67b69a88cf8313",
     "locked": true,
     "schema_version": 3,
     "solution": false,
     "task": false
    }
   },
   "outputs": [
    {
     "data": {
      "image/png": "[encoded data removed]",
      "text/plain": [
       "<Figure size 1152x1152 with 16 Axes>"
      ]
     },
     "metadata": {
      "needs_background": "light"
     },
     "output_type": "display_data"
    }
   ],
   "source": [
    "# visuale activation maps of after max pooling layer\n",
    "plt.figure(figsize=(16,16))\n",
    "\n",
    "for i in range(third_layer_activation.shape[-1]):\n",
    "    plt.subplot(8,8,i+1)\n",
    "    plt.axis('off') # remove ticks\n",
    "    plt.imshow(third_layer_activation[0, :, :, i], cmap='gray')\n",
    "    plt.title('act. map '+ str(i+1))\n",
    "\n",
    "plt.show()"
   ]
  },
  {
   "cell_type": "markdown",
   "metadata": {
    "deletable": false,
    "editable": false,
    "nbgrader": {
     "cell_type": "markdown",
     "checksum": "e1e87a006a600813e2521847feb30845",
     "grade": false,
     "grade_id": "cell-015e052f34097a7d",
     "locked": true,
     "schema_version": 3,
     "solution": false,
     "task": false
    }
   },
   "source": [
    "Activations from deeper layers reveal that as we go deeper into the network, the features learned becomes less visually interpretable, meaning encoding the higher-level feature/pattern of an object.\n",
    "\n",
    "You can plot activation maps for different clothing categories and check if those will be different from what we observe here."
   ]
  },
  {
   "cell_type": "markdown",
   "metadata": {
    "deletable": false,
    "editable": false,
    "nbgrader": {
     "cell_type": "markdown",
     "checksum": "d1b2a04cda9e7aa444635d5bce6c800d",
     "grade": false,
     "grade_id": "cell-0408008465b19fca",
     "locked": true,
     "schema_version": 3,
     "solution": false,
     "task": false
    }
   },
   "source": [
    "##  Accuracy Prediction on Test Set \n",
    "\n",
    "We can also inspect which items the CNN predicted incorrectly. Sometimes it is useful to manually check which type of images are misclassified as this might give a hint on how to improve the model."
   ]
  },
  {
   "cell_type": "code",
   "execution_count": 34,
   "metadata": {
    "deletable": false,
    "editable": false,
    "nbgrader": {
     "cell_type": "code",
     "checksum": "4a9904be898930959a7173daf414aa7c",
     "grade": false,
     "grade_id": "cell-cea8a7e02cb0a70d",
     "locked": true,
     "schema_version": 3,
     "solution": false,
     "task": false
    }
   },
   "outputs": [],
   "source": [
    "# get predicted probabilities for all 10 classes\n",
    "predicted_proba = model(X_test.reshape(-1,28,28,1))\n",
    "\n",
    "# get index of a class with highest probability\n",
    "predicted_classes  = np.argmax(predicted_proba, axis=-1)"
   ]
  },
  {
   "cell_type": "code",
   "execution_count": 35,
   "metadata": {
    "deletable": false,
    "editable": false,
    "nbgrader": {
     "cell_type": "code",
     "checksum": "fe346b141113116d268bf0663c8760dc",
     "grade": false,
     "grade_id": "cell-41686541dd836a12",
     "locked": true,
     "schema_version": 3,
     "solution": false,
     "task": false
    }
   },
   "outputs": [
    {
     "name": "stdout",
     "output_type": "stream",
     "text": [
      "Correct predicted classes: 8816\n",
      "Incorrect predicted classes: 1184\n"
     ]
    }
   ],
   "source": [
    "# get the total correct and incorrect prediction from the predict class\n",
    "correct = np.nonzero(predicted_classes == y_test)[0]\n",
    "incorrect = np.nonzero(predicted_classes != y_test)[0]\n",
    "\n",
    "print(\"Correct predicted classes:\", correct.shape[0])\n",
    "print(\"Incorrect predicted classes:\", incorrect.shape[0])"
   ]
  },
  {
   "cell_type": "code",
   "execution_count": 36,
   "metadata": {
    "deletable": false,
    "editable": false,
    "nbgrader": {
     "cell_type": "code",
     "checksum": "ea0cd200b780d9079dc4dd1fb7581158",
     "grade": false,
     "grade_id": "cell-22d78deef06d574e",
     "locked": true,
     "schema_version": 3,
     "solution": false,
     "task": false
    }
   },
   "outputs": [],
   "source": [
    "# map each images labels to item name\n",
    "class_names = ['T-shirt/top', 'Trouser', 'Pullover', 'Dress', 'Coat',\n",
    "               'Sandal', 'Shirt', 'Sneaker', 'Bag', 'Ankle boot']"
   ]
  },
  {
   "cell_type": "markdown",
   "metadata": {
    "deletable": false,
    "editable": false,
    "nbgrader": {
     "cell_type": "markdown",
     "checksum": "c9559a6fa2cf3b27ecdad2de363bbef2",
     "grade": false,
     "grade_id": "cell-c5801fde9d36cd00",
     "locked": true,
     "schema_version": 3,
     "solution": false,
     "task": false
    }
   },
   "source": [
    "Below we use `classification_report` function from sklearn to make a text report showing the main classification metrics:"
   ]
  },
  {
   "cell_type": "code",
   "execution_count": 37,
   "metadata": {
    "deletable": false,
    "editable": false,
    "nbgrader": {
     "cell_type": "code",
     "checksum": "8fef7b18acfb000af2f56b2b774a4738",
     "grade": false,
     "grade_id": "cell-457dab1dcd32ad18",
     "locked": true,
     "schema_version": 3,
     "solution": false,
     "task": false
    }
   },
   "outputs": [
    {
     "name": "stdout",
     "output_type": "stream",
     "text": [
      "                         precision    recall  f1-score   support\n",
      "\n",
      "Class 0 (T-shirt/top) :       0.80      0.86      0.83      1000\n",
      "    Class 1 (Trouser) :       0.99      0.96      0.98      1000\n",
      "   Class 2 (Pullover) :       0.86      0.75      0.80      1000\n",
      "      Class 3 (Dress) :       0.87      0.90      0.89      1000\n",
      "       Class 4 (Coat) :       0.76      0.87      0.81      1000\n",
      "     Class 5 (Sandal) :       0.98      0.94      0.96      1000\n",
      "      Class 6 (Shirt) :       0.73      0.64      0.68      1000\n",
      "    Class 7 (Sneaker) :       0.93      0.95      0.94      1000\n",
      "        Class 8 (Bag) :       0.95      0.97      0.96      1000\n",
      " Class 9 (Ankle boot) :       0.95      0.96      0.96      1000\n",
      "\n",
      "               accuracy                           0.88     10000\n",
      "              macro avg       0.88      0.88      0.88     10000\n",
      "           weighted avg       0.88      0.88      0.88     10000\n",
      "\n"
     ]
    }
   ],
   "source": [
    "target_names = [f\"Class {i} ({class_names[i]}) :\" for i in range(10)]\n",
    "print(classification_report(y_test, predicted_classes, target_names = target_names))"
   ]
  },
  {
   "cell_type": "code",
   "execution_count": 39,
   "metadata": {
    "deletable": false,
    "editable": false,
    "nbgrader": {
     "cell_type": "code",
     "checksum": "7c11818ad052204e3aefd102b1c6986d",
     "grade": false,
     "grade_id": "cell-750b75113aac1335",
     "locked": true,
     "schema_version": 3,
     "solution": false,
     "task": false
    }
   },
   "outputs": [
    {
     "data": {
      "image/png": "[encoded data removed]",
      "text/plain": [
       "<Figure size 504x504 with 9 Axes>"
      ]
     },
     "metadata": {
      "needs_background": "light"
     },
     "output_type": "display_data"
    }
   ],
   "source": [
    "def plot_images(data_index):\n",
    "    '''\n",
    "        This is a function to plot first 9 images.    \n",
    "        data_index: indices of images.\n",
    "    \n",
    "    '''\n",
    "    # plot the sample images \n",
    "    f, ax = plt.subplots(3,3, figsize=(7,7))\n",
    "\n",
    "    for i, indx in enumerate(data_index[:9]):\n",
    "        ax[i//3, i%3].imshow(X_test[indx].reshape(28,28), cmap='gray')\n",
    "        ax[i//3, i%3].axis('off')\n",
    "        ax[i//3, i%3].set_title(\"True:{}  Pred:{}\".format(class_names[y_test[indx]],class_names[predicted_classes[indx]]), fontsize=8)\n",
    "    plt.show()    \n",
    "\n",
    "# display correctly classified images\n",
    "plot_images(correct)"
   ]
  },
  {
   "cell_type": "code",
   "execution_count": 40,
   "metadata": {
    "deletable": false,
    "editable": false,
    "nbgrader": {
     "cell_type": "code",
     "checksum": "4b19cd354a70dc9ad2601a4a99a1384f",
     "grade": false,
     "grade_id": "cell-7c03e3592b6fa0ee",
     "locked": true,
     "schema_version": 3,
     "solution": false,
     "task": false
    }
   },
   "outputs": [
    {
     "data": {
      "image/png": "[encoded data removed]",
      "text/plain": [
       "<Figure size 504x504 with 9 Axes>"
      ]
     },
     "metadata": {
      "needs_background": "light"
     },
     "output_type": "display_data"
    }
   ],
   "source": [
    "# display incorrectly classified images\n",
    "plot_images(incorrect)"
   ]
  },
  {
   "cell_type": "markdown",
   "metadata": {
    "deletable": false,
    "editable": false,
    "nbgrader": {
     "cell_type": "markdown",
     "checksum": "ad683b8dcdd1e01a7815e4002ab881fc",
     "grade": false,
     "grade_id": "cell-6e72a3304cd80ecf",
     "locked": true,
     "schema_version": 3,
     "solution": false,
     "task": false
    }
   },
   "source": [
    "<h1><center>CNN in the real life</center></h1>"
   ]
  },
  {
   "cell_type": "markdown",
   "metadata": {
    "deletable": false,
    "editable": false,
    "nbgrader": {
     "cell_type": "markdown",
     "checksum": "0492e9e634f810a505d92d2a55e1d22c",
     "grade": false,
     "grade_id": "cell-a94c679cc6811f4d",
     "locked": true,
     "schema_version": 3,
     "solution": false,
     "task": false
    },
    "tags": []
   },
   "source": [
    "<h2>Tesla Autopilot</h2>\n",
    "<img src=\"https://media0.giphy.com/media/H7rpSYHRyYgamxQNqw/giphy.gif?cid=ecf05e47nlvqm3fsj7afzjxq2ajephtz1o0rwjts7l8lddpg&rid=giphy.gif&ct=g\" width=\"520\" height=\"300\" align=\"right\" style=\"margin-left:25px;\"/>\n",
    "<img src=\"https://upload.wikimedia.org/wikipedia/commons/b/bb/Tesla_T_symbol.svg\" width=\"64\" height=\"64\" align=\"left\" style=\"margin-right:15px;\"></img>\n",
    "\n",
    "[Tesla](https://www.tesla.com) is an American car manufacturer with the mission to accelerate the world's transition to sustainable energy. They produce electric cars that are efficient, beautiful and above all, powerful computing machines. You may have seen promotional videos of the Teslas driving by themselves (check this one [Full Self-Driving](https://www.youtube.com/watch?v=tlThdr3O5Qo)), a feature called [Autopilot](https://www.tesla.com/autopilot).\n",
    "\n",
    "To be able to have a reliable autopilot, they need to process a lot of information in real-time: speed, traffic signs, road conditions, presence of pedestrians, etc.  As you may have inferred, this requires a lot of image processing. At its core, they use the convolutional layers studied in this round but with modifications in the architecture of the network.\n",
    "\n",
    "The details of their neural network architecture is beyond the scope of this Introduction to Deep Learning, but if you are curious about the theory behind Tesla's success, you can read these papers, both of them available through Aalto's library:\n",
    "\n",
    "* He, K., Zhang, X., Ren, S. and Sun, J., 2016. **Deep residual learning for image recognition**. In Proceedings of the IEEE conference on computer vision and pattern recognition (pp. 770-778).\n",
    "\n",
    "* Radosavovic, I., Kosaraju, R.P., Girshick, R., He, K. and Dollár, P., 2020. **Designing network design spaces**. In Proceedings of the IEEE/CVF Conference on Computer Vision and Pattern Recognition (pp. 10428-10436).\n",
    "\n",
    "A more detailed explanation is given by [Andrej Karpathy](https://karpathy.ai/), lead of the computer vision team of the Autopilot in the conference [Tesla AI Day](https://www.youtube.com/watch?v=j0z4FweCy4M&t=2924s)."
   ]
  },
  {
   "cell_type": "markdown",
   "metadata": {
    "deletable": false,
    "editable": false,
    "nbgrader": {
     "cell_type": "markdown",
     "checksum": "8a7ae9cfc806ec69d58a8f547537a649",
     "grade": false,
     "grade_id": "cell-2a8813a503f61d23",
     "locked": true,
     "schema_version": 3,
     "solution": false,
     "task": false
    }
   },
   "source": [
    "<h2>Pinterest Shop The Look</h2>\n",
    "\n",
    "<img src=\"https://upload.wikimedia.org/wikipedia/commons/0/08/Pinterest-logo.png\" width=\"64\" height=\"64\" align=\"left\" style=\"margin-right:15px;\"/>\n",
    "\n",
    "<img src=\"https://media0.giphy.com/media/l4FGyfggJVpjOaTks/giphy.gif?cid=790b761114cc9a89d47285a139de860555649b72a9d02c69&rid=giphy.gif&ct=g\" align=\"right\" style=\"margin-left:15px;\" width=\"230\" />\n",
    "\n",
    "[Pinterest](https://www.pinterest.com/) is an American image sharing and social media service designed to enable saving and discovery of information on the internet by using images. It has a large user base, with over 478 million monthly active users globally as of March 2021 <sup>[[1](https://www.socialmediatoday.com/news/pinterest-rises-to-478-million-users-posts-strong-revenue-result-for-q1/599166/)]</sup>. Among its many features, there is one that allows you to search and buy items similar to the ones found in your pins (images) called [Shop The Look](https://newsroom.pinterest.com/en/post/introducing-the-next-wave-of-visual-search-and-shopping). In the blog post [Automating Shop the Look on Pinterest](https://medium.com/pinterest-engineering/automating-shop-the-look-on-pinterest-a17aeff0eae2), they explain how having a human doing the manual work of matching image and product links didn't scale given the large number of images in their platform.\n",
    "To overcome this situation, they trained a Feature Pyramid Network Faster R-CNN detection model that parses scenes into objects and annotates them with product categories. This process was divided into three stages:\n",
    "\n",
    "1. Data collection: pre-processing step needed to ensure high quality data\n",
    "2. Machine learning (ML) modeling: train the model to identify and localize home decor objects in a scene. Once trained, the model will classify the objects into categories and it will represent them as [embeddings](https://arxiv.org/pdf/1811.12649.pdf). This representation makes the search for similar images easier.\n",
    "3. Model serving: take the user image and make suggestions as shown in the animation on the right.\n",
    "\n",
    "You can find the theory behind the neural network used to implement this feature in the papers:\n",
    "* Shaoqing Ren et al. (2017) **Faster R-CNN: Towards Real-Time Object Detection with Region Proposal Networks**. IEEE transactions on pattern analysis and machine intelligence. [Online] 39 (6), 1137–1149.\n",
    "* Lin TY, Dollár P, Girshick R, He K, Hariharan B, Belongie S. **Feature pyramid networks for object detection**. InProceedings of the IEEE conference on computer vision and pattern recognition 2017 (pp. 2117-2125).\n",
    "* R. Girshick, J. Donahue, T. Darrell and J. Malik, **Rich Feature Hierarchies for Accurate Object Detection and Semantic Segmentation**, 2014 IEEE Conference on Computer Vision and Pattern Recognition, 2014, pp. 580-587, doi: 10.1109/CVPR.2014.81.\n"
   ]
  },
  {
   "cell_type": "markdown",
   "metadata": {
    "deletable": false,
    "editable": false,
    "nbgrader": {
     "cell_type": "markdown",
     "checksum": "d472bed4dd52f36cee917ccc765b1ae8",
     "grade": false,
     "grade_id": "cell-2cbc7544f4a6ddcf",
     "locked": true,
     "schema_version": 3,
     "solution": false,
     "task": false
    }
   },
   "source": [
    "<h2>Facebook</h2>\n",
    "\n",
    "<img src=\"https://upload.wikimedia.org/wikipedia/commons/f/fb/Facebook_icon_2013.svg\" width=\"100\" height=\"100\" align=\"left\" style=\"margin-right:15px;\"/>\n",
    "\n",
    "\n",
    "[Facebook](https://www.facebook.com/) is an American online social media and social networking service founded by Mark Zuckerberg in 2004. The [Facebook, Inc.](https://about.facebook.com/company-info/) company owns many products present in our daily life: [Instagram](https://www.instagram.com/), [Messenger](https://www.messenger.com/), [Whatsapp](https://www.whatsapp.com/?lang=en), [Oculus](https://www.oculus.com/), [Novi](https://www.novi.com/). Image processing is at the core of Facebook: image classification, image captioning, image-based search, etc. In the website [Facebook AI](https://ai.facebook.com/) you will find several papers, tools and articles explaining the company's usage of Machine Learning.\n",
    "\n",
    "The usage of CNN is everywhere, for example, Instagram uses it for their [Explore recommender system](https://ai.facebook.com/blog/powered-by-ai-instagrams-explore-recommender-system/). [Facebook Marketplace](https://www.facebook.com/marketplace) combines image processing and Natural Language Processing for the recommendation system. They use a video and image understanding platform called [Lumos](https://engineering.fb.com/2017/02/02/ml-applications/building-scalable-systems-to-understand-content/) which helps them answer questions like \"What is in the image?\" and \"Where are the objects?\".\n",
    "\n",
    "You can read a more detailed explanation in this article: [Under the hood: Facebook Marketplace powered by artificial intelligence](https://ai.facebook.com/blog/under-the-hood-facebook-marketplace-powered-by-artificial-intelligence/)"
   ]
  },
  {
   "cell_type": "markdown",
   "metadata": {
    "deletable": false,
    "editable": false,
    "nbgrader": {
     "cell_type": "markdown",
     "checksum": "a97c1991d08fb4181897c5d3a3dc230f",
     "grade": false,
     "grade_id": "cell-bdd2e3be27edd531",
     "locked": true,
     "schema_version": 3,
     "solution": false,
     "task": false
    }
   },
   "source": [
    "</br>\n",
    "<h2><strong>The sky's the limit</strong></h2>\n",
    "\n",
    "There are many other companies using the basic building blocks of CNN studied in this round. There are many libraries and frameworks available like the [NVIDIA DRIVE®](https://www.nvidia.com/en-us/self-driving-cars/drive-videos/) <sup>[[1](https://developer.nvidia.com/drive/downloads)]</sup> for autonomous driving or [Facebook's Detectron2](https://github.com/facebookresearch/detectron2) for object detection, segmentation and other visual recognition tasks. Now you have the foundations for understanding the basics of all those systems and for applying CNN to a new revolutionary product! "
   ]
  },
  {
   "cell_type": "markdown",
   "metadata": {
    "deletable": false,
    "editable": false,
    "nbgrader": {
     "cell_type": "markdown",
     "checksum": "378bc85aeafc26e693db27e646c703b2",
     "grade": false,
     "grade_id": "cell-95fb61b3948b897e",
     "locked": true,
     "schema_version": 3,
     "solution": false,
     "task": false
    }
   },
   "source": [
    "## Quiz"
   ]
  },
  {
   "cell_type": "markdown",
   "metadata": {
    "deletable": false,
    "editable": false,
    "nbgrader": {
     "cell_type": "markdown",
     "checksum": "9bbcb30a01c20cc687d5370c5c1b4bc6",
     "grade": false,
     "grade_id": "cell-e9ef4ba4cbb74ad9",
     "locked": true,
     "schema_version": 3,
     "solution": false,
     "task": false
    }
   },
   "source": [
    "<div class=\" alert alert-warning\">\n",
    "     <h3><b>Question 3.1.</h3>\n",
    "\n",
    "Each convolutional layer is characterized by the parameters \"padding\" P and \"stride\" S. Choose a correct statement:\n",
    "\n",
    "1. Increasing the value of padding P results in a smaller output. \n",
    "\n",
    "2. Increasing the stride S results in a smaller output. \n",
    "\n",
    "3. Increasing the stride S results in a larger output. \n",
    "         \n",
    "</div>"
   ]
  },
  {
   "cell_type": "code",
   "execution_count": 41,
   "metadata": {
    "deletable": false,
    "nbgrader": {
     "cell_type": "code",
     "checksum": "b3591e9217a3a7c2d22a5118f177cfee",
     "grade": false,
     "grade_id": "cell-45466e667a00eaba",
     "locked": false,
     "schema_version": 3,
     "solution": true,
     "task": false
    }
   },
   "outputs": [],
   "source": [
    "# remove the line raise NotImplementedError() before testing your solution and submitting code\n",
    "\n",
    "# YOUR CODE HERE\n",
    "#raise NotImplementedError()\n",
    "\n",
    "answer_31  = 2"
   ]
  },
  {
   "cell_type": "code",
   "execution_count": 42,
   "metadata": {
    "deletable": false,
    "editable": false,
    "nbgrader": {
     "cell_type": "code",
     "checksum": "707109802ea440ef708fe7c78191b24a",
     "grade": true,
     "grade_id": "cell-a3db1ef8b8151280",
     "locked": true,
     "points": 0.3,
     "schema_version": 3,
     "solution": false,
     "task": false
    }
   },
   "outputs": [
    {
     "name": "stdout",
     "output_type": "stream",
     "text": [
      "Sanity check tests passed!\n"
     ]
    }
   ],
   "source": [
    "# This cell is for tests\n",
    "assert answer_31 in [1,2,3], '\"answer\" Value should be an integer between 1 and 3.'\n",
    "print('Sanity check tests passed!')\n"
   ]
  },
  {
   "cell_type": "markdown",
   "metadata": {
    "deletable": false,
    "editable": false,
    "nbgrader": {
     "cell_type": "markdown",
     "checksum": "8453ce0626c3e4466ad14641d85a0bcf",
     "grade": false,
     "grade_id": "cell-cbd2b130707135e4",
     "locked": true,
     "schema_version": 3,
     "solution": false,
     "task": false
    }
   },
   "source": [
    "<div class=\" alert alert-warning\">\n",
    "     <h3><b>Question 3.2.</h3>\n",
    "\n",
    "Choose the correct statement:\n",
    "\n",
    "1. The first layers (closer to the input) of CNN tend to learn complex features (such as the presence of a particular dog species). \n",
    "\n",
    "2. The first layers (closer to the input layer) of CNN tend to learn low-level features (such as the presence of edges or corners in the image). \n",
    "\n",
    "3. The last layers (further to the input layer) of CNN tend to learn low-level features (such as the presence of edges or corners in the image). \n",
    "         \n",
    "</div>"
   ]
  },
  {
   "cell_type": "code",
   "execution_count": 43,
   "metadata": {
    "deletable": false,
    "nbgrader": {
     "cell_type": "code",
     "checksum": "1f2c68755ce074ef753a5303e2f8c2a4",
     "grade": false,
     "grade_id": "cell-cf924ad3867cc004",
     "locked": false,
     "schema_version": 3,
     "solution": true,
     "task": false
    }
   },
   "outputs": [],
   "source": [
    "# remove the line raise NotImplementedError() before testing your solution and submitting code\n",
    "\n",
    "# YOUR CODE HERE\n",
    "#raise NotImplementedError()\n",
    "\n",
    "answer_32  = 2"
   ]
  },
  {
   "cell_type": "code",
   "execution_count": 44,
   "metadata": {
    "deletable": false,
    "editable": false,
    "nbgrader": {
     "cell_type": "code",
     "checksum": "e1529470e92d507fdf273627d5fd5b19",
     "grade": true,
     "grade_id": "cell-4e7b8eb6cdd2efbc",
     "locked": true,
     "points": 0.3,
     "schema_version": 3,
     "solution": false,
     "task": false
    }
   },
   "outputs": [
    {
     "name": "stdout",
     "output_type": "stream",
     "text": [
      "Sanity check tests passed!\n"
     ]
    }
   ],
   "source": [
    "# This cell is for tests\n",
    "assert answer_32 in [1,2,3], '\"answer\" Value should be an integer between 1 and 3.'\n",
    "print('Sanity check tests passed!')\n"
   ]
  },
  {
   "cell_type": "markdown",
   "metadata": {
    "deletable": false,
    "editable": false,
    "nbgrader": {
     "cell_type": "markdown",
     "checksum": "089a69caf3386d528bc9ebaf87242c51",
     "grade": false,
     "grade_id": "cell-31d8ad3beca1ad59",
     "locked": true,
     "schema_version": 3,
     "solution": false,
     "task": false
    }
   },
   "source": [
    "<div class=\" alert alert-warning\">\n",
    "     <h3><b>Question 3.3.</h3>\n",
    "\n",
    "Assume we apply a single convolutional layer to a grayscale image of size 128 by 128 pixels. What is the padding size needed to preserve the input size if we use stride=1 and a kernel size=3?\n",
    "\n",
    "Select one:\n",
    "\n",
    "1. padding is not needed\n",
    "\n",
    "2. padding=1\n",
    "\n",
    "3. padding=2\n",
    "\n",
    "4. padding=3\n",
    "</div>"
   ]
  },
  {
   "cell_type": "code",
   "execution_count": 51,
   "metadata": {
    "deletable": false,
    "nbgrader": {
     "cell_type": "code",
     "checksum": "5a0d022c6437499e9e76778b326dacce",
     "grade": false,
     "grade_id": "cell-a212cc6d634a4e0d",
     "locked": false,
     "schema_version": 3,
     "solution": true,
     "task": false
    }
   },
   "outputs": [],
   "source": [
    "# remove the line raise NotImplementedError() before testing your solution and submitting code\n",
    "\n",
    "# YOUR CODE HERE\n",
    "#raise NotImplementedError()\n",
    "answer_33  = 2"
   ]
  },
  {
   "cell_type": "code",
   "execution_count": 52,
   "metadata": {
    "deletable": false,
    "editable": false,
    "nbgrader": {
     "cell_type": "code",
     "checksum": "2e548f2490739be1241aadde4671d536",
     "grade": true,
     "grade_id": "cell-7270980b3f5119c7",
     "locked": true,
     "points": 0.3,
     "schema_version": 3,
     "solution": false,
     "task": false
    }
   },
   "outputs": [
    {
     "name": "stdout",
     "output_type": "stream",
     "text": [
      "Sanity check tests passed!\n"
     ]
    }
   ],
   "source": [
    "# This cell is for tests\n",
    "assert answer_33 in [1,2,3,4], '\"answer\" Value should be an integer between 1 and 4.'\n",
    "print('Sanity check tests passed!')\n"
   ]
  },
  {
   "cell_type": "markdown",
   "metadata": {
    "deletable": false,
    "editable": false,
    "nbgrader": {
     "cell_type": "markdown",
     "checksum": "5d7558844d7bab5cbd7038d06154d5f6",
     "grade": false,
     "grade_id": "cell-9e67797b693a86db",
     "locked": true,
     "schema_version": 3,
     "solution": false,
     "task": false
    }
   },
   "source": [
    "<div class=\" alert alert-warning\">\n",
    "     <h3><b>Question 3.4.</h3>\n",
    "\n",
    "Consider a convolutional layer with input shape (32,32,3), i.e., the input is images of 32 by 32 pixels and each pixel is characterized by 3 channels. The convolutional layer is configured with stride=1, padding=1, kernel size=5 and number of kernels=12. What is the shape of the output computed by the convolutional layer?\n",
    "Select one:\n",
    "\n",
    "1. (29,29,3)\n",
    "\n",
    "2. (29,29,12)\n",
    "\n",
    "3. (30,30,12)\n",
    "\n",
    "4. (28,28,3)\n",
    "         \n",
    "</div>"
   ]
  },
  {
   "cell_type": "code",
   "execution_count": 47,
   "metadata": {
    "deletable": false,
    "nbgrader": {
     "cell_type": "code",
     "checksum": "07f30b489327c21c322d05ca9cb5d36a",
     "grade": false,
     "grade_id": "cell-e7b394e0a9c0e3d1",
     "locked": false,
     "schema_version": 3,
     "solution": true,
     "task": false
    }
   },
   "outputs": [],
   "source": [
    "# remove the line raise NotImplementedError() before testing your solution and submitting code\n",
    "\n",
    "# YOUR CODE HERE\n",
    "#raise NotImplementedError()\n",
    "\n",
    "answer_34  = 3"
   ]
  },
  {
   "cell_type": "code",
   "execution_count": 48,
   "metadata": {
    "deletable": false,
    "editable": false,
    "nbgrader": {
     "cell_type": "code",
     "checksum": "75d16402cd29e1dc444bd10cc8756836",
     "grade": true,
     "grade_id": "cell-0a4ce8b2ea932637",
     "locked": true,
     "points": 0.3,
     "schema_version": 3,
     "solution": false,
     "task": false
    }
   },
   "outputs": [
    {
     "name": "stdout",
     "output_type": "stream",
     "text": [
      "Sanity check tests passed!\n"
     ]
    }
   ],
   "source": [
    "# This cell is for tests\n",
    "assert answer_34 in [1,2,3,4], '\"answer\" Value should be an integer between 1 and 4.'\n",
    "print('Sanity check tests passed!')\n"
   ]
  },
  {
   "cell_type": "markdown",
   "metadata": {
    "deletable": false,
    "editable": false,
    "nbgrader": {
     "cell_type": "markdown",
     "checksum": "5c1a997b977395deb69eb2bc5f6ced87",
     "grade": false,
     "grade_id": "cell-583732d90eeb6e79",
     "locked": true,
     "schema_version": 3,
     "solution": false,
     "task": false
    }
   },
   "source": [
    "<div class=\" alert alert-warning\">\n",
    "     <h3><b>Question 3.5.</h3>\n",
    "\n",
    "\n",
    "What is the number of tunable parameters (including bias) in a convolutional layer whose input shape is (32,32,3), kernel size is 3×3 and the number of kernels is 12?\n",
    "\n",
    "Select one:\n",
    "\n",
    "1. 336\n",
    "\n",
    "2. 42\n",
    "\n",
    "3. 3072\n",
    "\n",
    "4. 324\n",
    "         \n",
    "</div>"
   ]
  },
  {
   "cell_type": "code",
   "execution_count": 49,
   "metadata": {
    "deletable": false,
    "nbgrader": {
     "cell_type": "code",
     "checksum": "98aecb17d19b1eed5afb95a1acf5a2f5",
     "grade": false,
     "grade_id": "cell-c2b146e9cbccaf7f",
     "locked": false,
     "schema_version": 3,
     "solution": true,
     "task": false
    }
   },
   "outputs": [],
   "source": [
    "# remove the line raise NotImplementedError() before testing your solution and submitting code\n",
    "\n",
    "# YOUR CODE HERE\n",
    "#raise NotImplementedError()\n",
    "\n",
    "answer_35  = 1"
   ]
  },
  {
   "cell_type": "code",
   "execution_count": 50,
   "metadata": {
    "deletable": false,
    "editable": false,
    "nbgrader": {
     "cell_type": "code",
     "checksum": "9dadec18ce84cbee5e09561596ebfc55",
     "grade": true,
     "grade_id": "cell-c8be5de4af8f5e3d",
     "locked": true,
     "points": 0.3,
     "schema_version": 3,
     "solution": false,
     "task": false
    }
   },
   "outputs": [
    {
     "name": "stdout",
     "output_type": "stream",
     "text": [
      "Sanity check tests passed!\n"
     ]
    }
   ],
   "source": [
    "# This cell is for tests\n",
    "assert answer_35 in [1,2,3,4], '\"answer\" Value should be an integer between 1 and 4.'\n",
    "print('Sanity check tests passed!')\n"
   ]
  },
  {
   "cell_type": "code",
   "execution_count": null,
   "metadata": {},
   "outputs": [],
   "source": []
  }
 ],
 "metadata": {
  "kernelspec": {
   "display_name": "Python 3",
   "language": "python",
   "name": "python3"
  },
  "language_info": {
   "codemirror_mode": {
    "name": "ipython",
    "version": 3
   },
   "file_extension": ".py",
   "mimetype": "text/x-python",
   "name": "python",
   "nbconvert_exporter": "python",
   "pygments_lexer": "ipython3",
   "version": "3.9.5"
  },
  "toc": {
   "base_numbering": 1,
   "nav_menu": {},
   "number_sections": false,
   "sideBar": true,
   "skip_h1_title": false,
   "title_cell": "Table of Contents",
   "title_sidebar": "Contents",
   "toc_cell": false,
   "toc_position": {
    "height": "calc(100% - 180px)",
    "left": "10px",
    "top": "150px",
    "width": "358.125px"
   },
   "toc_section_display": true,
   "toc_window_display": true
  },
  "varInspector": {
   "cols": {
    "lenName": 16,
    "lenType": 16,
    "lenVar": 40
   },
   "kernels_config": {
    "python": {
     "delete_cmd_postfix": "",
     "delete_cmd_prefix": "del ",
     "library": "var_list.py",
     "varRefreshCmd": "print(var_dic_list())"
    },
    "r": {
     "delete_cmd_postfix": ") ",
     "delete_cmd_prefix": "rm(",
     "library": "var_list.r",
     "varRefreshCmd": "cat(var_dic_list()) "
    }
   },
   "types_to_exclude": [
    "module",
    "function",
    "builtin_function_or_method",
    "instance",
    "_Feature"
   ],
   "window_display": false
  }
 },
 "nbformat": 4,
 "nbformat_minor": 4
}
